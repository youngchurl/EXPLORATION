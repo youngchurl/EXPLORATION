{
 "cells": [
  {
   "cell_type": "markdown",
   "id": "7a5424bf",
   "metadata": {},
   "source": [
    "# [E-06] Movie Review"
   ]
  },
  {
   "cell_type": "markdown",
   "id": "f01f7eee",
   "metadata": {},
   "source": [
    "> 목차\n",
    "-\n",
    "\n",
    "\n",
    "**1. 개요**  \n",
    "    \n",
    "    1.1 프로젝트 과정 및 목표  \n",
    "\n",
    "**2. 루브릭 평가기준**  \n",
    "\n",
    "**3. Project**\n",
    "    \n",
    "    3.1 데이터 준비\n",
    "    3.2 데이터 로더 구성\n",
    "    3.3 모델 구성을 위한 데이터 분석 및 가공\n",
    "    3.4 모델 구성 및 Validation Set 구성\n",
    "    3.5 모델 훈련 개시\n",
    "    3.6 Loss, Accuracy 그래프 시각화\n",
    "    3.7 학습된 Embedding 레이어 분석\n",
    "    3.8 한국어 Word2Vec 임베딩 활용하여 성능 개선\n",
    "    3.9 다른 모델을 이용해 훈련\n",
    "\n",
    "\n",
    "**4. 회고**\n",
    "    \n",
    "    4.1 결과 평가  \n",
    "    4.2 어려웠던 점\n",
    "    "
   ]
  },
  {
   "cell_type": "markdown",
   "id": "e34db80a",
   "metadata": {},
   "source": [
    "---\n",
    "> **1. 개요**\n",
    "-"
   ]
  },
  {
   "cell_type": "markdown",
   "id": "18b25785",
   "metadata": {},
   "source": [
    "> **1.1 프로젝트 과정 및 목표**"
   ]
  },
  {
   "cell_type": "markdown",
   "id": "46577620",
   "metadata": {},
   "source": [
    "학습을 시켜서 연관된 단어가 나오도록 만드는게 프로젝트 목표이다.  \n",
    "\n",
    "프로젝트 과정은  \n",
    "1. 데이터 준비\n",
    "2. 데이터 로더 구성\n",
    "3. 모델 구성을 위한 데이터 분석 및 가공\n",
    "4. 모델 구성 및 Validation Set 구성\n",
    "5. 모델 훈련 개시\n",
    "6. Loss, Accuracy 그래프 시각화\n",
    "7. 학습된 Embedding 레이어 분석\n",
    "8. 한국어 Word2Vec 임베딩 활용하여 성능 개선\n",
    "\n",
    "\n"
   ]
  },
  {
   "cell_type": "markdown",
   "id": "94f87099",
   "metadata": {},
   "source": [
    "---\n",
    "> **2. 루브릭 평가기준**\n",
    "-"
   ]
  },
  {
   "cell_type": "markdown",
   "id": "06ae2a5b",
   "metadata": {},
   "source": [
    "|평가문항 | 상세기준|\n",
    "|:---------|:---------|\n",
    "|1. 다양한 방법으로 Text Classification 태스크를 성공적으로 구현하였다. | 3가지 이상의 모델이 성공적으로 시도됨|\n",
    "|2. gensim을 활용하여 자체학습된 혹은 사전학습된 임베딩 레이어를 분석하였다. | gensim의 유사단어 찾기를 활용하여 자체학습한 임베딩과 사전학습 임베딩을 적절히 분석함|\n",
    "|3. 한국어 Word2Vec을 활용하여 가시적인 성능향상을 달성했다.| 네이버 영화리뷰 데이터 감성분석 정확도를 85% 이상 달성함|"
   ]
  },
  {
   "cell_type": "markdown",
   "id": "7168a61a",
   "metadata": {},
   "source": [
    "---\n",
    "> **3. Project**\n",
    "-"
   ]
  },
  {
   "cell_type": "markdown",
   "id": "7a06a77e",
   "metadata": {},
   "source": [
    "> 3.1 데이터 준비하기"
   ]
  },
  {
   "cell_type": "code",
   "execution_count": 1,
   "id": "03144c73",
   "metadata": {
    "scrolled": true
   },
   "outputs": [
    {
     "data": {
      "text/html": [
       "<div>\n",
       "<style scoped>\n",
       "    .dataframe tbody tr th:only-of-type {\n",
       "        vertical-align: middle;\n",
       "    }\n",
       "\n",
       "    .dataframe tbody tr th {\n",
       "        vertical-align: top;\n",
       "    }\n",
       "\n",
       "    .dataframe thead th {\n",
       "        text-align: right;\n",
       "    }\n",
       "</style>\n",
       "<table border=\"1\" class=\"dataframe\">\n",
       "  <thead>\n",
       "    <tr style=\"text-align: right;\">\n",
       "      <th></th>\n",
       "      <th>id</th>\n",
       "      <th>document</th>\n",
       "      <th>label</th>\n",
       "    </tr>\n",
       "  </thead>\n",
       "  <tbody>\n",
       "    <tr>\n",
       "      <th>0</th>\n",
       "      <td>9976970</td>\n",
       "      <td>아 더빙.. 진짜 짜증나네요 목소리</td>\n",
       "      <td>0</td>\n",
       "    </tr>\n",
       "    <tr>\n",
       "      <th>1</th>\n",
       "      <td>3819312</td>\n",
       "      <td>흠...포스터보고 초딩영화줄....오버연기조차 가볍지 않구나</td>\n",
       "      <td>1</td>\n",
       "    </tr>\n",
       "    <tr>\n",
       "      <th>2</th>\n",
       "      <td>10265843</td>\n",
       "      <td>너무재밓었다그래서보는것을추천한다</td>\n",
       "      <td>0</td>\n",
       "    </tr>\n",
       "    <tr>\n",
       "      <th>3</th>\n",
       "      <td>9045019</td>\n",
       "      <td>교도소 이야기구먼 ..솔직히 재미는 없다..평점 조정</td>\n",
       "      <td>0</td>\n",
       "    </tr>\n",
       "    <tr>\n",
       "      <th>4</th>\n",
       "      <td>6483659</td>\n",
       "      <td>사이몬페그의 익살스런 연기가 돋보였던 영화!스파이더맨에서 늙어보이기만 했던 커스틴 ...</td>\n",
       "      <td>1</td>\n",
       "    </tr>\n",
       "  </tbody>\n",
       "</table>\n",
       "</div>"
      ],
      "text/plain": [
       "         id                                           document  label\n",
       "0   9976970                                아 더빙.. 진짜 짜증나네요 목소리      0\n",
       "1   3819312                  흠...포스터보고 초딩영화줄....오버연기조차 가볍지 않구나      1\n",
       "2  10265843                                  너무재밓었다그래서보는것을추천한다      0\n",
       "3   9045019                      교도소 이야기구먼 ..솔직히 재미는 없다..평점 조정      0\n",
       "4   6483659  사이몬페그의 익살스런 연기가 돋보였던 영화!스파이더맨에서 늙어보이기만 했던 커스틴 ...      1"
      ]
     },
     "execution_count": 1,
     "metadata": {},
     "output_type": "execute_result"
    }
   ],
   "source": [
    "import pandas as pd\n",
    "from konlpy.tag import Mecab\n",
    "import numpy as np\n",
    "from collections import Counter\n",
    "import tensorflow as tf\n",
    "import os\n",
    "import matplotlib as plt\n",
    "from gensim.models.word2vec import Word2Vec\n",
    "from konlpy.tag import Okt\n",
    "\n",
    "\n",
    "# 데이터를 읽어봅시다. \n",
    "train_data = pd.read_table('~/aiffel/sentiment_classification/data/ratings_train.txt')\n",
    "test_data = pd.read_table('~/aiffel/sentiment_classification/data/ratings_test.txt')\n",
    "\n",
    "train_data.head()"
   ]
  },
  {
   "cell_type": "code",
   "execution_count": 2,
   "id": "aa3b666f",
   "metadata": {},
   "outputs": [
    {
     "name": "stdout",
     "output_type": "stream",
     "text": [
      "150000\n"
     ]
    }
   ],
   "source": [
    "print(len(train_data))"
   ]
  },
  {
   "cell_type": "code",
   "execution_count": 3,
   "id": "915290c4",
   "metadata": {},
   "outputs": [
    {
     "name": "stdout",
     "output_type": "stream",
     "text": [
      "True\n"
     ]
    }
   ],
   "source": [
    "print(train_data.isnull().values.any())"
   ]
  },
  {
   "cell_type": "code",
   "execution_count": 4,
   "id": "e4481e7a",
   "metadata": {},
   "outputs": [
    {
     "name": "stdout",
     "output_type": "stream",
     "text": [
      "False\n"
     ]
    }
   ],
   "source": [
    "# Null 값이 존재하는 행 제거\n",
    "train_data = train_data.dropna(how = 'any')\n",
    "# Null 값이 존재하는지 확인\n",
    "print(train_data.isnull().values.any()) "
   ]
  },
  {
   "cell_type": "code",
   "execution_count": 5,
   "id": "36dd63c2",
   "metadata": {},
   "outputs": [
    {
     "name": "stdout",
     "output_type": "stream",
     "text": [
      "149995\n"
     ]
    }
   ],
   "source": [
    "print(len(train_data))"
   ]
  },
  {
   "cell_type": "markdown",
   "id": "8e5f1429",
   "metadata": {},
   "source": [
    "> 3.2 데이터로더 구성"
   ]
  },
  {
   "cell_type": "code",
   "execution_count": 6,
   "id": "c01e69ae",
   "metadata": {},
   "outputs": [],
   "source": [
    "tokenizer = Mecab()\n",
    "stopwords = ['의','가','이','은','들','는','좀','잘','걍','과','도','를','으로','자','에','와','한','하다']\n",
    "\n",
    "def load_data(train_data, test_data, num_words=10000):\n",
    "    train_data.drop_duplicates(subset=['document'], inplace=True)\n",
    "    train_data = train_data.dropna(how = 'any') \n",
    "    test_data.drop_duplicates(subset=['document'], inplace=True)\n",
    "    test_data = test_data.dropna(how = 'any') \n",
    "    \n",
    "    X_train = []\n",
    "    for sentence in train_data['document']:\n",
    "        temp_X = tokenizer.morphs(sentence) # 토큰화\n",
    "        temp_X = [word for word in temp_X if not word in stopwords] # 불용어 제거\n",
    "        X_train.append(temp_X)\n",
    "\n",
    "    X_test = []\n",
    "    for sentence in test_data['document']:\n",
    "        temp_X = tokenizer.morphs(sentence) # 토큰화\n",
    "        temp_X = [word for word in temp_X if not word in stopwords] # 불용어 제거\n",
    "        X_test.append(temp_X)\n",
    "    \n",
    "    words = np.concatenate(X_train).tolist()\n",
    "    counter = Counter(words)\n",
    "    counter = counter.most_common(10000-4)\n",
    "    vocab = ['', '', '', ''] + [key for key, _ in counter]\n",
    "    word_to_index = {word:index for index, word in enumerate(vocab)}\n",
    "        \n",
    "    def wordlist_to_indexlist(wordlist):\n",
    "        return [word_to_index[word] if word in word_to_index else word_to_index[''] for word in wordlist]\n",
    "        \n",
    "    X_train = list(map(wordlist_to_indexlist, X_train))\n",
    "    X_test = list(map(wordlist_to_indexlist, X_test))\n",
    "        \n",
    "    return X_train, np.array(list(train_data['label'])), X_test, np.array(list(test_data['label'])), word_to_index\n",
    "    \n",
    "X_train, y_train, X_test, y_test, word_to_index = load_data(train_data, test_data) "
   ]
  },
  {
   "cell_type": "code",
   "execution_count": 7,
   "id": "57584e61",
   "metadata": {},
   "outputs": [],
   "source": [
    "#실제 인코딩 인덱스는 제공된 word_to_index에서 index 기준으로 3씩 뒤로 밀려 있습니다.  \n",
    "word_to_index = {k:(v+3) for k,v in word_to_index.items()}\n",
    "\n",
    "# 처음 몇 개 인덱스는 사전에 정의되어 있습니다\n",
    "word_to_index[\"<PAD>\"] = 0\n",
    "word_to_index[\"<BOS>\"] = 1\n",
    "word_to_index[\"<UNK>\"] = 2  # unknown\n",
    "word_to_index[\"<UNUSED>\"] = 3\n",
    "\n",
    "index_to_word = {index:word for word, index in word_to_index.items()}"
   ]
  },
  {
   "cell_type": "code",
   "execution_count": 8,
   "id": "2b841992",
   "metadata": {},
   "outputs": [],
   "source": [
    "# 문장 1개를 활용할 딕셔너리와 함께 주면, 단어 인덱스 리스트 벡터로 변환해 주는 함수입니다. \n",
    "# 단, 모든 문장은 <BOS>로 시작하는 것으로 합니다. \n",
    "def get_encoded_sentence(sentence, word_to_index):\n",
    "    return [word_to_index['<BOS>']]+[word_to_index[word] if word in word_to_index else word_to_index['<UNK>'] for word in sentence.split()]\n",
    "\n",
    "# 여러 개의 문장 리스트를 한꺼번에 단어 인덱스 리스트 벡터로 encode해 주는 함수입니다. \n",
    "def get_encoded_sentences(sentences, word_to_index):\n",
    "    return [get_encoded_sentence(sentence, word_to_index) for sentence in sentences]\n",
    "\n",
    "# 숫자 벡터로 encode된 문장을 원래대로 decode하는 함수입니다. \n",
    "def get_decoded_sentence(encoded_sentence, index_to_word):\n",
    "    return ' '.join(index_to_word[index] if index in index_to_word else '<UNK>' for index in encoded_sentence[1:])  #[1:]를 통해 <BOS>를 제외\n",
    "\n",
    "# 여러 개의 숫자 벡터로 encode된 문장을 한꺼번에 원래대로 decode하는 함수입니다. \n",
    "def get_decoded_sentences(encoded_sentences, index_to_word):\n",
    "    return [get_decoded_sentence(encoded_sentence, index_to_word) for encoded_sentence in encoded_sentences]"
   ]
  },
  {
   "cell_type": "markdown",
   "id": "52f1f689",
   "metadata": {},
   "source": [
    "> 3.3 모델 구성을 위한 데이터 분석 및 가공"
   ]
  },
  {
   "cell_type": "code",
   "execution_count": 9,
   "id": "1687a5ea",
   "metadata": {},
   "outputs": [
    {
     "name": "stdout",
     "output_type": "stream",
     "text": [
      "문장길이 평균 :  15.96940191154864\n",
      "문장길이 최대 :  116\n",
      "문장길이 표준편차 :  12.843571191092\n",
      "pad_sequences maxlen :  41\n",
      "전체 문장의 0.9342988343341575%가 maxlen 설정값 이내에 포함됩니다. \n"
     ]
    }
   ],
   "source": [
    "total_data_text = list(X_train) + list(X_test)\n",
    "# 텍스트데이터 문장길이의 리스트를 생성한 후\n",
    "num_tokens = [len(tokens) for tokens in total_data_text]\n",
    "num_tokens = np.array(num_tokens)\n",
    "# 문장길이의 평균값, 최대값, 표준편차를 계산해 본다. \n",
    "print('문장길이 평균 : ', np.mean(num_tokens))\n",
    "print('문장길이 최대 : ', np.max(num_tokens))\n",
    "print('문장길이 표준편차 : ', np.std(num_tokens))\n",
    "\n",
    "# 예를들어, 최대 길이를 (평균 + 2*표준편차)로 한다면,  \n",
    "max_tokens = np.mean(num_tokens) + 2 * np.std(num_tokens)\n",
    "maxlen = int(max_tokens)\n",
    "print('pad_sequences maxlen : ', maxlen)\n",
    "print('전체 문장의 {}%가 maxlen 설정값 이내에 포함됩니다. '.format(np.sum(num_tokens < max_tokens) / len(num_tokens)))"
   ]
  },
  {
   "cell_type": "code",
   "execution_count": 10,
   "id": "43214c08",
   "metadata": {},
   "outputs": [
    {
     "name": "stdout",
     "output_type": "stream",
     "text": [
      "(146182, 41)\n"
     ]
    }
   ],
   "source": [
    "x_train = tf.keras.preprocessing.sequence.pad_sequences(X_train,\n",
    "                                                        value=word_to_index[\"<PAD>\"],\n",
    "                                                        padding='post', # 혹은 'pre'\n",
    "                                                        maxlen=maxlen)\n",
    "\n",
    "x_test = tf.keras.preprocessing.sequence.pad_sequences(X_test,\n",
    "                                                       value=word_to_index[\"<PAD>\"],\n",
    "                                                       padding='post', # 혹은 'pre'\n",
    "                                                       maxlen=maxlen)\n",
    "\n",
    "print(x_train.shape)"
   ]
  },
  {
   "cell_type": "code",
   "execution_count": 11,
   "id": "98009124",
   "metadata": {
    "scrolled": true
   },
   "outputs": [
    {
     "name": "stdout",
     "output_type": "stream",
     "text": [
      "Model: \"sequential\"\n",
      "_________________________________________________________________\n",
      "Layer (type)                 Output Shape              Param #   \n",
      "=================================================================\n",
      "embedding (Embedding)        (None, None, 16)          160000    \n",
      "_________________________________________________________________\n",
      "lstm (LSTM)                  (None, 8)                 800       \n",
      "_________________________________________________________________\n",
      "dense (Dense)                (None, 8)                 72        \n",
      "_________________________________________________________________\n",
      "dense_1 (Dense)              (None, 1)                 9         \n",
      "=================================================================\n",
      "Total params: 160,881\n",
      "Trainable params: 160,881\n",
      "Non-trainable params: 0\n",
      "_________________________________________________________________\n"
     ]
    }
   ],
   "source": [
    "vocab_size = 10000    # 어휘 사전의 크기입니다(10,000개의 단어)\n",
    "word_vector_dim = 16  # 워드 벡터의 차원 수 (변경 가능한 하이퍼파라미터)\n",
    "\n",
    "# model 설계 - 딥러닝 모델 코드를 직접 작성해 주세요.\n",
    "model = tf.keras.Sequential()\n",
    "model.add(tf.keras.layers.Embedding(vocab_size, word_vector_dim, input_shape=(None,)))\n",
    "model.add(tf.keras.layers.LSTM(8))   # 가장 널리 쓰이는 RNN인 LSTM 레이어를 사용하였습니다. 이때 LSTM state 벡터의 차원수는 8로 하였습니다. (변경 가능)\n",
    "model.add(tf.keras.layers.Dense(8, activation='relu'))\n",
    "model.add(tf.keras.layers.Dense(1, activation='sigmoid'))  # 최종 출력은 긍정/부정을 나타내는 1dim 입니다.\n",
    "\n",
    "model.summary()"
   ]
  },
  {
   "cell_type": "markdown",
   "id": "0ce239a6",
   "metadata": {},
   "source": [
    "> 3.4 모델 구성 및 Validation set 구성"
   ]
  },
  {
   "cell_type": "code",
   "execution_count": 12,
   "id": "26bf8a16",
   "metadata": {},
   "outputs": [
    {
     "name": "stdout",
     "output_type": "stream",
     "text": [
      "(116182, 41)\n",
      "(116182,)\n"
     ]
    }
   ],
   "source": [
    "# validation set 50000건 분리\n",
    "x_val = x_train[:30000]   \n",
    "y_val = y_train[:30000]\n",
    "\n",
    "# validation set을 제외한 나머지 96182건\n",
    "partial_x_train = x_train[30000:]  \n",
    "partial_y_train = y_train[30000:]\n",
    "\n",
    "print(partial_x_train.shape)\n",
    "print(partial_y_train.shape)"
   ]
  },
  {
   "cell_type": "markdown",
   "id": "2b6fa0a9",
   "metadata": {},
   "source": [
    "> 3.5 모델 훈련 개시"
   ]
  },
  {
   "cell_type": "code",
   "execution_count": 13,
   "id": "ad356f49",
   "metadata": {},
   "outputs": [
    {
     "name": "stdout",
     "output_type": "stream",
     "text": [
      "Epoch 1/20\n",
      "227/227 [==============================] - 5s 7ms/step - loss: 0.5562 - accuracy: 0.6945 - val_loss: 0.3747 - val_accuracy: 0.8402\n",
      "Epoch 2/20\n",
      "227/227 [==============================] - 1s 5ms/step - loss: 0.3481 - accuracy: 0.8532 - val_loss: 0.3469 - val_accuracy: 0.8488\n",
      "Epoch 3/20\n",
      "227/227 [==============================] - 1s 6ms/step - loss: 0.3211 - accuracy: 0.8651 - val_loss: 0.3500 - val_accuracy: 0.8493\n",
      "Epoch 4/20\n",
      "227/227 [==============================] - 1s 5ms/step - loss: 0.3105 - accuracy: 0.8699 - val_loss: 0.3621 - val_accuracy: 0.8433\n",
      "Epoch 5/20\n",
      "227/227 [==============================] - 1s 5ms/step - loss: 0.3036 - accuracy: 0.8731 - val_loss: 0.3534 - val_accuracy: 0.8487\n",
      "Epoch 6/20\n",
      "227/227 [==============================] - 1s 5ms/step - loss: 0.2971 - accuracy: 0.8759 - val_loss: 0.3541 - val_accuracy: 0.8505\n",
      "Epoch 7/20\n",
      "227/227 [==============================] - 1s 5ms/step - loss: 0.2899 - accuracy: 0.8786 - val_loss: 0.3533 - val_accuracy: 0.8485\n",
      "Epoch 8/20\n",
      "227/227 [==============================] - 1s 6ms/step - loss: 0.2830 - accuracy: 0.8816 - val_loss: 0.3633 - val_accuracy: 0.8494\n",
      "Epoch 9/20\n",
      "227/227 [==============================] - 1s 5ms/step - loss: 0.2749 - accuracy: 0.8834 - val_loss: 0.3686 - val_accuracy: 0.8487\n",
      "Epoch 10/20\n",
      "227/227 [==============================] - 1s 6ms/step - loss: 0.2654 - accuracy: 0.8855 - val_loss: 0.3707 - val_accuracy: 0.8492\n",
      "Epoch 11/20\n",
      "227/227 [==============================] - 1s 6ms/step - loss: 0.2568 - accuracy: 0.8876 - val_loss: 0.3820 - val_accuracy: 0.8487\n",
      "Epoch 12/20\n",
      "227/227 [==============================] - 1s 5ms/step - loss: 0.2467 - accuracy: 0.8908 - val_loss: 0.3998 - val_accuracy: 0.8477\n",
      "Epoch 13/20\n",
      "227/227 [==============================] - 1s 5ms/step - loss: 0.2395 - accuracy: 0.8927 - val_loss: 0.4187 - val_accuracy: 0.8469\n",
      "Epoch 14/20\n",
      "227/227 [==============================] - 1s 5ms/step - loss: 0.2340 - accuracy: 0.8947 - val_loss: 0.4104 - val_accuracy: 0.8460\n",
      "Epoch 15/20\n",
      "227/227 [==============================] - 1s 5ms/step - loss: 0.2277 - accuracy: 0.8963 - val_loss: 0.4255 - val_accuracy: 0.8467\n",
      "Epoch 16/20\n",
      "227/227 [==============================] - 1s 6ms/step - loss: 0.2219 - accuracy: 0.8990 - val_loss: 0.4460 - val_accuracy: 0.8436\n",
      "Epoch 17/20\n",
      "227/227 [==============================] - 1s 5ms/step - loss: 0.2173 - accuracy: 0.9010 - val_loss: 0.4489 - val_accuracy: 0.8449\n",
      "Epoch 18/20\n",
      "227/227 [==============================] - 1s 5ms/step - loss: 0.2120 - accuracy: 0.9034 - val_loss: 0.4642 - val_accuracy: 0.8449\n",
      "Epoch 19/20\n",
      "227/227 [==============================] - 1s 6ms/step - loss: 0.2071 - accuracy: 0.9059 - val_loss: 0.4651 - val_accuracy: 0.8376\n",
      "Epoch 20/20\n",
      "227/227 [==============================] - 1s 5ms/step - loss: 0.2037 - accuracy: 0.9077 - val_loss: 0.4730 - val_accuracy: 0.8399\n"
     ]
    }
   ],
   "source": [
    "model.compile(optimizer='adam',\n",
    "              loss='binary_crossentropy',\n",
    "              metrics=['accuracy'])\n",
    "              \n",
    "epochs=20  # 몇 epoch를 훈련하면 좋을지 결과를 보면서 바꾸어 봅시다. \n",
    "\n",
    "history = model.fit(partial_x_train,\n",
    "                    partial_y_train,\n",
    "                    epochs=epochs,\n",
    "                    batch_size=512,\n",
    "                    validation_data=(x_val, y_val),\n",
    "                    verbose=1)"
   ]
  },
  {
   "cell_type": "code",
   "execution_count": 14,
   "id": "40ce6f0c",
   "metadata": {},
   "outputs": [
    {
     "name": "stdout",
     "output_type": "stream",
     "text": [
      "1537/1537 - 3s - loss: 0.4765 - accuracy: 0.8350\n",
      "[0.47653308510780334, 0.8349980711936951]\n"
     ]
    }
   ],
   "source": [
    "results = model.evaluate(x_test,  y_test, verbose=2)\n",
    "\n",
    "print(results)"
   ]
  },
  {
   "cell_type": "code",
   "execution_count": 15,
   "id": "9096a3f0",
   "metadata": {},
   "outputs": [
    {
     "name": "stdout",
     "output_type": "stream",
     "text": [
      "dict_keys(['loss', 'accuracy', 'val_loss', 'val_accuracy'])\n"
     ]
    }
   ],
   "source": [
    "history_dict = history.history\n",
    "print(history_dict.keys()) # epoch에 따른 그래프를 그려볼 수 있는 항목들"
   ]
  },
  {
   "cell_type": "markdown",
   "id": "0ef4cdff",
   "metadata": {},
   "source": [
    "> 3.6 Loss, Accuracy 그래프 시각화"
   ]
  },
  {
   "cell_type": "code",
   "execution_count": 16,
   "id": "08f89046",
   "metadata": {},
   "outputs": [
    {
     "data": {
      "image/png": "[encoded data removed]",
      "text/plain": [
       "<Figure size 432x288 with 1 Axes>"
      ]
     },
     "metadata": {
      "needs_background": "light"
     },
     "output_type": "display_data"
    }
   ],
   "source": [
    "from matplotlib import pyplot as plt\n",
    "\n",
    "acc = history_dict['accuracy']\n",
    "val_acc = history_dict['val_accuracy']\n",
    "loss = history_dict['loss']\n",
    "val_loss = history_dict['val_loss']\n",
    "\n",
    "epochs = range(1, len(acc) + 1)\n",
    "\n",
    "# \"bo\"는 \"파란색 점\"입니다\n",
    "plt.plot(epochs, loss, 'bo', label='Training loss')\n",
    "# b는 \"파란 실선\"입니다\n",
    "plt.plot(epochs, val_loss, 'b', label='Validation loss')\n",
    "plt.title('Training and validation loss')\n",
    "plt.xlabel('Epochs')\n",
    "plt.ylabel('Loss')\n",
    "plt.legend()\n",
    "\n",
    "plt.show()"
   ]
  },
  {
   "cell_type": "code",
   "execution_count": 17,
   "id": "a7de5911",
   "metadata": {},
   "outputs": [
    {
     "data": {
      "image/png": "[encoded data removed]",
      "text/plain": [
       "<Figure size 432x288 with 1 Axes>"
      ]
     },
     "metadata": {
      "needs_background": "light"
     },
     "output_type": "display_data"
    }
   ],
   "source": [
    "plt.clf()   # 그림을 초기화합니다\n",
    "\n",
    "plt.plot(epochs, acc, 'bo', label='Training acc')\n",
    "plt.plot(epochs, val_acc, 'b', label='Validation acc')\n",
    "plt.title('Training and validation accuracy')\n",
    "plt.xlabel('Epochs')\n",
    "plt.ylabel('Accuracy')\n",
    "plt.legend()\n",
    "\n",
    "plt.show()"
   ]
  },
  {
   "cell_type": "markdown",
   "id": "ce748d1b",
   "metadata": {},
   "source": [
    "> 3.7 학습된 Embedding 레이어 분석"
   ]
  },
  {
   "cell_type": "code",
   "execution_count": 18,
   "id": "bbbdb8c6",
   "metadata": {},
   "outputs": [
    {
     "name": "stdout",
     "output_type": "stream",
     "text": [
      "(10000, 16)\n"
     ]
    }
   ],
   "source": [
    "embedding_layer = model.layers[0]\n",
    "weights = embedding_layer.get_weights()[0]\n",
    "print(weights.shape)    # shape: (vocab_size, embedding_dim)"
   ]
  },
  {
   "cell_type": "markdown",
   "id": "2bcbfdb2",
   "metadata": {},
   "source": [
    "> 3.8 한국어 Word2Vec 임베딩 활용하여 성능 개선"
   ]
  },
  {
   "cell_type": "code",
   "execution_count": 19,
   "id": "a74e5b40",
   "metadata": {},
   "outputs": [],
   "source": [
    "# 학습한 Embedding 파라미터를 파일에 써서 저장합니다. \n",
    "word2vec_file_path = os.getenv('HOME')+'/aiffel/sentiment_classification/data/word2vec.txt'\n",
    "f = open(word2vec_file_path, 'w')\n",
    "f.write('{} {}\\n'.format(vocab_size-6, word_vector_dim))  # 몇개의 벡터를 얼마 사이즈로 기재할지 타이틀을 씁니다.\n",
    "\n",
    "# 단어 개수(에서 특수문자 4개는 제외하고)만큼의 워드 벡터를 파일에 기록합니다. \n",
    "vectors = model.get_weights()[0]\n",
    "for i in range(6,vocab_size):\n",
    "    f.write('{} {}\\n'.format(index_to_word[i], ' '.join(map(str, list(vectors[i, :])))))\n",
    "f.close()"
   ]
  },
  {
   "cell_type": "code",
   "execution_count": 20,
   "id": "8249f32a",
   "metadata": {},
   "outputs": [
    {
     "data": {
      "text/plain": [
       "array([ 0.14694506,  0.10710593,  0.16412349, -0.1444246 , -0.12486319,\n",
       "       -0.13565116, -0.10851303, -0.11117005,  0.1975856 ,  0.21322756,\n",
       "       -0.12070678, -0.00439194, -0.07389111,  0.03491838, -0.09016784,\n",
       "        0.04366561], dtype=float32)"
      ]
     },
     "execution_count": 20,
     "metadata": {},
     "output_type": "execute_result"
    }
   ],
   "source": [
    "from gensim.models.keyedvectors import Word2VecKeyedVectors\n",
    "\n",
    "word_vectors = Word2VecKeyedVectors.load_word2vec_format(word2vec_file_path, binary=False)\n",
    "vector = word_vectors['사람']\n",
    "vector"
   ]
  },
  {
   "cell_type": "code",
   "execution_count": 21,
   "id": "e32bf1af",
   "metadata": {},
   "outputs": [
    {
     "data": {
      "text/plain": [
       "[('꼬마', 0.9273446202278137),\n",
       " ('역', 0.9028814435005188),\n",
       " ('프레임', 0.899718165397644),\n",
       " ('후유증', 0.8974853754043579),\n",
       " ('서유기', 0.8960239291191101),\n",
       " ('어처구니', 0.8943296074867249),\n",
       " ('~~~!!!', 0.8913761377334595),\n",
       " ('엽기', 0.891185998916626),\n",
       " ('나가', 0.8855347037315369),\n",
       " ('파괴', 0.8764195442199707)]"
      ]
     },
     "execution_count": 21,
     "metadata": {},
     "output_type": "execute_result"
    }
   ],
   "source": [
    "word_vectors.similar_by_word(\"마동석\")"
   ]
  },
  {
   "cell_type": "code",
   "execution_count": 22,
   "id": "0faf85fc",
   "metadata": {},
   "outputs": [
    {
     "data": {
      "text/plain": [
       "[('봅니다', 0.9073124527931213),\n",
       " ('토미', 0.8886330127716064),\n",
       " ('홍콩', 0.8822334408760071),\n",
       " ('정체', 0.8821280598640442),\n",
       " ('대세', 0.8791905641555786),\n",
       " ('최민식', 0.8756670355796814),\n",
       " ('ㅡ', 0.8738470077514648),\n",
       " ('경고', 0.8718730211257935),\n",
       " ('두근두근', 0.8591446876525879),\n",
       " ('쓰래', 0.8581293225288391)]"
      ]
     },
     "execution_count": 22,
     "metadata": {},
     "output_type": "execute_result"
    }
   ],
   "source": [
    "word_vectors.similar_by_word(\"어벤져스\")"
   ]
  },
  {
   "cell_type": "code",
   "execution_count": 23,
   "id": "4b4c6dcb",
   "metadata": {
    "scrolled": true
   },
   "outputs": [
    {
     "data": {
      "text/plain": [
       "[('조미료', 0.9623663425445557),\n",
       " ('도데체', 0.96131432056427),\n",
       " ('사위', 0.9579158425331116),\n",
       " ('행성', 0.9557459354400635),\n",
       " ('컨대', 0.9554974436759949),\n",
       " ('처한', 0.955390214920044),\n",
       " ('막힌', 0.9551834464073181),\n",
       " ('주름', 0.953252375125885),\n",
       " ('찰', 0.9529784917831421),\n",
       " ('느그', 0.9520553350448608)]"
      ]
     },
     "execution_count": 23,
     "metadata": {},
     "output_type": "execute_result"
    }
   ],
   "source": [
    "word_vectors.similar_by_word(\"좀비\")"
   ]
  },
  {
   "cell_type": "markdown",
   "id": "07650a50",
   "metadata": {},
   "source": [
    "> 3.9 다른 모델을 이용해서 훈련"
   ]
  },
  {
   "cell_type": "markdown",
   "id": "c9354855",
   "metadata": {},
   "source": [
    "## 1-D Convolution Neural Network(1-D CNN)"
   ]
  },
  {
   "cell_type": "code",
   "execution_count": 24,
   "id": "3b14f0e6",
   "metadata": {
    "scrolled": false
   },
   "outputs": [
    {
     "name": "stdout",
     "output_type": "stream",
     "text": [
      "Model: \"sequential_1\"\n",
      "_________________________________________________________________\n",
      "Layer (type)                 Output Shape              Param #   \n",
      "=================================================================\n",
      "embedding_1 (Embedding)      (None, None, 16)          160000    \n",
      "_________________________________________________________________\n",
      "conv1d (Conv1D)              (None, None, 16)          1808      \n",
      "_________________________________________________________________\n",
      "max_pooling1d (MaxPooling1D) (None, None, 16)          0         \n",
      "_________________________________________________________________\n",
      "conv1d_1 (Conv1D)            (None, None, 16)          1808      \n",
      "_________________________________________________________________\n",
      "global_max_pooling1d (Global (None, 16)                0         \n",
      "_________________________________________________________________\n",
      "dense_2 (Dense)              (None, 8)                 136       \n",
      "_________________________________________________________________\n",
      "dense_3 (Dense)              (None, 1)                 9         \n",
      "=================================================================\n",
      "Total params: 163,761\n",
      "Trainable params: 163,761\n",
      "Non-trainable params: 0\n",
      "_________________________________________________________________\n"
     ]
    }
   ],
   "source": [
    "vocab_size = 10000    # 어휘 사전의 크기입니다(10,000개의 단어)\n",
    "word_vector_dim = 16  # 워드 벡터의 차원 수 (변경 가능한 하이퍼파라미터)\n",
    "\n",
    "model = tf.keras.Sequential()\n",
    "model.add(tf.keras.layers.Embedding(vocab_size, word_vector_dim, input_shape=(None,)))\n",
    "model.add(tf.keras.layers.Conv1D(16, 7, activation='relu'))\n",
    "model.add(tf.keras.layers.MaxPooling1D(5))\n",
    "model.add(tf.keras.layers.Conv1D(16, 7, activation='relu'))\n",
    "model.add(tf.keras.layers.GlobalMaxPooling1D())\n",
    "model.add(tf.keras.layers.Dense(8, activation='relu'))\n",
    "model.add(tf.keras.layers.Dense(1, activation='sigmoid'))  # 최종 출력은 긍정/부정을 나타내는 1dim 입니다.\n",
    "\n",
    "model.summary()"
   ]
  },
  {
   "cell_type": "code",
   "execution_count": 25,
   "id": "c038f688",
   "metadata": {},
   "outputs": [
    {
     "name": "stdout",
     "output_type": "stream",
     "text": [
      "Epoch 1/20\n",
      "227/227 [==============================] - 3s 6ms/step - loss: 0.5484 - accuracy: 0.7018 - val_loss: 0.3714 - val_accuracy: 0.8373\n",
      "Epoch 2/20\n",
      "227/227 [==============================] - 1s 5ms/step - loss: 0.3417 - accuracy: 0.8554 - val_loss: 0.3490 - val_accuracy: 0.8481\n",
      "Epoch 3/20\n",
      "227/227 [==============================] - 1s 5ms/step - loss: 0.3101 - accuracy: 0.8708 - val_loss: 0.3417 - val_accuracy: 0.8533\n",
      "Epoch 4/20\n",
      "227/227 [==============================] - 1s 5ms/step - loss: 0.2902 - accuracy: 0.8810 - val_loss: 0.3436 - val_accuracy: 0.8533\n",
      "Epoch 5/20\n",
      "227/227 [==============================] - 1s 5ms/step - loss: 0.2718 - accuracy: 0.8904 - val_loss: 0.3436 - val_accuracy: 0.8533\n",
      "Epoch 6/20\n",
      "227/227 [==============================] - 1s 5ms/step - loss: 0.2486 - accuracy: 0.9018 - val_loss: 0.3522 - val_accuracy: 0.8518\n",
      "Epoch 7/20\n",
      "227/227 [==============================] - 1s 5ms/step - loss: 0.2222 - accuracy: 0.9147 - val_loss: 0.3698 - val_accuracy: 0.8496\n",
      "Epoch 8/20\n",
      "227/227 [==============================] - 1s 5ms/step - loss: 0.1933 - accuracy: 0.9289 - val_loss: 0.3977 - val_accuracy: 0.8464\n",
      "Epoch 9/20\n",
      "227/227 [==============================] - 1s 5ms/step - loss: 0.1646 - accuracy: 0.9410 - val_loss: 0.4321 - val_accuracy: 0.8413\n",
      "Epoch 10/20\n",
      "227/227 [==============================] - 1s 5ms/step - loss: 0.1387 - accuracy: 0.9524 - val_loss: 0.4807 - val_accuracy: 0.8371\n",
      "Epoch 11/20\n",
      "227/227 [==============================] - 1s 5ms/step - loss: 0.1172 - accuracy: 0.9612 - val_loss: 0.5189 - val_accuracy: 0.8359\n",
      "Epoch 12/20\n",
      "227/227 [==============================] - 1s 5ms/step - loss: 0.1003 - accuracy: 0.9674 - val_loss: 0.5733 - val_accuracy: 0.8320\n",
      "Epoch 13/20\n",
      "227/227 [==============================] - 1s 5ms/step - loss: 0.0862 - accuracy: 0.9728 - val_loss: 0.6274 - val_accuracy: 0.8277\n",
      "Epoch 14/20\n",
      "227/227 [==============================] - 1s 5ms/step - loss: 0.0749 - accuracy: 0.9768 - val_loss: 0.6600 - val_accuracy: 0.8269\n",
      "Epoch 15/20\n",
      "227/227 [==============================] - 1s 5ms/step - loss: 0.0666 - accuracy: 0.9796 - val_loss: 0.7095 - val_accuracy: 0.8241\n",
      "Epoch 16/20\n",
      "227/227 [==============================] - 1s 5ms/step - loss: 0.0596 - accuracy: 0.9818 - val_loss: 0.7619 - val_accuracy: 0.8217\n",
      "Epoch 17/20\n",
      "227/227 [==============================] - 1s 5ms/step - loss: 0.0542 - accuracy: 0.9834 - val_loss: 0.8003 - val_accuracy: 0.8225\n",
      "Epoch 18/20\n",
      "227/227 [==============================] - 1s 5ms/step - loss: 0.0494 - accuracy: 0.9853 - val_loss: 0.8736 - val_accuracy: 0.8226\n",
      "Epoch 19/20\n",
      "227/227 [==============================] - 1s 5ms/step - loss: 0.0457 - accuracy: 0.9864 - val_loss: 0.9332 - val_accuracy: 0.8204\n",
      "Epoch 20/20\n",
      "227/227 [==============================] - 1s 5ms/step - loss: 0.0431 - accuracy: 0.9869 - val_loss: 0.9290 - val_accuracy: 0.8187\n",
      "1537/1537 - 3s - loss: 0.9509 - accuracy: 0.8147\n",
      "[0.95086270570755, 0.814655065536499]\n"
     ]
    }
   ],
   "source": [
    "# validation set 50000건 분리\n",
    "x_val = x_train[:30000]   \n",
    "y_val = y_train[:30000]\n",
    "\n",
    "# validation set을 제외한 나머지 96182건\n",
    "partial_x_train = x_train[30000:]  \n",
    "partial_y_train = y_train[30000:]\n",
    "\n",
    "\n",
    "model.compile(optimizer='adam',\n",
    "              loss='binary_crossentropy',\n",
    "              metrics=['accuracy'])\n",
    "              \n",
    "epochs=20  # 몇 epoch를 훈련하면 좋을지 결과를 보면서 바꾸어 봅시다. \n",
    "\n",
    "history = model.fit(partial_x_train,\n",
    "                    partial_y_train,\n",
    "                    epochs=epochs,\n",
    "                    batch_size=512,\n",
    "                    validation_data=(x_val, y_val),\n",
    "                    verbose=1)\n",
    "\n",
    "results = model.evaluate(x_test,  y_test, verbose=2)\n",
    "\n",
    "print(results)\n"
   ]
  },
  {
   "cell_type": "code",
   "execution_count": 26,
   "id": "f944f960",
   "metadata": {},
   "outputs": [],
   "source": [
    "# 학습한 Embedding 파라미터를 파일에 써서 저장합니다. \n",
    "word2vec_file_path = os.getenv('HOME')+'/aiffel/sentiment_classification/data/word2vec.txt'\n",
    "f = open(word2vec_file_path, 'w')\n",
    "f.write('{} {}\\n'.format(vocab_size-6, word_vector_dim))  # 몇개의 벡터를 얼마 사이즈로 기재할지 타이틀을 씁니다.\n",
    "\n",
    "# 단어 개수(에서 특수문자 4개는 제외하고)만큼의 워드 벡터를 파일에 기록합니다. \n",
    "vectors = model.get_weights()[0]\n",
    "for i in range(6,vocab_size):\n",
    "    f.write('{} {}\\n'.format(index_to_word[i], ' '.join(map(str, list(vectors[i, :])))))\n",
    "f.close()"
   ]
  },
  {
   "cell_type": "code",
   "execution_count": 27,
   "id": "e7329e25",
   "metadata": {},
   "outputs": [],
   "source": [
    "from gensim.models.keyedvectors import Word2VecKeyedVectors\n",
    "\n",
    "word_vectors = Word2VecKeyedVectors.load_word2vec_format(word2vec_file_path, binary=False)\n",
    "vector = word_vectors['사람']"
   ]
  },
  {
   "cell_type": "code",
   "execution_count": 28,
   "id": "3e909fb7",
   "metadata": {},
   "outputs": [
    {
     "data": {
      "text/plain": [
       "[('네임', 0.8954653739929199),\n",
       " ('구조', 0.8816702961921692),\n",
       " ('낌', 0.8582437634468079),\n",
       " ('찜찜', 0.8548423647880554),\n",
       " ('붕', 0.8398119807243347),\n",
       " ('바이올린', 0.830985426902771),\n",
       " ('넘쳤', 0.8243061900138855),\n",
       " ('단조', 0.8191036581993103),\n",
       " ('향수', 0.8170067071914673),\n",
       " ('흔들리', 0.8102595210075378)]"
      ]
     },
     "execution_count": 28,
     "metadata": {},
     "output_type": "execute_result"
    }
   ],
   "source": [
    "word_vectors.similar_by_word(\"마동석\")"
   ]
  },
  {
   "cell_type": "code",
   "execution_count": 29,
   "id": "12a4a4e1",
   "metadata": {},
   "outputs": [
    {
     "data": {
      "text/plain": [
       "[('쩝', 0.8340057134628296),\n",
       " ('댓', 0.8147746324539185),\n",
       " ('여사', 0.8127694725990295),\n",
       " ('할게요', 0.8069168329238892),\n",
       " ('날라', 0.8037672638893127),\n",
       " ('떤', 0.7970177531242371),\n",
       " ('지치', 0.7870643734931946),\n",
       " ('에디', 0.7844506502151489),\n",
       " ('스타크래프트', 0.7827093601226807),\n",
       " ('끝나', 0.7788771986961365)]"
      ]
     },
     "execution_count": 29,
     "metadata": {},
     "output_type": "execute_result"
    }
   ],
   "source": [
    "word_vectors.similar_by_word(\"어벤져스\")"
   ]
  },
  {
   "cell_type": "code",
   "execution_count": 30,
   "id": "3aa1e69a",
   "metadata": {
    "scrolled": true
   },
   "outputs": [
    {
     "data": {
      "text/plain": [
       "[('혼합', 0.8611419796943665),\n",
       " ('비주얼', 0.8217021822929382),\n",
       " ('한결', 0.8167331218719482),\n",
       " ('비하', 0.8031924962997437),\n",
       " ('............', 0.7754606604576111),\n",
       " ('태극기', 0.7724000215530396),\n",
       " ('훼손', 0.7688872218132019),\n",
       " ('상영관', 0.7631894946098328),\n",
       " ('포장', 0.7607177495956421),\n",
       " ('사실감', 0.756860613822937)]"
      ]
     },
     "execution_count": 30,
     "metadata": {},
     "output_type": "execute_result"
    }
   ],
   "source": [
    "word_vectors.similar_by_word(\"좀비\")"
   ]
  },
  {
   "cell_type": "markdown",
   "id": "f96d238b",
   "metadata": {},
   "source": [
    "## GlobalMaxPooling1D()"
   ]
  },
  {
   "cell_type": "code",
   "execution_count": 31,
   "id": "8f477ad3",
   "metadata": {},
   "outputs": [
    {
     "name": "stdout",
     "output_type": "stream",
     "text": [
      "Model: \"sequential_2\"\n",
      "_________________________________________________________________\n",
      "Layer (type)                 Output Shape              Param #   \n",
      "=================================================================\n",
      "embedding_2 (Embedding)      (None, None, 16)          160000    \n",
      "_________________________________________________________________\n",
      "global_max_pooling1d_1 (Glob (None, 16)                0         \n",
      "_________________________________________________________________\n",
      "dense_4 (Dense)              (None, 8)                 136       \n",
      "_________________________________________________________________\n",
      "dense_5 (Dense)              (None, 1)                 9         \n",
      "=================================================================\n",
      "Total params: 160,145\n",
      "Trainable params: 160,145\n",
      "Non-trainable params: 0\n",
      "_________________________________________________________________\n"
     ]
    }
   ],
   "source": [
    "vocab_size = 10000    # 어휘 사전의 크기입니다(10,000개의 단어)\n",
    "word_vector_dim = 16  # 워드 벡터의 차원 수 (변경 가능한 하이퍼파라미터)\n",
    "\n",
    "model = tf.keras.Sequential()\n",
    "model.add(tf.keras.layers.Embedding(vocab_size, word_vector_dim, input_shape=(None,)))\n",
    "model.add(tf.keras.layers.GlobalMaxPooling1D())\n",
    "model.add(tf.keras.layers.Dense(8, activation='relu'))\n",
    "model.add(tf.keras.layers.Dense(1, activation='sigmoid'))  # 최종 출력은 긍정/부정을 나타내는 1dim 입니다.\n",
    "\n",
    "model.summary()"
   ]
  },
  {
   "cell_type": "code",
   "execution_count": 32,
   "id": "8918426b",
   "metadata": {},
   "outputs": [
    {
     "name": "stdout",
     "output_type": "stream",
     "text": [
      "Epoch 1/20\n",
      "227/227 [==============================] - 1s 4ms/step - loss: 0.5889 - accuracy: 0.7259 - val_loss: 0.4300 - val_accuracy: 0.8201\n",
      "Epoch 2/20\n",
      "227/227 [==============================] - 1s 4ms/step - loss: 0.3795 - accuracy: 0.8380 - val_loss: 0.3614 - val_accuracy: 0.8391\n",
      "Epoch 3/20\n",
      "227/227 [==============================] - 1s 4ms/step - loss: 0.3286 - accuracy: 0.8613 - val_loss: 0.3503 - val_accuracy: 0.8451\n",
      "Epoch 4/20\n",
      "227/227 [==============================] - 1s 4ms/step - loss: 0.3007 - accuracy: 0.8740 - val_loss: 0.3507 - val_accuracy: 0.8456\n",
      "Epoch 5/20\n",
      "227/227 [==============================] - 1s 4ms/step - loss: 0.2803 - accuracy: 0.8842 - val_loss: 0.3549 - val_accuracy: 0.8461\n",
      "Epoch 6/20\n",
      "227/227 [==============================] - 1s 4ms/step - loss: 0.2635 - accuracy: 0.8917 - val_loss: 0.3615 - val_accuracy: 0.8452\n",
      "Epoch 7/20\n",
      "227/227 [==============================] - 1s 4ms/step - loss: 0.2491 - accuracy: 0.8987 - val_loss: 0.3699 - val_accuracy: 0.8453\n",
      "Epoch 8/20\n",
      "227/227 [==============================] - 1s 3ms/step - loss: 0.2366 - accuracy: 0.9054 - val_loss: 0.3797 - val_accuracy: 0.8440\n",
      "Epoch 9/20\n",
      "227/227 [==============================] - 1s 3ms/step - loss: 0.2254 - accuracy: 0.9112 - val_loss: 0.3897 - val_accuracy: 0.8426\n",
      "Epoch 10/20\n",
      "227/227 [==============================] - 1s 4ms/step - loss: 0.2155 - accuracy: 0.9157 - val_loss: 0.4024 - val_accuracy: 0.8403\n",
      "Epoch 11/20\n",
      "227/227 [==============================] - 1s 4ms/step - loss: 0.2066 - accuracy: 0.9203 - val_loss: 0.4132 - val_accuracy: 0.8394\n",
      "Epoch 12/20\n",
      "227/227 [==============================] - 1s 3ms/step - loss: 0.1985 - accuracy: 0.9243 - val_loss: 0.4254 - val_accuracy: 0.8379\n",
      "Epoch 13/20\n",
      "227/227 [==============================] - 1s 3ms/step - loss: 0.1911 - accuracy: 0.9276 - val_loss: 0.4380 - val_accuracy: 0.8364\n",
      "Epoch 14/20\n",
      "227/227 [==============================] - 1s 4ms/step - loss: 0.1841 - accuracy: 0.9312 - val_loss: 0.4500 - val_accuracy: 0.8363\n",
      "Epoch 15/20\n",
      "227/227 [==============================] - 1s 4ms/step - loss: 0.1776 - accuracy: 0.9340 - val_loss: 0.4627 - val_accuracy: 0.8335\n",
      "Epoch 16/20\n",
      "227/227 [==============================] - 1s 3ms/step - loss: 0.1718 - accuracy: 0.9367 - val_loss: 0.4759 - val_accuracy: 0.8333\n",
      "Epoch 17/20\n",
      "227/227 [==============================] - 1s 3ms/step - loss: 0.1661 - accuracy: 0.9393 - val_loss: 0.4884 - val_accuracy: 0.8313\n",
      "Epoch 18/20\n",
      "227/227 [==============================] - 1s 4ms/step - loss: 0.1607 - accuracy: 0.9421 - val_loss: 0.5016 - val_accuracy: 0.8300\n",
      "Epoch 19/20\n",
      "227/227 [==============================] - 1s 3ms/step - loss: 0.1561 - accuracy: 0.9433 - val_loss: 0.5127 - val_accuracy: 0.8299\n",
      "Epoch 20/20\n",
      "227/227 [==============================] - 1s 3ms/step - loss: 0.1513 - accuracy: 0.9459 - val_loss: 0.5246 - val_accuracy: 0.8288\n",
      "1537/1537 - 2s - loss: 0.5365 - accuracy: 0.8231\n",
      "[0.5365039110183716, 0.8230770826339722]\n"
     ]
    }
   ],
   "source": [
    "# validation set 50000건 분리\n",
    "x_val = x_train[:30000]   \n",
    "y_val = y_train[:30000]\n",
    "\n",
    "# validation set을 제외한 나머지 96182건\n",
    "partial_x_train = x_train[30000:]  \n",
    "partial_y_train = y_train[30000:]\n",
    "\n",
    "\n",
    "model.compile(optimizer='adam',\n",
    "              loss='binary_crossentropy',\n",
    "              metrics=['accuracy'])\n",
    "              \n",
    "epochs=20  # 몇 epoch를 훈련하면 좋을지 결과를 보면서 바꾸어 봅시다. \n",
    "\n",
    "history = model.fit(partial_x_train,\n",
    "                    partial_y_train,\n",
    "                    epochs=epochs,\n",
    "                    batch_size=512,\n",
    "                    validation_data=(x_val, y_val),\n",
    "                    verbose=1)\n",
    "\n",
    "results = model.evaluate(x_test,  y_test, verbose=2)\n",
    "\n",
    "print(results)"
   ]
  },
  {
   "cell_type": "code",
   "execution_count": 33,
   "id": "df538967",
   "metadata": {},
   "outputs": [],
   "source": [
    "# 학습한 Embedding 파라미터를 파일에 써서 저장합니다. \n",
    "word2vec_file_path = os.getenv('HOME')+'/aiffel/sentiment_classification/data/word2vec.txt'\n",
    "f = open(word2vec_file_path, 'w')\n",
    "f.write('{} {}\\n'.format(vocab_size-6, word_vector_dim))  # 몇개의 벡터를 얼마 사이즈로 기재할지 타이틀을 씁니다.\n",
    "\n",
    "# 단어 개수(에서 특수문자 4개는 제외하고)만큼의 워드 벡터를 파일에 기록합니다. \n",
    "vectors = model.get_weights()[0]\n",
    "for i in range(6,vocab_size):\n",
    "    f.write('{} {}\\n'.format(index_to_word[i], ' '.join(map(str, list(vectors[i, :])))))\n",
    "f.close()"
   ]
  },
  {
   "cell_type": "code",
   "execution_count": 34,
   "id": "88d03a13",
   "metadata": {},
   "outputs": [],
   "source": [
    "from gensim.models.keyedvectors import Word2VecKeyedVectors\n",
    "\n",
    "word_vectors = Word2VecKeyedVectors.load_word2vec_format(word2vec_file_path, binary=False)\n",
    "vector = word_vectors['사람']"
   ]
  },
  {
   "cell_type": "code",
   "execution_count": 35,
   "id": "6b31225e",
   "metadata": {},
   "outputs": [
    {
     "data": {
      "text/plain": [
       "[('The', 0.8966276049613953),\n",
       " ('블러드', 0.8852807283401489),\n",
       " ('우울증', 0.853748619556427),\n",
       " ('냈', 0.8481966257095337),\n",
       " ('할머니', 0.8365134000778198),\n",
       " ('양반', 0.828490138053894),\n",
       " ('트립', 0.8232161998748779),\n",
       " ('박철민', 0.8195591568946838),\n",
       " ('제한', 0.819327175617218),\n",
       " ('조건', 0.818117082118988)]"
      ]
     },
     "execution_count": 35,
     "metadata": {},
     "output_type": "execute_result"
    }
   ],
   "source": [
    "word_vectors.similar_by_word(\"마동석\")"
   ]
  },
  {
   "cell_type": "code",
   "execution_count": 36,
   "id": "2b2f31fa",
   "metadata": {},
   "outputs": [
    {
     "data": {
      "text/plain": [
       "[('드물', 0.8932904601097107),\n",
       " ('불친절', 0.8609111905097961),\n",
       " ('곰', 0.856590747833252),\n",
       " ('평이', 0.8372223377227783),\n",
       " ('총질', 0.833018958568573),\n",
       " ('사다코', 0.8299461007118225),\n",
       " ('공평', 0.8293358683586121),\n",
       " ('완성도', 0.8215513825416565),\n",
       " ('이럴', 0.8163357973098755),\n",
       " ('공략', 0.8146414756774902)]"
      ]
     },
     "execution_count": 36,
     "metadata": {},
     "output_type": "execute_result"
    }
   ],
   "source": [
    "word_vectors.similar_by_word(\"어벤져스\")"
   ]
  },
  {
   "cell_type": "code",
   "execution_count": 37,
   "id": "ab03cfa5",
   "metadata": {},
   "outputs": [
    {
     "data": {
      "text/plain": [
       "[('촬영', 0.8339600563049316),\n",
       " ('설', 0.8177927136421204),\n",
       " ('린치', 0.8058621883392334),\n",
       " ('드만', 0.7809708714485168),\n",
       " ('빛나', 0.7769008874893188),\n",
       " ('완결', 0.7729660272598267),\n",
       " ('작년', 0.7666745185852051),\n",
       " ('빨려', 0.7605525851249695),\n",
       " ('할려고', 0.7588196396827698),\n",
       " ('싸구려', 0.7456527352333069)]"
      ]
     },
     "execution_count": 37,
     "metadata": {},
     "output_type": "execute_result"
    }
   ],
   "source": [
    "word_vectors.similar_by_word(\"좀비\")"
   ]
  },
  {
   "cell_type": "markdown",
   "id": "b4d748cc",
   "metadata": {},
   "source": [
    "> **4. 회고**\n",
    "-"
   ]
  },
  {
   "cell_type": "markdown",
   "id": "6dea63b4",
   "metadata": {},
   "source": [
    "> 4.1 결과 평가"
   ]
  },
  {
   "attachments": {
    "image-2.png": {
     "image/png": "[encoded data removed]"
    },
    "image-3.png": {
     "image/png": "[encoded data removed]"
    },
    "image-4.png": {
     "image/png": "[encoded data removed]"
    },
    "image.png": {
     "image/png": "[encoded data removed]"
    }
   },
   "cell_type": "markdown",
   "id": "7e80531d",
   "metadata": {},
   "source": [
    "**<1차시도>**\n",
    "조건  \n",
    "![image-4.png](attachment:image-4.png)\n",
    "+ Validation set 10000건 분리  \n",
    "+ Epochs : 20회  \n",
    "+ optimizor : LSTM  \n",
    "\n",
    "\n",
    "\n",
    "![image.png](attachment:image.png)\n",
    "![image-2.png](attachment:image-2.png)\n",
    "![image-3.png](attachment:image-3.png)"
   ]
  },
  {
   "attachments": {
    "image.png": {
     "image/png": "[encoded data removed]"
    }
   },
   "cell_type": "markdown",
   "id": "95f88cc3",
   "metadata": {},
   "source": [
    "**<3차시도>**\n",
    "조건  \n",
    "+ Validation set 30000건 분리  \n",
    "+ Epochs : 5회  \n",
    "+ optimizor : LSTM \n",
    "\n",
    "![image.png](attachment:image.png)\n",
    "\n",
    "에폭을 줄이면 정확도가 어떻게 변할지 궁금해서 시도했는데 정확도가 떨어져서 다시 에폭을 원래대로 20으로 해야겠다고 생각이 들었습니다.\n"
   ]
  },
  {
   "cell_type": "markdown",
   "id": "5ca97445",
   "metadata": {},
   "source": [
    "\n",
    "> 4.2 어려웠던 점"
   ]
  },
  {
   "attachments": {
    "image.png": {
     "image/png": "[encoded data removed]"
    }
   },
   "cell_type": "markdown",
   "id": "00404493",
   "metadata": {},
   "source": [
    "정확도가 많이나와서 기대하면서 연관 단어를 뽑았는데 생각보다 잘안맞아서 정확도를 더 높여야 된다는 생각에 고민을 많이 했다.  \n",
    "한국어 Word2Vec 임베딩 활용하여 성능 개선을 하는 방법을 찾아봤는데, 어떻게 해도 계속 에러가 나와서 결국은 못했다...  \n",
    "파일을 불러오는 과정에서 에러가 생긴 경우인데 이런 측면에서 공부가 덜 되서 그런거라 생각되고 앞으로 더 공부를 많이해야겠다는 다짐을 하게되었습니다. \n",
    "![image.png](attachment:image.png)"
   ]
  }
 ],
 "metadata": {
  "kernelspec": {
   "display_name": "Python 3 (ipykernel)",
   "language": "python",
   "name": "python3"
  },
  "language_info": {
   "codemirror_mode": {
    "name": "ipython",
    "version": 3
   },
   "file_extension": ".py",
   "mimetype": "text/x-python",
   "name": "python",
   "nbconvert_exporter": "python",
   "pygments_lexer": "ipython3",
   "version": "3.9.7"
  }
 },
 "nbformat": 4,
 "nbformat_minor": 5
}
