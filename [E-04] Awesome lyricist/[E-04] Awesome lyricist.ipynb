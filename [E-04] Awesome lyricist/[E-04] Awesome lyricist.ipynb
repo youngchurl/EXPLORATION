{
 "cells": [
  {
   "cell_type": "markdown",
   "id": "3f7d4ba2",
   "metadata": {},
   "source": [
    "# [E-04] Awesome lyricist"
   ]
  },
  {
   "cell_type": "markdown",
   "id": "273b11a2",
   "metadata": {},
   "source": [
    "> 목차\n",
    "-\n",
    "\n",
    "\n",
    "**1. 개요**  \n",
    "    \n",
    "    1.1 프로젝트 과정 및 목표  \n",
    "    1.2 예상되는 문제점  \n",
    "    1.3 용어  \n",
    "\n",
    "**2. 루브릭 평가기준**  \n",
    "\n",
    "**3. Project**\n",
    "    \n",
    "    3.1 데이터 준비하기    \n",
    "    3.2 데이터 전처리  \n",
    "    3.3 데이터 분리 및 학습시키기  \n",
    "    3.4 데이터 테스트\n",
    "**4. 회고**\n",
    "    \n",
    "    4.1 결과 평가  \n",
    "    4.2 어려웠던 점\n",
    "    4.3 참조\n",
    "    "
   ]
  },
  {
   "cell_type": "markdown",
   "id": "ed9086fd",
   "metadata": {},
   "source": [
    "---\n",
    "> **1. 개요**\n",
    "-"
   ]
  },
  {
   "cell_type": "markdown",
   "id": "5f8d7c0e",
   "metadata": {},
   "source": [
    "> **1.1 프로젝트 과정 및 목표**"
   ]
  },
  {
   "cell_type": "markdown",
   "id": "4a904d16",
   "metadata": {},
   "source": [
    "프로젝트의 과정은   \n",
    "1. 데이터 준비  \n",
    "2. 데이터 전처리\n",
    "3. 데이터 분리 및 학습시키기\n",
    "4. 데이터 테스트\n",
    "의 과정으로 이뤄진다.\n",
    "\n",
    "목표는 자연스러운 말이 출력이 되는걸로 우선적으로 잡았습니다."
   ]
  },
  {
   "cell_type": "markdown",
   "id": "47767a1a",
   "metadata": {},
   "source": [
    "> **1.2 예상되는 문제점**"
   ]
  },
  {
   "cell_type": "markdown",
   "id": "7b48b394",
   "metadata": {},
   "source": [
    "+ NLP를 처음으로 접해서 코드를 이해하는데 어려움이 있을 것 같다.\n",
    "+ 학습하는데 걸리는 시간이 길어서 프로젝트 시간이 길어질 수 있다."
   ]
  },
  {
   "cell_type": "markdown",
   "id": "1d92659b",
   "metadata": {},
   "source": [
    "> **1.3 용어**"
   ]
  },
  {
   "cell_type": "markdown",
   "id": "6b886524",
   "metadata": {},
   "source": [
    "+ **순환 신경망(RNN)**\n",
    ": 시계열 데이터와 같이 시간의 흐름에 따라 변화하는 데이터를 학습하기 위한 인공 신경망\n",
    "+ **언어모델(Language Model)**\n",
    ": n−1개의 단어 시퀀스가 주어졌을 때, n번째 단어 w으로 무엇이 올지를 예측하는 확률 모델  \n",
    "+ **토큰화(Tokenization)**\n",
    ": 자연어 처리에서 크롤링 등으로 얻어낸 코퍼스 데이터가 필요에 맞게 전처리되지 않은 상태라면, 해당 데이터를 사용하고자하는 용도에 맞게 토큰화(tokenization) & 정제(cleaning) & 정규화(normalization)하는 일을 하게 됩니다. 이번에는 그 중에서도 토큰화에 대해서 학습합니다.  \n",
    "주어진 코퍼스(corpus)에서 토큰(token)이라 불리는 단위로 나누는 작업을 토큰화(tokenization)라고 합니다.\n",
    "+ **소스문장(Source Sentence)**\n",
    ": 모델의 입력이 되는 문장\n",
    "+ **타겟문장(Target Sentence)**\n",
    ": 모델의 출력 문장\n",
    "+ **텐서(Tensor)**\n",
    ": 텐서란 매우 수학적인 개념으로 데이터의 배열이라고 볼 수 있습니다. 텐서의 Rank는 간단히 말해서 몇 차원 배열인가를 의미"
   ]
  },
  {
   "cell_type": "markdown",
   "id": "6f21bb95",
   "metadata": {},
   "source": [
    "---\n",
    "> **2. 루브릭 평가기준**\n",
    "-"
   ]
  },
  {
   "cell_type": "markdown",
   "id": "86fc50c8",
   "metadata": {},
   "source": [
    "|평가문항 | 상세기준|\n",
    "|:---------|:---------|\n",
    "|1.가사 텍스트 생성 모델이 정상적으로 동작하는가? | 텍스트 제너레이션 결과가 그럴듯한 문장으로 생성되는가?|\n",
    "|2.데이터의 전처리와 데이터셋 구성 과정이 체계적으로 진행되었는가? | 특수문자 제거, 토크나이저 생성, 패딩처리 등의 과정이 빠짐없이 진행되었는가?|\n",
    "|3.텍스트 생성모델이 안정적으로 학습되었는가?| 텍스트 생성모델의 validation loss가 2.2 이하로 낮아졌는가?|"
   ]
  },
  {
   "cell_type": "markdown",
   "id": "a04eb754",
   "metadata": {},
   "source": [
    "---\n",
    "> **3. Project**\n",
    "-"
   ]
  },
  {
   "cell_type": "markdown",
   "id": "e64ab3ab",
   "metadata": {},
   "source": [
    "> 3.1 데이터 준비하기"
   ]
  },
  {
   "cell_type": "code",
   "execution_count": 1,
   "id": "68f25bac",
   "metadata": {},
   "outputs": [
    {
     "name": "stdout",
     "output_type": "stream",
     "text": [
      "데이터 크기: 187088\n",
      "Examples:\n",
      " [\"Now I've heard there was a secret chord\", 'That David played, and it pleased the Lord', \"But you don't really care for music, do you?\"]\n"
     ]
    }
   ],
   "source": [
    "import glob # 파일 읽어오기가 용이함\n",
    "import os, re\n",
    "import numpy as np\n",
    "import tensorflow as tf\n",
    "\n",
    "txt_file_path = os.getenv('HOME')+'/aiffel/lyricist/data/lyrics/*'\n",
    "\n",
    "txt_list = glob.glob(txt_file_path)\n",
    "\n",
    "raw_corpus = []\n",
    "\n",
    "# 여러개의 txt 파일을 모두 읽어서 raw_corpus 에 담습니다.\n",
    "for txt_file in txt_list:\n",
    "    with open(txt_file, \"r\") as f:\n",
    "        raw = f.read().splitlines()\n",
    "        raw_corpus.extend(raw)\n",
    "\n",
    "print(\"데이터 크기:\", len(raw_corpus))\n",
    "print(\"Examples:\\n\", raw_corpus[:3])"
   ]
  },
  {
   "cell_type": "markdown",
   "id": "e24df86b",
   "metadata": {},
   "source": [
    "> 3.2 데이터 전처리"
   ]
  },
  {
   "cell_type": "code",
   "execution_count": 2,
   "id": "84c4e7bb",
   "metadata": {
    "scrolled": false
   },
   "outputs": [
    {
     "name": "stdout",
     "output_type": "stream",
     "text": [
      "Now I've heard there was a secret chord\n",
      "That David played, and it pleased the Lord\n",
      "But you don't really care for music, do you?\n",
      "It goes like this\n",
      "The fourth, the fifth\n",
      "The minor fall, the major lift\n",
      "The baffled king composing Hallelujah Hallelujah\n",
      "Hallelujah\n",
      "Hallelujah\n",
      "Hallelujah Your faith was strong but you needed proof\n",
      "You saw her bathing on the roof\n",
      "Her beauty and the moonlight overthrew her\n",
      "She tied you\n",
      "To a kitchen chair\n",
      "She broke your throne, and she cut your hair\n",
      "And from your lips she drew the Hallelujah Hallelujah\n"
     ]
    }
   ],
   "source": [
    "for idx, sentence in enumerate(raw_corpus):\n",
    "    if len(sentence) == 0: continue   # 길이가 0인 문장은 건너뜁니다.\n",
    "    if sentence[-1] == \":\": continue  # 문장의 끝이 : 인 문장은 건너뜁니다.\n",
    "\n",
    "    if idx > 15: break   # 일단 문장 10개만 확인해 볼 겁니다.\n",
    "        \n",
    "    print(sentence)"
   ]
  },
  {
   "cell_type": "code",
   "execution_count": 3,
   "id": "b166b701",
   "metadata": {
    "scrolled": true
   },
   "outputs": [
    {
     "data": {
      "text/plain": [
       "['<start> now i ve heard there was a secret chord <end>',\n",
       " '<start> that david played , and it pleased the lord <end>',\n",
       " '<start> but you don t really care for music , do you ? <end>',\n",
       " '<start> it goes like this <end>',\n",
       " '<start> the fourth , the fifth <end>',\n",
       " '<start> the minor fall , the major lift <end>',\n",
       " '<start> the baffled king composing hallelujah hallelujah <end>',\n",
       " '<start> hallelujah <end>',\n",
       " '<start> hallelujah <end>',\n",
       " '<start> hallelujah your faith was strong but you needed proof <end>']"
      ]
     },
     "execution_count": 3,
     "metadata": {},
     "output_type": "execute_result"
    }
   ],
   "source": [
    "# 입력된 문장을\n",
    "#     1. 소문자로 바꾸고, 양쪽 공백을 지웁니다\n",
    "#     2. 특수문자 양쪽에 공백을 넣고\n",
    "#     3. 여러개의 공백은 하나의 공백으로 바꿉니다\n",
    "#     4. a-zA-Z?.!,¿가 아닌 모든 문자를 하나의 공백으로 바꿉니다\n",
    "#     5. 다시 양쪽 공백을 지웁니다\n",
    "#     6. 문장 시작에는 <start>, 끝에는 <end>를 추가합니다\n",
    "# 이 순서로 처리해주면 문제가 되는 상황을 방지할 수 있겠네요!\n",
    "def preprocess_sentence(sentence):\n",
    "    sentence = sentence.lower().strip() # 1\n",
    "    sentence = re.sub(r\"([?.!,¿])\", r\" \\1 \", sentence) # 2\n",
    "    sentence = re.sub(r'[\" \"]+', \" \", sentence) # 3\n",
    "    sentence = re.sub(r\"[^a-zA-Z?.!,¿]+\", \" \", sentence) # 4\n",
    "    sentence = sentence.strip() # 5\n",
    "    sentence = '<start> ' + sentence + ' <end>' # 6\n",
    "    return sentence\n",
    "\n",
    "# 여기에 정제된 문장을 모을겁니다\n",
    "corpus = []\n",
    "\n",
    "for sentence in raw_corpus:\n",
    "    # 우리가 원하지 않는 문장은 건너뜁니다\n",
    "    if len(sentence) == 0: continue\n",
    "    if sentence[-1] == \":\": continue\n",
    "    tmp = preprocess_sentence(sentence)\n",
    "    if len(tmp.split()) > 15: continue\n",
    "    corpus.append(tmp)\n",
    "    \n",
    "        \n",
    "# 정제된 결과를 10개만 확인해보죠\n",
    "corpus[:10]"
   ]
  },
  {
   "cell_type": "code",
   "execution_count": 4,
   "id": "541f9a9e",
   "metadata": {
    "scrolled": true
   },
   "outputs": [
    {
     "name": "stdout",
     "output_type": "stream",
     "text": [
      "[[   2   50    4 ...    0    0    0]\n",
      " [   2   15 2967 ...    0    0    0]\n",
      " [   2   33    7 ...   46    3    0]\n",
      " ...\n",
      " [   2    4  118 ...    0    0    0]\n",
      " [   2  258  194 ...   12    3    0]\n",
      " [   2    7   34 ...    0    0    0]] <keras_preprocessing.text.Tokenizer object at 0x7fbe44359a90>\n"
     ]
    }
   ],
   "source": [
    "# 토큰화 \n",
    "import keras\n",
    "# 토큰화 할 때 텐서플로우의 Tokenizer와 pad_sequences를 사용합니다\n",
    "# 더 잘 알기 위해 아래 문서들을 참고하면 좋습니다\n",
    "# https://www.tensorflow.org/api_docs/python/tf/keras/preprocessing/text/Tokenizer\n",
    "# https://www.tensorflow.org/api_docs/python/tf/keras/preprocessing/sequence/pad_sequences\n",
    "def tokenize(corpus):\n",
    "    # 12000단어를 기억할 수 있는 tokenizer를 만들겁니다\n",
    "    # 우리는 이미 문장을 정제했으니 filters가 필요없어요\n",
    "    # 12000단어에 포함되지 못한 단어는 '<unk>'로 바꿀거에요\n",
    "    tokenizer = tf.keras.preprocessing.text.Tokenizer(\n",
    "        num_words=12000, \n",
    "        filters=' ',\n",
    "        oov_token=\"<unk>\"\n",
    "    )\n",
    "    # corpus를 이용해 tokenizer 내부의 단어장을 완성합니다\n",
    "    tokenizer.fit_on_texts(corpus)\n",
    "    # 준비한 tokenizer를 이용해 corpus를 Tensor로 변환합니다\n",
    "    tensor = tokenizer.texts_to_sequences(corpus)   \n",
    "    # 입력 데이터의 시퀀스 길이를 일정하게 맞춰줍니다\n",
    "    # 만약 시퀀스가 짧다면 문장 뒤에 패딩을 붙여 길이를 맞춰줍니다.\n",
    "    # 문장 앞에 패딩을 붙여 길이를 맞추고 싶다면 padding='pre'를 사용합니다\n",
    "    tensor = tf.keras.preprocessing.sequence.pad_sequences(tensor, padding = 'post',maxlen = 15)  \n",
    "    \n",
    "    \n",
    "    print(tensor,tokenizer)\n",
    "    return tensor, tokenizer\n",
    "\n",
    "tensor, tokenizer = tokenize(corpus)"
   ]
  },
  {
   "cell_type": "code",
   "execution_count": 5,
   "id": "823aacee",
   "metadata": {
    "scrolled": false
   },
   "outputs": [
    {
     "name": "stdout",
     "output_type": "stream",
     "text": [
      "1 : <unk>\n",
      "2 : <start>\n",
      "3 : <end>\n",
      "4 : i\n",
      "5 : ,\n",
      "6 : the\n",
      "7 : you\n",
      "8 : and\n",
      "9 : a\n",
      "10 : to\n",
      "11 : it\n",
      "12 : me\n",
      "13 : my\n",
      "14 : in\n",
      "15 : that\n"
     ]
    }
   ],
   "source": [
    "for idx in tokenizer.index_word:\n",
    "    print(idx, \":\", tokenizer.index_word[idx])\n",
    "\n",
    "    if idx >= 15: break"
   ]
  },
  {
   "cell_type": "code",
   "execution_count": 6,
   "id": "6e633427",
   "metadata": {},
   "outputs": [],
   "source": [
    "# tensor에서 마지막 토큰을 잘라내서 소스 문장을 생성합니다\n",
    "# 마지막 토큰은 <end>가 아니라 <pad>일 가능성이 높습니다.\n",
    "src_input = tensor[:, :-1]  \n",
    "# tensor에서 <start>를 잘라내서 타겟 문장을 생성합니다.\n",
    "tgt_input = tensor[:, 1:]    "
   ]
  },
  {
   "cell_type": "markdown",
   "id": "c34d24ed",
   "metadata": {},
   "source": [
    "> 3.3 데이터 분리 및 학습시키기"
   ]
  },
  {
   "cell_type": "code",
   "execution_count": 7,
   "id": "ab1b8c8f",
   "metadata": {},
   "outputs": [],
   "source": [
    "from sklearn.model_selection import train_test_split\n",
    "\n",
    "enc_train, enc_val, dec_train, dec_val = train_test_split(src_input, \n",
    "                                                    tgt_input, \n",
    "                                                    test_size=0.2, # 전체의 20프로를 테스트 데이터로 사용함을 의미\n",
    "                                                    random_state=32) # 랜덤성을 결정"
   ]
  },
  {
   "cell_type": "code",
   "execution_count": 8,
   "id": "ee259ebb",
   "metadata": {},
   "outputs": [
    {
     "name": "stdout",
     "output_type": "stream",
     "text": [
      "Source Train: (124810, 14)\n",
      "Target Train: (124810, 14)\n"
     ]
    }
   ],
   "source": [
    "print(\"Source Train:\", enc_train.shape)\n",
    "print(\"Target Train:\", dec_train.shape)"
   ]
  },
  {
   "cell_type": "markdown",
   "id": "81d4a067",
   "metadata": {},
   "source": [
    "> 3.4 데이터 테스트"
   ]
  },
  {
   "cell_type": "code",
   "execution_count": 9,
   "id": "bf59483f",
   "metadata": {},
   "outputs": [
    {
     "data": {
      "text/plain": [
       "<BatchDataset shapes: ((256, 14), (256, 14)), types: (tf.int32, tf.int32)>"
      ]
     },
     "execution_count": 9,
     "metadata": {},
     "output_type": "execute_result"
    }
   ],
   "source": [
    "BUFFER_SIZE = len(enc_train)\n",
    "BATCH_SIZE = 256\n",
    "steps_per_epoch = len(enc_train) // BATCH_SIZE\n",
    "\n",
    " # tokenizer가 구축한 단어사전 내 12000개와, 여기 포함되지 않은 0:<pad>를 포함하여 7001개\n",
    "VOCAB_SIZE = tokenizer.num_words + 1   \n",
    "\n",
    "# 준비한 데이터 소스로부터 데이터셋을 만듭니다\n",
    "# 데이터셋에 대해서는 아래 문서를 참고하세요\n",
    "# 자세히 알아둘수록 도움이 많이 되는 중요한 문서입니다\n",
    "# https://www.tensorflow.org/api_docs/python/tf/data/Dataset\n",
    "dataset = tf.data.Dataset.from_tensor_slices((enc_train, dec_train))\n",
    "dataset = dataset.shuffle(BUFFER_SIZE)\n",
    "dataset = dataset.batch(BATCH_SIZE, drop_remainder=True)\n",
    "dataset"
   ]
  },
  {
   "cell_type": "code",
   "execution_count": 10,
   "id": "5d65bfa9",
   "metadata": {},
   "outputs": [],
   "source": [
    "class TextGenerator(tf.keras.Model):\n",
    "    def __init__(self, vocab_size, embedding_size, hidden_size):\n",
    "        super().__init__()\n",
    "        \n",
    "        self.embedding = tf.keras.layers.Embedding(vocab_size, embedding_size)\n",
    "        self.rnn_1 = tf.keras.layers.LSTM(hidden_size, return_sequences=True)\n",
    "        self.rnn_2 = tf.keras.layers.LSTM(hidden_size, return_sequences=True)\n",
    "        self.linear = tf.keras.layers.Dense(vocab_size)\n",
    "        \n",
    "    def call(self, x):\n",
    "        out = self.embedding(x)\n",
    "        out = self.rnn_1(out)\n",
    "        out = self.rnn_2(out)\n",
    "        out = self.linear(out)\n",
    "        \n",
    "        return out\n",
    "    \n",
    "embedding_size = 512 # 워드 벡터의 차원수 단어가 추상적으로 표현되는 크기\n",
    "hidden_size = 2048 # 모델에 얼마나 많은 일꾼을 둘것인가?\n",
    "model = TextGenerator(tokenizer.num_words + 1, embedding_size , hidden_size)"
   ]
  },
  {
   "cell_type": "code",
   "execution_count": 11,
   "id": "d2e77435",
   "metadata": {},
   "outputs": [
    {
     "data": {
      "text/plain": [
       "<tf.Tensor: shape=(256, 14, 12001), dtype=float32, numpy=\n",
       "array([[[-3.09162890e-04,  2.44220835e-04, -1.60413358e-04, ...,\n",
       "          2.63404305e-04, -3.50302253e-06, -2.67830183e-04],\n",
       "        [-4.45797807e-04,  5.43098897e-04, -2.60865083e-04, ...,\n",
       "          4.16130089e-04,  3.76105279e-04, -3.94352188e-04],\n",
       "        [-5.39327273e-04,  4.22886660e-04,  2.55806499e-05, ...,\n",
       "          2.74052087e-04,  2.85774120e-04, -4.18458192e-04],\n",
       "        ...,\n",
       "        [ 3.18504218e-03,  2.59923586e-03, -3.83088039e-03, ...,\n",
       "          7.61765870e-04, -2.38400674e-03,  1.69440333e-04],\n",
       "        [ 3.55065032e-03,  2.85611395e-03, -4.59420495e-03, ...,\n",
       "          8.45399220e-04, -2.73591117e-03,  3.21258587e-04],\n",
       "        [ 3.84523254e-03,  3.03917797e-03, -5.28183999e-03, ...,\n",
       "          8.85773217e-04, -3.03919264e-03,  4.34380054e-04]],\n",
       "\n",
       "       [[-3.09162890e-04,  2.44220835e-04, -1.60413358e-04, ...,\n",
       "          2.63404305e-04, -3.50302253e-06, -2.67830183e-04],\n",
       "        [-6.18144870e-04, -7.49558676e-05, -1.73080771e-04, ...,\n",
       "          8.96457408e-04,  9.73096176e-05, -4.55729954e-04],\n",
       "        [-1.06612267e-03, -3.31716787e-04, -3.72289127e-04, ...,\n",
       "          9.61136422e-04,  1.65519406e-04, -7.08234322e-04],\n",
       "        ...,\n",
       "        [ 2.09989434e-04,  5.82474400e-04,  1.16230838e-03, ...,\n",
       "          3.12135118e-04, -7.61903881e-04, -1.01803802e-04],\n",
       "        [ 7.63055752e-04,  1.02617603e-03,  3.64441454e-04, ...,\n",
       "          4.66174301e-04, -7.86625489e-04,  1.39852564e-04],\n",
       "        [ 1.35646074e-03,  1.47204089e-03, -5.82943787e-04, ...,\n",
       "          6.42694125e-04, -9.34162410e-04,  3.82116501e-04]],\n",
       "\n",
       "       [[-3.09162890e-04,  2.44220835e-04, -1.60413358e-04, ...,\n",
       "          2.63404305e-04, -3.50302253e-06, -2.67830183e-04],\n",
       "        [-5.79210231e-04,  3.98203352e-04, -2.50008161e-04, ...,\n",
       "          1.76324742e-04,  8.56222687e-05, -4.16094495e-04],\n",
       "        [-4.47139551e-04,  3.13742086e-04, -2.67730240e-04, ...,\n",
       "          1.66547456e-04,  1.85925615e-04, -4.44976671e-04],\n",
       "        ...,\n",
       "        [ 7.50028761e-04,  6.43508392e-04,  1.06644502e-03, ...,\n",
       "          6.54779607e-04, -2.31728540e-04, -2.08744037e-04],\n",
       "        [ 1.02534506e-03,  9.13905969e-04,  5.89361938e-04, ...,\n",
       "          6.36492681e-04, -9.75537841e-05, -2.48315366e-04],\n",
       "        [ 1.45877735e-03,  1.30231841e-03, -1.18743519e-04, ...,\n",
       "          6.97375042e-04, -2.43498886e-04, -1.52838140e-04]],\n",
       "\n",
       "       ...,\n",
       "\n",
       "       [[-3.09162890e-04,  2.44220835e-04, -1.60413358e-04, ...,\n",
       "          2.63404305e-04, -3.50302253e-06, -2.67830183e-04],\n",
       "        [-6.98086922e-04,  2.70363118e-04, -3.45742068e-04, ...,\n",
       "          1.83873010e-04,  5.24209463e-05, -5.32292237e-04],\n",
       "        [-9.46957851e-04, -6.46760309e-05, -2.47112213e-04, ...,\n",
       "          3.19977931e-04, -1.99833448e-04, -7.34636036e-04],\n",
       "        ...,\n",
       "        [ 9.26251407e-04, -3.09242721e-04,  4.03951592e-04, ...,\n",
       "          9.04462300e-04,  1.32501358e-03, -1.40830292e-03],\n",
       "        [ 1.34385575e-03,  1.25167964e-04, -3.12869932e-04, ...,\n",
       "          1.06063730e-03,  9.30522045e-04, -1.03073858e-03],\n",
       "        [ 1.77120254e-03,  5.97271486e-04, -1.16768014e-03, ...,\n",
       "          1.19560736e-03,  4.56475827e-04, -6.33598305e-04]],\n",
       "\n",
       "       [[-3.09162890e-04,  2.44220835e-04, -1.60413358e-04, ...,\n",
       "          2.63404305e-04, -3.50302253e-06, -2.67830183e-04],\n",
       "        [ 6.05474670e-05,  2.35219573e-04, -6.00702333e-05, ...,\n",
       "          4.55063884e-04, -1.30788067e-05, -1.93198313e-04],\n",
       "        [ 9.46208165e-05,  2.58889952e-04,  2.23090727e-04, ...,\n",
       "          6.46200671e-04,  4.14799433e-05,  5.44737413e-05],\n",
       "        ...,\n",
       "        [ 2.98989820e-03,  1.87217409e-03,  1.46832003e-03, ...,\n",
       "          1.03488856e-04,  8.43925154e-05, -3.00292479e-04],\n",
       "        [ 3.19933868e-03,  2.40165507e-03,  7.05591287e-04, ...,\n",
       "          2.06408236e-04, -2.66697665e-04, -9.10300369e-05],\n",
       "        [ 3.43408785e-03,  2.88485456e-03, -2.47032760e-04, ...,\n",
       "          3.48035275e-04, -7.09754473e-04,  1.53723187e-04]],\n",
       "\n",
       "       [[-3.09162890e-04,  2.44220835e-04, -1.60413358e-04, ...,\n",
       "          2.63404305e-04, -3.50302253e-06, -2.67830183e-04],\n",
       "        [-2.14091007e-04,  2.28095349e-04, -1.92827560e-04, ...,\n",
       "          4.59806994e-04,  5.40667788e-05, -3.21895699e-04],\n",
       "        [-1.37772528e-04, -2.16299042e-04, -1.27685751e-04, ...,\n",
       "          2.72570644e-04, -1.70761283e-04, -6.81198610e-04],\n",
       "        ...,\n",
       "        [ 7.36610731e-04, -1.23727880e-03,  6.18494989e-04, ...,\n",
       "         -1.80271058e-03,  3.66897555e-04,  6.75318355e-04],\n",
       "        [ 5.94202429e-04, -9.40014725e-04,  5.74718055e-04, ...,\n",
       "         -2.06315448e-03,  7.12989655e-04,  3.38968559e-04],\n",
       "        [ 8.21468304e-04, -2.71797064e-04,  1.52834880e-04, ...,\n",
       "         -2.01109494e-03,  7.27173581e-04,  2.79516098e-04]]],\n",
       "      dtype=float32)>"
      ]
     },
     "execution_count": 11,
     "metadata": {},
     "output_type": "execute_result"
    }
   ],
   "source": [
    "# 데이터셋에서 데이터 한 배치만 불러오는 방법입니다.\n",
    "# 지금은 동작 원리에 너무 빠져들지 마세요~\n",
    "for src_sample, tgt_sample in dataset.take(1): break\n",
    "\n",
    "# 한 배치만 불러온 데이터를 모델에 넣어봅니다\n",
    "model(src_sample)"
   ]
  },
  {
   "cell_type": "code",
   "execution_count": 12,
   "id": "fae1eece",
   "metadata": {
    "scrolled": false
   },
   "outputs": [
    {
     "name": "stdout",
     "output_type": "stream",
     "text": [
      "Epoch 1/10\n",
      "487/487 [==============================] - 255s 515ms/step - loss: 3.3164 - val_loss: 2.9475\n",
      "Epoch 2/10\n",
      "487/487 [==============================] - 259s 532ms/step - loss: 2.7831 - val_loss: 2.7033\n",
      "Epoch 3/10\n",
      "487/487 [==============================] - 279s 572ms/step - loss: 2.4944 - val_loss: 2.5253\n",
      "Epoch 4/10\n",
      "487/487 [==============================] - 260s 534ms/step - loss: 2.2104 - val_loss: 2.3879\n",
      "Epoch 5/10\n",
      "487/487 [==============================] - 260s 534ms/step - loss: 1.9363 - val_loss: 2.2845\n",
      "Epoch 6/10\n",
      "487/487 [==============================] - 260s 533ms/step - loss: 1.6839 - val_loss: 2.2074\n",
      "Epoch 7/10\n",
      "487/487 [==============================] - 260s 533ms/step - loss: 1.4648 - val_loss: 2.1621\n",
      "Epoch 8/10\n",
      "487/487 [==============================] - 260s 534ms/step - loss: 1.2872 - val_loss: 2.1410\n",
      "Epoch 9/10\n",
      "487/487 [==============================] - 260s 533ms/step - loss: 1.1525 - val_loss: 2.1469\n",
      "Epoch 10/10\n",
      "487/487 [==============================] - 260s 533ms/step - loss: 1.0634 - val_loss: 2.1606\n"
     ]
    },
    {
     "data": {
      "text/plain": [
       "<keras.callbacks.History at 0x7fbda003fbb0>"
      ]
     },
     "execution_count": 12,
     "metadata": {},
     "output_type": "execute_result"
    }
   ],
   "source": [
    "optimizer = tf.keras.optimizers.Adam()\n",
    "loss = tf.keras.losses.SparseCategoricalCrossentropy(\n",
    "    from_logits=True,\n",
    "    reduction='none'\n",
    ")\n",
    "\n",
    "model.compile(loss=loss, optimizer=optimizer)\n",
    "model.fit(dataset,\n",
    "                                      epochs=10,\n",
    "                                      batch_size=256,\n",
    "                                      validation_data=(enc_val, dec_val))"
   ]
  },
  {
   "cell_type": "code",
   "execution_count": 22,
   "id": "50e415b5",
   "metadata": {},
   "outputs": [
    {
     "data": {
      "text/plain": [
       "'<start> i love you , i love you <end> '"
      ]
     },
     "execution_count": 22,
     "metadata": {},
     "output_type": "execute_result"
    }
   ],
   "source": [
    "# 평가하기\n",
    "def generate_text(model, tokenizer, init_sentence=\"<start>\", max_len=20):\n",
    "    # 테스트를 위해서 입력받은 init_sentence도 텐서로 변환합니다\n",
    "    test_input = tokenizer.texts_to_sequences([init_sentence])\n",
    "    test_tensor = tf.convert_to_tensor(test_input, dtype=tf.int64)\n",
    "    end_token = tokenizer.word_index[\"<end>\"]\n",
    "\n",
    "    # 단어 하나씩 예측해 문장을 만듭니다\n",
    "    #    1. 입력받은 문장의 텐서를 입력합니다\n",
    "    #    2. 예측된 값 중 가장 높은 확률인 word index를 뽑아냅니다\n",
    "    #    3. 2에서 예측된 word index를 문장 뒤에 붙입니다\n",
    "    #    4. 모델이 <end>를 예측했거나, max_len에 도달했다면 문장 생성을 마칩니다\n",
    "    while True:\n",
    "        # 1\n",
    "        predict = model(test_tensor) \n",
    "        # 2\n",
    "        predict_word = tf.argmax(tf.nn.softmax(predict, axis=-1), axis=-1)[:, -1] \n",
    "        # 3 \n",
    "        test_tensor = tf.concat([test_tensor, tf.expand_dims(predict_word, axis=0)], axis=-1)\n",
    "        # 4\n",
    "        if predict_word.numpy()[0] == end_token: break\n",
    "        if test_tensor.shape[1] >= max_len: break\n",
    "\n",
    "    generated = \"\"\n",
    "    # tokenizer를 이용해 word index를 단어로 하나씩 변환합니다 \n",
    "    for word_index in test_tensor[0].numpy():\n",
    "        generated += tokenizer.index_word[word_index] + \" \"\n",
    "\n",
    "    return generated\n",
    "\n",
    "generate_text(model, tokenizer, init_sentence=\"<start> i love\", max_len=15)"
   ]
  },
  {
   "cell_type": "markdown",
   "id": "7940d4a3",
   "metadata": {},
   "source": [
    "> **4. 회고**\n",
    "-"
   ]
  },
  {
   "cell_type": "markdown",
   "id": "a6cf5bca",
   "metadata": {},
   "source": [
    "> 4.1 결과 평가"
   ]
  },
  {
   "cell_type": "markdown",
   "id": "535918d5",
   "metadata": {},
   "source": [
    "i love you, i love you 라는 엄청 로맨틱한 글이 나와서 기분이 굉장히 좋았습니다.   \n",
    "+ val_loss를 낮추는 과정을 좀 더 세밀하게 여러번 시도했었는데 그래서 결과가 좋게 나왔다고 생각합니다.  \n",
    "+ 데이터의 전처리가 잘되서 모델이 잘 나왔다고 생각합니다.  \n"
   ]
  },
  {
   "cell_type": "markdown",
   "id": "13c99767",
   "metadata": {},
   "source": [
    "> 4.2 어려웠던 점"
   ]
  },
  {
   "attachments": {
    "image.png": {
     "image/png": "[encoded data removed]"
    }
   },
   "cell_type": "markdown",
   "id": "097de757",
   "metadata": {},
   "source": [
    "![image.png](attachment:image.png)\n"
   ]
  },
  {
   "cell_type": "markdown",
   "id": "ba05a359",
   "metadata": {},
   "source": [
    "val_loss를 2.2 이하로 맞추기 위해서   \n",
    "+ embedding_size     \n",
    "+ hidden_size   \n",
    "\n",
    "하이퍼 파라미터를 각각 512, 2048로 조정한 결과 2.16 까지 떨어뜨릴 수 있었습니다.  \n",
    "값들을 증가시킬때마다 시간이 엄청 길어지지만 서서히 val_loss가 감소함을 알 수 있었습니다.  "
   ]
  },
  {
   "cell_type": "markdown",
   "id": "dbb572a4",
   "metadata": {},
   "source": [
    "> 4.3  참조\n",
    "\n",
    "Val_loss 를 구하기 위해 참조 했습니다.  \n",
    "https://www.tensorflow.org/tutorials/keras/overfit_and_underfit?hl=ko"
   ]
  }
 ],
 "metadata": {
  "kernelspec": {
   "display_name": "Python 3 (ipykernel)",
   "language": "python",
   "name": "python3"
  },
  "language_info": {
   "codemirror_mode": {
    "name": "ipython",
    "version": 3
   },
   "file_extension": ".py",
   "mimetype": "text/x-python",
   "name": "python",
   "nbconvert_exporter": "python",
   "pygments_lexer": "ipython3",
   "version": "3.9.7"
  }
 },
 "nbformat": 4,
 "nbformat_minor": 5
}
