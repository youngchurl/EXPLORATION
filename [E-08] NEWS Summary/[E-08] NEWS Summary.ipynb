{
 "cells": [
  {
   "cell_type": "markdown",
   "id": "cbf9bc3d",
   "metadata": {},
   "source": [
    "# [E-08] NEWS Summary"
   ]
  },
  {
   "cell_type": "markdown",
   "id": "fc3088f4",
   "metadata": {},
   "source": [
    "> 목차\n",
    "-\n",
    "\n",
    "\n",
    "**1. 개요**  \n",
    "    \n",
    "    1.1 프로젝트 과정 및 목표  \n",
    "    1.2 예상되는 문제점  \n",
    "    1.3 용어 및 라이브러리  \n",
    "\n",
    "**2. 루브릭 평가기준**  \n",
    "\n",
    "**3. Project**\n",
    "    \n",
    "    3.1 데이터 수집하기     \n",
    "    3.2 데이터 전처리하기(추상적 요약)   \n",
    "    3.3 어텐션 메커니즘 사용하기(추상적 요약)   \n",
    "    3.4 실제 결과와 요약문 비교하기(추상적 요약)  \n",
    "    3.5 Summa를 이용해서 추출적 요약 해보기  \n",
    "\n",
    "**4. 회고**\n",
    "    \n",
    "    4.1 결과 평가  \n",
    "    4.2 어려웠던 점\n",
    "    4.3 참조\n",
    "    "
   ]
  },
  {
   "cell_type": "markdown",
   "id": "91579e25",
   "metadata": {},
   "source": [
    "---\n",
    "> **1. 개요**\n",
    "-"
   ]
  },
  {
   "cell_type": "markdown",
   "id": "07a8d978",
   "metadata": {},
   "source": [
    "> **1.1 프로젝트 과정 및 목표**"
   ]
  },
  {
   "cell_type": "markdown",
   "id": "780454a9",
   "metadata": {},
   "source": [
    "**<프로젝트 과정>**\n",
    "1. 데이터 수집하기\n",
    "2. 데이터 전처리하기(추상적 요약)\n",
    "3. 어텐션 메커니즘 사용하기(추상적 요약)\n",
    "4. 실제 결과와 요약문 비교하기 (추상적 요약)\n",
    "5. Summa을 이용해서 추출적 요약 해보기"
   ]
  },
  {
   "cell_type": "markdown",
   "id": "e7df28a1",
   "metadata": {},
   "source": [
    "**<프로젝트 목표>**\n",
    "+ 전처리 확실하게 해보기\n",
    "+ 유사한 요약문장을 얻기\n",
    "+ 추상적 요약과 추출적 요약에 대해 이해하기"
   ]
  },
  {
   "cell_type": "markdown",
   "id": "6fdd601d",
   "metadata": {},
   "source": [
    "> **1.2 예상되는 문제점**"
   ]
  },
  {
   "cell_type": "markdown",
   "id": "d3c7c58b",
   "metadata": {},
   "source": [
    "+ 가장 신경쓰이는 부분은 학습할때 데이터의 양이 많아서 훈련 시간이 오래 걸리는 부분이다.\n",
    "+ 전처리 과정에서 필요한 부분을 갖고 가야되는데 이를 잘못해서 제거해서 생기는 데이터 소실을 주의 해야할것 같다."
   ]
  },
  {
   "cell_type": "markdown",
   "id": "b3f0251a",
   "metadata": {},
   "source": [
    "> **1.3 용어**"
   ]
  },
  {
   "cell_type": "markdown",
   "id": "e9d38cab",
   "metadata": {},
   "source": [
    "+ 추출적 요약(Extractive Summarization)\n",
    ": 첫 번째 방식인 추출적 요약은 단어 그대로 원문에서 문장들을 추출해서 요약하는 방식이에요. 가령, 10개의 문장으로 구성된 텍스트가 있다면, 그중 핵심적인 문장 3개를 꺼내와서 3개의 문장으로 구성된 요약문을 만드는 식  \n",
    "\n",
    "\n",
    "+ 추상적 요약(Abstractive Summarization)\n",
    ": 새로운 문장을 생성해내는 것이죠. 여기서 새로운 문장이라는 것은 결과로 나온 문장이 원문에 원래 없던 문장일 수도 있다는 것을 의미합니다. 자연어 처리 분야 중 자연어 생성(Natural Language Generation, NLG)의 영역인 셈이죠. 반면, 추출적 요약은 원문을 구성하는 문장 중 어느 것이 요약문에 들어갈 핵심문장인지를 판별한다는 점에서 문장 분류(Text Classification) 문제로 볼 수 있을 것  \n",
    "\n",
    "\n",
    "+ 어텐션 메커니즘(Attention Mechanism)\n",
    ": 인코더의 모든 step의 hidden state의 정보가 컨텍스트 벡터에 전부 반영되도록 하는 것입니다. 하지만 인코더의 모든 hidden state가 동일한 비중으로 반영되는 것이 아니라, 디코더의 현재 time step의 예측에 인코더의 각 step이 얼마나 영향을 미치는지에 따른 가중합으로 계산되는 방식이다.   \n",
    "\n"
   ]
  },
  {
   "cell_type": "markdown",
   "id": "4b4857a9",
   "metadata": {},
   "source": [
    "---\n",
    "> **2. 루브릭 평가기준**\n",
    "-"
   ]
  },
  {
   "cell_type": "markdown",
   "id": "a29cdaf9",
   "metadata": {},
   "source": [
    "|평가문항 | 상세기준|\n",
    "|:---------|:---------|\n",
    "|1. Abstractive 모델 구성을 위한 텍스트 전처리 단계가 체계적으로 진행되었다. | 분석단계, 정제단계, 정규화와 불용어 제거, 데이터셋 분리, 인코딩 과정이 빠짐없이 체계적으로 진행되었다.|\n",
    "|2. 텍스트 요약모델이 성공적으로 학습되었음을 확인하였다. | 모델학습이 안정적으로 수렴되었음을 그래프를 통해 확인하였으며, 실제 요약문과 유사한 요약문장을 얻을 수 있었다.|\n",
    "|3. Extractive 요약을 시도해 보고 Abstractive 요약 결과과 함께 비교해 보았다.| 두 요약 결과를 문법완성도 측면과 핵심단어 포함 측면으로 나누어 비교분석 결과를 제시하였다.|"
   ]
  },
  {
   "cell_type": "markdown",
   "id": "f3bd802f",
   "metadata": {},
   "source": [
    "---\n",
    "> **3. Project**\n",
    "-"
   ]
  },
  {
   "cell_type": "markdown",
   "id": "136047f5",
   "metadata": {},
   "source": [
    "> 3.1 데이터 수집하기"
   ]
  },
  {
   "cell_type": "code",
   "execution_count": 6,
   "id": "7ab287a0",
   "metadata": {},
   "outputs": [
    {
     "name": "stderr",
     "output_type": "stream",
     "text": [
      "[nltk_data] Downloading package stopwords to /aiffel/nltk_data...\n",
      "[nltk_data]   Unzipping corpora/stopwords.zip.\n"
     ]
    }
   ],
   "source": [
    "import nltk\n",
    "nltk.download('stopwords')\n",
    "\n",
    "import numpy as np\n",
    "import pandas as pd\n",
    "import os\n",
    "import re\n",
    "import matplotlib.pyplot as plt\n",
    "from nltk.corpus import stopwords\n",
    "from bs4 import BeautifulSoup \n",
    "from tensorflow.keras.preprocessing.text import Tokenizer \n",
    "from tensorflow.keras.preprocessing.sequence import pad_sequences\n",
    "import urllib.request\n",
    "import warnings\n",
    "warnings.filterwarnings(\"ignore\", category=UserWarning, module='bs4')"
   ]
  },
  {
   "cell_type": "code",
   "execution_count": 7,
   "id": "91b3a9e9",
   "metadata": {
    "scrolled": true
   },
   "outputs": [],
   "source": [
    "import urllib.request\n",
    "urllib.request.urlretrieve(\"https://raw.githubusercontent.com/sunnysai12345/News_Summary/master/news_summary_more.csv\", filename=\"news_summary_more.csv\")\n",
    "data = pd.read_csv('news_summary_more.csv', encoding='iso-8859-1')"
   ]
  },
  {
   "cell_type": "code",
   "execution_count": 4,
   "id": "84abdab6",
   "metadata": {
    "scrolled": true
   },
   "outputs": [
    {
     "data": {
      "text/html": [
       "<div>\n",
       "<style scoped>\n",
       "    .dataframe tbody tr th:only-of-type {\n",
       "        vertical-align: middle;\n",
       "    }\n",
       "\n",
       "    .dataframe tbody tr th {\n",
       "        vertical-align: top;\n",
       "    }\n",
       "\n",
       "    .dataframe thead th {\n",
       "        text-align: right;\n",
       "    }\n",
       "</style>\n",
       "<table border=\"1\" class=\"dataframe\">\n",
       "  <thead>\n",
       "    <tr style=\"text-align: right;\">\n",
       "      <th></th>\n",
       "      <th>headlines</th>\n",
       "      <th>text</th>\n",
       "    </tr>\n",
       "  </thead>\n",
       "  <tbody>\n",
       "    <tr>\n",
       "      <th>77411</th>\n",
       "      <td>Trump campaign was dysfunctional for any collu...</td>\n",
       "      <td>US President Donald Trump's campaign could not...</td>\n",
       "    </tr>\n",
       "    <tr>\n",
       "      <th>74828</th>\n",
       "      <td>Toblerone shape not distinctive for trademark:...</td>\n",
       "      <td>British budget chain Poundland has claimed Tob...</td>\n",
       "    </tr>\n",
       "    <tr>\n",
       "      <th>46369</th>\n",
       "      <td>Apple forced to store iCloud keys in China</td>\n",
       "      <td>Apple has said it is required to store keys fo...</td>\n",
       "    </tr>\n",
       "    <tr>\n",
       "      <th>31605</th>\n",
       "      <td>Being PM doesn't make anyone wisest in country...</td>\n",
       "      <td>Suggesting PM Narendra Modi to not \"get person...</td>\n",
       "    </tr>\n",
       "    <tr>\n",
       "      <th>18190</th>\n",
       "      <td>Umesh Yadav trolled for his late Teachers' Day...</td>\n",
       "      <td>Reacting to Indian pacer Umesh Yadav's late tw...</td>\n",
       "    </tr>\n",
       "    <tr>\n",
       "      <th>6210</th>\n",
       "      <td>Abhishek Bachchan to make his digital debut wi...</td>\n",
       "      <td>Abhishek Bachchan took to Twitter to announce ...</td>\n",
       "    </tr>\n",
       "    <tr>\n",
       "      <th>61071</th>\n",
       "      <td>UPSC sets 7-day time limit to report mistakes ...</td>\n",
       "      <td>The Union Public Service Commission has fixed ...</td>\n",
       "    </tr>\n",
       "    <tr>\n",
       "      <th>49775</th>\n",
       "      <td>Uttar Pradesh to provide employment to kin of ...</td>\n",
       "      <td>The Uttar Pradesh Cabinet on Tuesday approved ...</td>\n",
       "    </tr>\n",
       "    <tr>\n",
       "      <th>6041</th>\n",
       "      <td>Only Don Bradman reached 25 Test tons in fewer...</td>\n",
       "      <td>India captain Virat Kohli smashed his 25th Tes...</td>\n",
       "    </tr>\n",
       "    <tr>\n",
       "      <th>59643</th>\n",
       "      <td>FB to tell users if they interacted with Russi...</td>\n",
       "      <td>Facebook has promised to tell users whether th...</td>\n",
       "    </tr>\n",
       "  </tbody>\n",
       "</table>\n",
       "</div>"
      ],
      "text/plain": [
       "                                               headlines  \\\n",
       "77411  Trump campaign was dysfunctional for any collu...   \n",
       "74828  Toblerone shape not distinctive for trademark:...   \n",
       "46369         Apple forced to store iCloud keys in China   \n",
       "31605  Being PM doesn't make anyone wisest in country...   \n",
       "18190  Umesh Yadav trolled for his late Teachers' Day...   \n",
       "6210   Abhishek Bachchan to make his digital debut wi...   \n",
       "61071  UPSC sets 7-day time limit to report mistakes ...   \n",
       "49775  Uttar Pradesh to provide employment to kin of ...   \n",
       "6041   Only Don Bradman reached 25 Test tons in fewer...   \n",
       "59643  FB to tell users if they interacted with Russi...   \n",
       "\n",
       "                                                    text  \n",
       "77411  US President Donald Trump's campaign could not...  \n",
       "74828  British budget chain Poundland has claimed Tob...  \n",
       "46369  Apple has said it is required to store keys fo...  \n",
       "31605  Suggesting PM Narendra Modi to not \"get person...  \n",
       "18190  Reacting to Indian pacer Umesh Yadav's late tw...  \n",
       "6210   Abhishek Bachchan took to Twitter to announce ...  \n",
       "61071  The Union Public Service Commission has fixed ...  \n",
       "49775  The Uttar Pradesh Cabinet on Tuesday approved ...  \n",
       "6041   India captain Virat Kohli smashed his 25th Tes...  \n",
       "59643  Facebook has promised to tell users whether th...  "
      ]
     },
     "execution_count": 4,
     "metadata": {},
     "output_type": "execute_result"
    }
   ],
   "source": [
    "data.sample(10)"
   ]
  },
  {
   "cell_type": "markdown",
   "id": "2f9abcf6",
   "metadata": {},
   "source": [
    "> 3.2 데이터 전처리"
   ]
  },
  {
   "cell_type": "code",
   "execution_count": 6,
   "id": "8e55cbb9",
   "metadata": {},
   "outputs": [
    {
     "name": "stdout",
     "output_type": "stream",
     "text": [
      "Text 열에서 중복을 배제한 유일한 샘플의 수 : 98360\n",
      "Summary 열에서 중복을 배제한 유일한 샘플의 수 : 98280\n"
     ]
    }
   ],
   "source": [
    "print('Text 열에서 중복을 배제한 유일한 샘플의 수 :', data['text'].nunique())\n",
    "print('Summary 열에서 중복을 배제한 유일한 샘플의 수 :', data['headlines'].nunique())"
   ]
  },
  {
   "cell_type": "code",
   "execution_count": 8,
   "id": "51ebe43e",
   "metadata": {},
   "outputs": [
    {
     "name": "stdout",
     "output_type": "stream",
     "text": [
      "전체 샘플수 : 98360\n"
     ]
    }
   ],
   "source": [
    "# 중복샘플 데이터 제거\n",
    "# inplace=True 를 설정하면 DataFrame 타입 값을 return 하지 않고 data 내부를 직접적으로 바꿉니다\n",
    "data.drop_duplicates(subset = ['text'], inplace=True)\n",
    "print('전체 샘플수 :', (len(data)))"
   ]
  },
  {
   "cell_type": "code",
   "execution_count": 10,
   "id": "d7d417d7",
   "metadata": {},
   "outputs": [
    {
     "name": "stdout",
     "output_type": "stream",
     "text": [
      "headlines    0\n",
      "text         0\n",
      "dtype: int64\n"
     ]
    }
   ],
   "source": [
    "# 데이터 프레임에 NULL값 있는지 확인\n",
    "print(data.isnull().sum()) "
   ]
  },
  {
   "cell_type": "markdown",
   "id": "27a0cd4c",
   "metadata": {},
   "source": [
    "Null값이 없음을 볼 수 있다."
   ]
  },
  {
   "cell_type": "code",
   "execution_count": 11,
   "id": "736f1852",
   "metadata": {},
   "outputs": [
    {
     "name": "stdout",
     "output_type": "stream",
     "text": [
      "정규화 사전의 수:  120\n"
     ]
    }
   ],
   "source": [
    "contractions = {\"ain't\": \"is not\", \"aren't\": \"are not\",\"can't\": \"cannot\", \"'cause\": \"because\", \"could've\": \"could have\", \"couldn't\": \"could not\",\n",
    "                           \"didn't\": \"did not\",  \"doesn't\": \"does not\", \"don't\": \"do not\", \"hadn't\": \"had not\", \"hasn't\": \"has not\", \"haven't\": \"have not\",\n",
    "                           \"he'd\": \"he would\",\"he'll\": \"he will\", \"he's\": \"he is\", \"how'd\": \"how did\", \"how'd'y\": \"how do you\", \"how'll\": \"how will\", \"how's\": \"how is\",\n",
    "                           \"I'd\": \"I would\", \"I'd've\": \"I would have\", \"I'll\": \"I will\", \"I'll've\": \"I will have\",\"I'm\": \"I am\", \"I've\": \"I have\", \"i'd\": \"i would\",\n",
    "                           \"i'd've\": \"i would have\", \"i'll\": \"i will\",  \"i'll've\": \"i will have\",\"i'm\": \"i am\", \"i've\": \"i have\", \"isn't\": \"is not\", \"it'd\": \"it would\",\n",
    "                           \"it'd've\": \"it would have\", \"it'll\": \"it will\", \"it'll've\": \"it will have\",\"it's\": \"it is\", \"let's\": \"let us\", \"ma'am\": \"madam\",\n",
    "                           \"mayn't\": \"may not\", \"might've\": \"might have\",\"mightn't\": \"might not\",\"mightn't've\": \"might not have\", \"must've\": \"must have\",\n",
    "                           \"mustn't\": \"must not\", \"mustn't've\": \"must not have\", \"needn't\": \"need not\", \"needn't've\": \"need not have\",\"o'clock\": \"of the clock\",\n",
    "                           \"oughtn't\": \"ought not\", \"oughtn't've\": \"ought not have\", \"shan't\": \"shall not\", \"sha'n't\": \"shall not\", \"shan't've\": \"shall not have\",\n",
    "                           \"she'd\": \"she would\", \"she'd've\": \"she would have\", \"she'll\": \"she will\", \"she'll've\": \"she will have\", \"she's\": \"she is\",\n",
    "                           \"should've\": \"should have\", \"shouldn't\": \"should not\", \"shouldn't've\": \"should not have\", \"so've\": \"so have\",\"so's\": \"so as\",\n",
    "                           \"this's\": \"this is\",\"that'd\": \"that would\", \"that'd've\": \"that would have\", \"that's\": \"that is\", \"there'd\": \"there would\",\n",
    "                           \"there'd've\": \"there would have\", \"there's\": \"there is\", \"here's\": \"here is\",\"they'd\": \"they would\", \"they'd've\": \"they would have\",\n",
    "                           \"they'll\": \"they will\", \"they'll've\": \"they will have\", \"they're\": \"they are\", \"they've\": \"they have\", \"to've\": \"to have\",\n",
    "                           \"wasn't\": \"was not\", \"we'd\": \"we would\", \"we'd've\": \"we would have\", \"we'll\": \"we will\", \"we'll've\": \"we will have\", \"we're\": \"we are\",\n",
    "                           \"we've\": \"we have\", \"weren't\": \"were not\", \"what'll\": \"what will\", \"what'll've\": \"what will have\", \"what're\": \"what are\",\n",
    "                           \"what's\": \"what is\", \"what've\": \"what have\", \"when's\": \"when is\", \"when've\": \"when have\", \"where'd\": \"where did\", \"where's\": \"where is\",\n",
    "                           \"where've\": \"where have\", \"who'll\": \"who will\", \"who'll've\": \"who will have\", \"who's\": \"who is\", \"who've\": \"who have\",\n",
    "                           \"why's\": \"why is\", \"why've\": \"why have\", \"will've\": \"will have\", \"won't\": \"will not\", \"won't've\": \"will not have\",\n",
    "                           \"would've\": \"would have\", \"wouldn't\": \"would not\", \"wouldn't've\": \"would not have\", \"y'all\": \"you all\",\n",
    "                           \"y'all'd\": \"you all would\",\"y'all'd've\": \"you all would have\",\"y'all're\": \"you all are\",\"y'all've\": \"you all have\",\n",
    "                           \"you'd\": \"you would\", \"you'd've\": \"you would have\", \"you'll\": \"you will\", \"you'll've\": \"you will have\",\n",
    "                           \"you're\": \"you are\", \"you've\": \"you have\"}\n",
    "\n",
    "print(\"정규화 사전의 수: \", len(contractions))"
   ]
  },
  {
   "cell_type": "code",
   "execution_count": 12,
   "id": "f4366c6b",
   "metadata": {},
   "outputs": [
    {
     "name": "stdout",
     "output_type": "stream",
     "text": [
      "불용어 개수 : 179\n",
      "['i', 'me', 'my', 'myself', 'we', 'our', 'ours', 'ourselves', 'you', \"you're\", \"you've\", \"you'll\", \"you'd\", 'your', 'yours', 'yourself', 'yourselves', 'he', 'him', 'his', 'himself', 'she', \"she's\", 'her', 'hers', 'herself', 'it', \"it's\", 'its', 'itself', 'they', 'them', 'their', 'theirs', 'themselves', 'what', 'which', 'who', 'whom', 'this', 'that', \"that'll\", 'these', 'those', 'am', 'is', 'are', 'was', 'were', 'be', 'been', 'being', 'have', 'has', 'had', 'having', 'do', 'does', 'did', 'doing', 'a', 'an', 'the', 'and', 'but', 'if', 'or', 'because', 'as', 'until', 'while', 'of', 'at', 'by', 'for', 'with', 'about', 'against', 'between', 'into', 'through', 'during', 'before', 'after', 'above', 'below', 'to', 'from', 'up', 'down', 'in', 'out', 'on', 'off', 'over', 'under', 'again', 'further', 'then', 'once', 'here', 'there', 'when', 'where', 'why', 'how', 'all', 'any', 'both', 'each', 'few', 'more', 'most', 'other', 'some', 'such', 'no', 'nor', 'not', 'only', 'own', 'same', 'so', 'than', 'too', 'very', 's', 't', 'can', 'will', 'just', 'don', \"don't\", 'should', \"should've\", 'now', 'd', 'll', 'm', 'o', 're', 've', 'y', 'ain', 'aren', \"aren't\", 'couldn', \"couldn't\", 'didn', \"didn't\", 'doesn', \"doesn't\", 'hadn', \"hadn't\", 'hasn', \"hasn't\", 'haven', \"haven't\", 'isn', \"isn't\", 'ma', 'mightn', \"mightn't\", 'mustn', \"mustn't\", 'needn', \"needn't\", 'shan', \"shan't\", 'shouldn', \"shouldn't\", 'wasn', \"wasn't\", 'weren', \"weren't\", 'won', \"won't\", 'wouldn', \"wouldn't\"]\n"
     ]
    }
   ],
   "source": [
    "print('불용어 개수 :', len(stopwords.words('english') ))\n",
    "print(stopwords.words('english'))"
   ]
  },
  {
   "cell_type": "code",
   "execution_count": 13,
   "id": "2b66dd4e",
   "metadata": {},
   "outputs": [],
   "source": [
    "# 데이터 전처리 함수\n",
    "def preprocess_sentence(sentence, remove_stopwords=True):\n",
    "    sentence = sentence.lower() # 텍스트 소문자화\n",
    "    sentence = BeautifulSoup(sentence, \"lxml\").text # <br />, <a href = ...> 등의 html 태그 제거\n",
    "    sentence = re.sub(r'\\([^)]*\\)', '', sentence) # 괄호로 닫힌 문자열 (...) 제거 Ex) my husband (and myself!) for => my husband for\n",
    "    sentence = re.sub('\"','', sentence) # 쌍따옴표 \" 제거\n",
    "    sentence = ' '.join([contractions[t] if t in contractions else t for t in sentence.split(\" \")]) # 약어 정규화\n",
    "    sentence = re.sub(r\"'s\\b\",\"\", sentence) # 소유격 제거. Ex) roland's -> roland\n",
    "    sentence = re.sub(\"[^a-zA-Z]\", \" \", sentence) # 영어 외 문자(숫자, 특수문자 등) 공백으로 변환\n",
    "    sentence = re.sub('[m]{2,}', 'mm', sentence) # m이 3개 이상이면 2개로 변경. Ex) ummmmmmm yeah -> umm yeah\n",
    "    \n",
    "    # 불용어 제거 (Text)\n",
    "    if remove_stopwords:\n",
    "        tokens = ' '.join(word for word in sentence.split() if not word in stopwords.words('english') if len(word) > 1)\n",
    "    # 불용어 미제거 (Summary)\n",
    "    else:\n",
    "        tokens = ' '.join(word for word in sentence.split() if len(word) > 1)\n",
    "    return tokens"
   ]
  },
  {
   "cell_type": "code",
   "execution_count": 15,
   "id": "996484b8",
   "metadata": {},
   "outputs": [
    {
     "name": "stdout",
     "output_type": "stream",
     "text": [
      "Text 전처리 후 결과:  ['saurav kant alumnus upgrad iiit pg program machine learning artificial intelligence sr systems engineer infosys almost years work experience program upgrad degree career support helped transition data scientist tech mahindra salary hike upgrad online power learning powered lakh careers', 'kunal shah credit card bill payment platform cred gave users chance win free food swiggy one year pranav kaushik delhi techie bagged reward spending cred coins users get one cred coin per rupee bill paid used avail rewards brands like ixigo bookmyshow ubereats cult fit', 'new zealand defeated india wickets fourth odi hamilton thursday win first match five match odi series india lost international match rohit sharma captaincy consecutive victories dating back march match witnessed india getting seventh lowest total odi cricket history', 'aegon life iterm insurance plan customers enjoy tax benefits premiums paid save taxes plan provides life cover age years also customers options insure critical illnesses disability accidental death benefit rider life cover age years', 'speaking sexual harassment allegations rajkumar hirani sonam kapoor said known hirani many years true metoo movement get derailed metoo movement always believe woman case need reserve judgment added hirani accused assistant worked sanju']\n"
     ]
    }
   ],
   "source": [
    "clean_text = []\n",
    "# 전체 Text 데이터에 대한 전처리 : 10분 이상 시간이 걸릴 수 있습니다. \n",
    "for s in data['text']:\n",
    "    clean_text.append(preprocess_sentence(s))\n",
    "\n",
    "# 전처리 후 출력\n",
    "print(\"Text 전처리 후 결과: \", clean_text[:5])"
   ]
  },
  {
   "cell_type": "code",
   "execution_count": 17,
   "id": "11cf4cba",
   "metadata": {},
   "outputs": [
    {
     "name": "stdout",
     "output_type": "stream",
     "text": [
      "headlines 전처리 후 결과:  ['upgrad learner switches to career in ml al with salary hike', 'delhi techie wins free food from swiggy for one year on cred', 'new zealand end rohit sharma led india match winning streak', 'aegon life iterm insurance plan helps customers save tax', 'have known hirani for yrs what if metoo claims are not true sonam']\n"
     ]
    }
   ],
   "source": [
    "#이제 headlines에 대해서 전처리 함수를 호출해 줄 때는, 불용어 제거를 수행하지 않는다는 의미에서 두 번째 인자로 False를 넣어줄게요.\n",
    "clean_headlines = []\n",
    "# 전체 headlines 데이터에 대한 전처리 : 5분 이상 시간이 걸릴 수 있습니다. \n",
    "for s in data['headlines']:\n",
    "    clean_headlines.append(preprocess_sentence(s, False))\n",
    "\n",
    "print(\"headlines 전처리 후 결과: \", clean_headlines[:5])"
   ]
  },
  {
   "cell_type": "code",
   "execution_count": 18,
   "id": "e7e0aef7",
   "metadata": {},
   "outputs": [],
   "source": [
    "data['text'] = clean_text\n",
    "data['headlines'] = clean_headlines\n",
    "\n",
    "# 빈 값을 Null 값으로 변환\n",
    "data.replace('', np.nan, inplace=True) # 빈 값을 가진 샘플들은 모두 Null 값을 가진 샘플로 대체"
   ]
  },
  {
   "cell_type": "code",
   "execution_count": 19,
   "id": "073191d5",
   "metadata": {},
   "outputs": [
    {
     "data": {
      "text/plain": [
       "headlines    0\n",
       "text         0\n",
       "dtype: int64"
      ]
     },
     "execution_count": 19,
     "metadata": {},
     "output_type": "execute_result"
    }
   ],
   "source": [
    "data.isnull().sum()"
   ]
  },
  {
   "cell_type": "markdown",
   "id": "1b05474d",
   "metadata": {},
   "source": [
    "여전히 null값은 없다."
   ]
  },
  {
   "cell_type": "code",
   "execution_count": 20,
   "id": "9cbbe5aa",
   "metadata": {},
   "outputs": [
    {
     "name": "stdout",
     "output_type": "stream",
     "text": [
      "전체 샘플수 : 98360\n"
     ]
    }
   ],
   "source": [
    "data.dropna(axis=0, inplace=True)\n",
    "print('전체 샘플수 :', (len(data)))"
   ]
  },
  {
   "cell_type": "markdown",
   "id": "22c186a1",
   "metadata": {},
   "source": [
    "---\n",
    "## 훈련데이터, 테스트데이터 나누기"
   ]
  },
  {
   "cell_type": "code",
   "execution_count": 23,
   "id": "266f3fcd",
   "metadata": {},
   "outputs": [
    {
     "name": "stdout",
     "output_type": "stream",
     "text": [
      "텍스트의 최소 길이 : 1\n",
      "텍스트의 최대 길이 : 60\n",
      "텍스트의 평균 길이 : 35.09968483123221\n",
      "헤드라인의 최소 길이 : 1\n",
      "헤드라인의 최대 길이 : 16\n",
      "헤드라인의 평균 길이 : 9.299532330215534\n"
     ]
    },
    {
     "data": {
      "image/png": "[encoded data removed]",
      "text/plain": [
       "<Figure size 432x288 with 2 Axes>"
      ]
     },
     "metadata": {
      "needs_background": "light"
     },
     "output_type": "display_data"
    },
    {
     "data": {
      "image/png": "[encoded data removed]",
      "text/plain": [
       "<Figure size 432x288 with 1 Axes>"
      ]
     },
     "metadata": {
      "needs_background": "light"
     },
     "output_type": "display_data"
    },
    {
     "data": {
      "image/png": "[encoded data removed]",
      "text/plain": [
       "<Figure size 432x288 with 1 Axes>"
      ]
     },
     "metadata": {
      "needs_background": "light"
     },
     "output_type": "display_data"
    }
   ],
   "source": [
    "# 길이 분포 출력\n",
    "import matplotlib.pyplot as plt\n",
    "\n",
    "text_len = [len(s.split()) for s in data['text']]\n",
    "summary_len = [len(s.split()) for s in data['headlines']]\n",
    "\n",
    "print('텍스트의 최소 길이 : {}'.format(np.min(text_len)))\n",
    "print('텍스트의 최대 길이 : {}'.format(np.max(text_len)))\n",
    "print('텍스트의 평균 길이 : {}'.format(np.mean(text_len)))\n",
    "print('헤드라인의 최소 길이 : {}'.format(np.min(summary_len)))\n",
    "print('헤드라인의 최대 길이 : {}'.format(np.max(summary_len)))\n",
    "print('헤드라인의 평균 길이 : {}'.format(np.mean(summary_len)))\n",
    "\n",
    "plt.subplot(1,2,1)\n",
    "plt.boxplot(text_len)\n",
    "plt.title('text')\n",
    "plt.subplot(1,2,2)\n",
    "plt.boxplot(summary_len)\n",
    "plt.title('headlines')\n",
    "plt.tight_layout()\n",
    "plt.show()\n",
    "\n",
    "plt.title('text')\n",
    "plt.hist(text_len, bins = 40)\n",
    "plt.xlabel('length of samples')\n",
    "plt.ylabel('number of samples')\n",
    "plt.show()\n",
    "\n",
    "plt.title('headlines')\n",
    "plt.hist(summary_len, bins = 40)\n",
    "plt.xlabel('length of samples')\n",
    "plt.ylabel('number of samples')\n",
    "plt.show()"
   ]
  },
  {
   "cell_type": "code",
   "execution_count": 24,
   "id": "ea3e67da",
   "metadata": {},
   "outputs": [],
   "source": [
    "text_max_len = 40\n",
    "headlines_max_len = 10"
   ]
  },
  {
   "cell_type": "markdown",
   "id": "e9fb5126",
   "metadata": {},
   "source": [
    "위에 그래프를 토대로 텍스트 40, 헤드라인 10을 최대 길이로 임의 설정했다."
   ]
  },
  {
   "cell_type": "code",
   "execution_count": 25,
   "id": "f35f69ff",
   "metadata": {},
   "outputs": [],
   "source": [
    "# 데이터의 몇 %에 해당하는지 계산하는 함수\n",
    "def below_threshold_len(max_len, nested_list):\n",
    "  cnt = 0\n",
    "  for s in nested_list:\n",
    "    if(len(s.split()) <= max_len):\n",
    "        cnt = cnt + 1\n",
    "  print('전체 샘플 중 길이가 %s 이하인 샘플의 비율: %s'%(max_len, (cnt / len(nested_list))))"
   ]
  },
  {
   "cell_type": "code",
   "execution_count": 27,
   "id": "8914f769",
   "metadata": {
    "scrolled": true
   },
   "outputs": [
    {
     "name": "stdout",
     "output_type": "stream",
     "text": [
      "전체 샘플 중 길이가 40 이하인 샘플의 비율: 0.9238714924766165\n",
      "전체 샘플 중 길이가 10 이하인 샘플의 비율: 0.8162972753151687\n"
     ]
    }
   ],
   "source": [
    "below_threshold_len(text_max_len, data['text'])\n",
    "below_threshold_len(headlines_max_len,  data['headlines'])"
   ]
  },
  {
   "cell_type": "markdown",
   "id": "82b24e10",
   "metadata": {},
   "source": [
    "텍스트는 약 8 %, 헤드라인은 약 18%의 내용이 망가질 것이다."
   ]
  },
  {
   "cell_type": "code",
   "execution_count": 29,
   "id": "6c93dfb6",
   "metadata": {},
   "outputs": [
    {
     "name": "stdout",
     "output_type": "stream",
     "text": [
      "전체 샘플수 : 74102\n"
     ]
    }
   ],
   "source": [
    "data = data[data['text'].apply(lambda x: len(x.split()) <= text_max_len)]\n",
    "data = data[data['headlines'].apply(lambda x: len(x.split()) <= headlines_max_len)]\n",
    "print('전체 샘플수 :', (len(data)))"
   ]
  },
  {
   "cell_type": "markdown",
   "id": "319199a9",
   "metadata": {},
   "source": [
    "---\n",
    "## 시작 토큰, 종료 토큰 추가"
   ]
  },
  {
   "cell_type": "code",
   "execution_count": 30,
   "id": "0597ad6a",
   "metadata": {},
   "outputs": [
    {
     "data": {
      "text/html": [
       "<div>\n",
       "<style scoped>\n",
       "    .dataframe tbody tr th:only-of-type {\n",
       "        vertical-align: middle;\n",
       "    }\n",
       "\n",
       "    .dataframe tbody tr th {\n",
       "        vertical-align: top;\n",
       "    }\n",
       "\n",
       "    .dataframe thead th {\n",
       "        text-align: right;\n",
       "    }\n",
       "</style>\n",
       "<table border=\"1\" class=\"dataframe\">\n",
       "  <thead>\n",
       "    <tr style=\"text-align: right;\">\n",
       "      <th></th>\n",
       "      <th>headlines</th>\n",
       "      <th>text</th>\n",
       "      <th>decoder_input</th>\n",
       "      <th>decoder_target</th>\n",
       "    </tr>\n",
       "  </thead>\n",
       "  <tbody>\n",
       "    <tr>\n",
       "      <th>2</th>\n",
       "      <td>new zealand end rohit sharma led india match w...</td>\n",
       "      <td>new zealand defeated india wickets fourth odi ...</td>\n",
       "      <td>sostoken new zealand end rohit sharma led indi...</td>\n",
       "      <td>new zealand end rohit sharma led india match w...</td>\n",
       "    </tr>\n",
       "    <tr>\n",
       "      <th>3</th>\n",
       "      <td>aegon life iterm insurance plan helps customer...</td>\n",
       "      <td>aegon life iterm insurance plan customers enjo...</td>\n",
       "      <td>sostoken aegon life iterm insurance plan helps...</td>\n",
       "      <td>aegon life iterm insurance plan helps customer...</td>\n",
       "    </tr>\n",
       "    <tr>\n",
       "      <th>5</th>\n",
       "      <td>rahat fateh ali khan denies getting notice for...</td>\n",
       "      <td>pakistani singer rahat fateh ali khan denied r...</td>\n",
       "      <td>sostoken rahat fateh ali khan denies getting n...</td>\n",
       "      <td>rahat fateh ali khan denies getting notice for...</td>\n",
       "    </tr>\n",
       "    <tr>\n",
       "      <th>9</th>\n",
       "      <td>cong wins ramgarh bypoll in rajasthan takes to...</td>\n",
       "      <td>congress candidate shafia zubair ramgarh assem...</td>\n",
       "      <td>sostoken cong wins ramgarh bypoll in rajasthan...</td>\n",
       "      <td>cong wins ramgarh bypoll in rajasthan takes to...</td>\n",
       "    </tr>\n",
       "    <tr>\n",
       "      <th>10</th>\n",
       "      <td>up cousins fed human excreta for friendship wi...</td>\n",
       "      <td>two minor cousins uttar pradesh gorakhpur alle...</td>\n",
       "      <td>sostoken up cousins fed human excreta for frie...</td>\n",
       "      <td>up cousins fed human excreta for friendship wi...</td>\n",
       "    </tr>\n",
       "  </tbody>\n",
       "</table>\n",
       "</div>"
      ],
      "text/plain": [
       "                                            headlines  \\\n",
       "2   new zealand end rohit sharma led india match w...   \n",
       "3   aegon life iterm insurance plan helps customer...   \n",
       "5   rahat fateh ali khan denies getting notice for...   \n",
       "9   cong wins ramgarh bypoll in rajasthan takes to...   \n",
       "10  up cousins fed human excreta for friendship wi...   \n",
       "\n",
       "                                                 text  \\\n",
       "2   new zealand defeated india wickets fourth odi ...   \n",
       "3   aegon life iterm insurance plan customers enjo...   \n",
       "5   pakistani singer rahat fateh ali khan denied r...   \n",
       "9   congress candidate shafia zubair ramgarh assem...   \n",
       "10  two minor cousins uttar pradesh gorakhpur alle...   \n",
       "\n",
       "                                        decoder_input  \\\n",
       "2   sostoken new zealand end rohit sharma led indi...   \n",
       "3   sostoken aegon life iterm insurance plan helps...   \n",
       "5   sostoken rahat fateh ali khan denies getting n...   \n",
       "9   sostoken cong wins ramgarh bypoll in rajasthan...   \n",
       "10  sostoken up cousins fed human excreta for frie...   \n",
       "\n",
       "                                       decoder_target  \n",
       "2   new zealand end rohit sharma led india match w...  \n",
       "3   aegon life iterm insurance plan helps customer...  \n",
       "5   rahat fateh ali khan denies getting notice for...  \n",
       "9   cong wins ramgarh bypoll in rajasthan takes to...  \n",
       "10  up cousins fed human excreta for friendship wi...  "
      ]
     },
     "execution_count": 30,
     "metadata": {},
     "output_type": "execute_result"
    }
   ],
   "source": [
    "# 요약 데이터에는 시작 토큰과 종료 토큰을 추가한다.\n",
    "data['decoder_input'] = data['headlines'].apply(lambda x : 'sostoken '+ x)\n",
    "data['decoder_target'] = data['headlines'].apply(lambda x : x + ' eostoken')\n",
    "data.head()"
   ]
  },
  {
   "cell_type": "code",
   "execution_count": 31,
   "id": "2188b4ce",
   "metadata": {},
   "outputs": [],
   "source": [
    "# 인코더의 입력, 디코더의 입력과 레이블을 넘파이 타입으로 저장\n",
    "\n",
    "encoder_input = np.array(data['text']) # 인코더의 입력\n",
    "decoder_input = np.array(data['decoder_input']) # 디코더의 입력\n",
    "decoder_target = np.array(data['decoder_target']) # 디코더의 레이블"
   ]
  },
  {
   "cell_type": "code",
   "execution_count": 32,
   "id": "83a9c5c1",
   "metadata": {},
   "outputs": [
    {
     "name": "stdout",
     "output_type": "stream",
     "text": [
      "[25878 39230 45727 ... 24501 14856 55086]\n"
     ]
    }
   ],
   "source": [
    "indices = np.arange(encoder_input.shape[0])\n",
    "np.random.shuffle(indices)\n",
    "print(indices)"
   ]
  },
  {
   "cell_type": "code",
   "execution_count": 34,
   "id": "6c5822a9",
   "metadata": {},
   "outputs": [
    {
     "name": "stdout",
     "output_type": "stream",
     "text": [
      "테스트 데이터의 수 : 14820\n"
     ]
    }
   ],
   "source": [
    "encoder_input = encoder_input[indices]\n",
    "decoder_input = decoder_input[indices]\n",
    "decoder_target = decoder_target[indices]\n",
    "\n",
    "n_of_val = int(len(encoder_input)*0.2)\n",
    "print('테스트 데이터의 수 :', n_of_val)"
   ]
  },
  {
   "cell_type": "code",
   "execution_count": 35,
   "id": "25627740",
   "metadata": {
    "scrolled": true
   },
   "outputs": [
    {
     "name": "stdout",
     "output_type": "stream",
     "text": [
      "훈련 데이터의 개수 : 59282\n",
      "훈련 레이블의 개수 : 59282\n",
      "테스트 데이터의 개수 : 14820\n",
      "테스트 레이블의 개수 : 14820\n"
     ]
    }
   ],
   "source": [
    "encoder_input_train = encoder_input[:-n_of_val]\n",
    "decoder_input_train = decoder_input[:-n_of_val]\n",
    "decoder_target_train = decoder_target[:-n_of_val]\n",
    "\n",
    "encoder_input_test = encoder_input[-n_of_val:]\n",
    "decoder_input_test = decoder_input[-n_of_val:]\n",
    "decoder_target_test = decoder_target[-n_of_val:]\n",
    "\n",
    "print('훈련 데이터의 개수 :', len(encoder_input_train))\n",
    "print('훈련 레이블의 개수 :', len(decoder_input_train))\n",
    "print('테스트 데이터의 개수 :', len(encoder_input_test))\n",
    "print('테스트 레이블의 개수 :', len(decoder_input_test))"
   ]
  },
  {
   "cell_type": "markdown",
   "id": "6ca32e34",
   "metadata": {},
   "source": [
    "---\n",
    "## 정수 인코딩"
   ]
  },
  {
   "cell_type": "code",
   "execution_count": 36,
   "id": "169e8420",
   "metadata": {},
   "outputs": [],
   "source": [
    "src_tokenizer = Tokenizer() # 토크나이저 정의\n",
    "src_tokenizer.fit_on_texts(encoder_input_train) # 입력된 데이터로부터 단어 집합 생성"
   ]
  },
  {
   "cell_type": "code",
   "execution_count": 53,
   "id": "94562508",
   "metadata": {
    "scrolled": true
   },
   "outputs": [
    {
     "name": "stdout",
     "output_type": "stream",
     "text": [
      "단어 집합(vocabulary)의 크기 : 61480\n",
      "등장 빈도가 7번 이하인 희귀 단어의 수: 43470\n",
      "단어 집합에서 희귀 단어를 제외시킬 경우의 단어 집합의 크기 18010\n",
      "단어 집합에서 희귀 단어의 비율: 70.70592062459336\n",
      "전체 등장 빈도에서 희귀 단어 등장 빈도 비율: 4.645851801293932\n"
     ]
    }
   ],
   "source": [
    "# 빈도수가 적은 단어 제거\n",
    "threshold = 8  # 빈도수\n",
    "total_cnt = len(src_tokenizer.word_index) # 단어의 수\n",
    "rare_cnt = 0 # 등장 빈도수가 threshold보다 작은 단어의 개수를 카운트\n",
    "total_freq = 0 # 훈련 데이터의 전체 단어 빈도수 총 합\n",
    "rare_freq = 0 # 등장 빈도수가 threshold보다 작은 단어의 등장 빈도수의 총 합\n",
    "\n",
    "# 단어와 빈도수의 쌍(pair)을 key와 value로 받는다.\n",
    "for key, value in src_tokenizer.word_counts.items():\n",
    "    total_freq = total_freq + value\n",
    "\n",
    "    # 단어의 등장 빈도수가 threshold보다 작으면\n",
    "    if(value < threshold):\n",
    "        rare_cnt = rare_cnt + 1\n",
    "        rare_freq = rare_freq + value\n",
    "\n",
    "print('단어 집합(vocabulary)의 크기 :', total_cnt)\n",
    "print('등장 빈도가 %s번 이하인 희귀 단어의 수: %s'%(threshold - 1, rare_cnt))\n",
    "print('단어 집합에서 희귀 단어를 제외시킬 경우의 단어 집합의 크기 %s'%(total_cnt - rare_cnt))\n",
    "print(\"단어 집합에서 희귀 단어의 비율:\", (rare_cnt / total_cnt)*100)\n",
    "print(\"전체 등장 빈도에서 희귀 단어 등장 빈도 비율:\", (rare_freq / total_freq)*100)"
   ]
  },
  {
   "cell_type": "markdown",
   "id": "99c39d3e",
   "metadata": {},
   "source": [
    "희귀 단어 비율이 70퍼센트 정도 되도록 빈도수를 7번 이하인걸 제외하게 설정했다"
   ]
  },
  {
   "cell_type": "code",
   "execution_count": 54,
   "id": "bb36c350",
   "metadata": {},
   "outputs": [
    {
     "name": "stdout",
     "output_type": "stream",
     "text": [
      "=3\n"
     ]
    }
   ],
   "source": [
    "src_vocab = 18000\n",
    "src_tokenizer = Tokenizer(num_words=src_vocab) # 단어 집합의 크기를 8,000으로 제한\n",
    "src_tokenizer.fit_on_texts(encoder_input_train) # 단어 집합 재생성\n",
    "print('=3')"
   ]
  },
  {
   "cell_type": "code",
   "execution_count": 55,
   "id": "67a35c77",
   "metadata": {},
   "outputs": [
    {
     "name": "stdout",
     "output_type": "stream",
     "text": [
      "[[24, 1770, 16863, 7651, 12184, 71, 319, 166, 1617, 206, 468, 2784, 2873, 18, 1770, 515, 15090, 2873, 857, 5809, 1770, 61, 1325, 2526, 518, 6360, 40, 5273, 921, 3531, 2038, 9505, 522, 2434], [5401, 6450, 3987, 1220, 21, 1594, 37, 1600, 4427, 5082, 364, 3987, 276, 2178, 1712, 21, 1930, 650, 1712, 1560, 1085, 1, 1874, 6, 3382, 3924, 593, 1238, 1584, 2260], [3, 253, 3081, 7106, 6546, 19, 528, 1313, 1968, 1684, 256, 741, 1074, 1353, 1968, 256, 741, 2070, 60, 4565, 109, 8276, 25, 1, 89, 627, 1968, 814, 425, 1994, 3, 1155, 1144, 13775, 8277, 2416, 285, 440, 360]]\n"
     ]
    }
   ],
   "source": [
    "# 텍스트 시퀀스를 정수 시퀀스로 변환\n",
    "encoder_input_train = src_tokenizer.texts_to_sequences(encoder_input_train) \n",
    "encoder_input_test = src_tokenizer.texts_to_sequences(encoder_input_test)\n",
    "\n",
    "# 잘 진행되었는지 샘플 출력\n",
    "print(encoder_input_train[:3])"
   ]
  },
  {
   "cell_type": "code",
   "execution_count": 56,
   "id": "6dfe50e9",
   "metadata": {},
   "outputs": [],
   "source": [
    "tar_tokenizer = Tokenizer()\n",
    "tar_tokenizer.fit_on_texts(decoder_input_train)"
   ]
  },
  {
   "cell_type": "code",
   "execution_count": 57,
   "id": "ebbe0844",
   "metadata": {},
   "outputs": [
    {
     "name": "stdout",
     "output_type": "stream",
     "text": [
      "단어 집합(vocabulary)의 크기 : 27362\n",
      "등장 빈도가 6번 이하인 희귀 단어의 수: 19166\n",
      "단어 집합에서 희귀 단어를 제외시킬 경우의 단어 집합의 크기 8196\n",
      "단어 집합에서 희귀 단어의 비율: 70.04604926540458\n",
      "전체 등장 빈도에서 희귀 단어 등장 빈도 비율: 6.899795227232547\n"
     ]
    }
   ],
   "source": [
    "threshold = 7\n",
    "total_cnt = len(tar_tokenizer.word_index) # 단어의 수\n",
    "rare_cnt = 0 # 등장 빈도수가 threshold보다 작은 단어의 개수를 카운트\n",
    "total_freq = 0 # 훈련 데이터의 전체 단어 빈도수 총 합\n",
    "rare_freq = 0 # 등장 빈도수가 threshold보다 작은 단어의 등장 빈도수의 총 합\n",
    "\n",
    "# 단어와 빈도수의 쌍(pair)을 key와 value로 받는다.\n",
    "for key, value in tar_tokenizer.word_counts.items():\n",
    "    total_freq = total_freq + value\n",
    "\n",
    "    # 단어의 등장 빈도수가 threshold보다 작으면\n",
    "    if(value < threshold):\n",
    "        rare_cnt = rare_cnt + 1\n",
    "        rare_freq = rare_freq + value\n",
    "\n",
    "print('단어 집합(vocabulary)의 크기 :', total_cnt)\n",
    "print('등장 빈도가 %s번 이하인 희귀 단어의 수: %s'%(threshold - 1, rare_cnt))\n",
    "print('단어 집합에서 희귀 단어를 제외시킬 경우의 단어 집합의 크기 %s'%(total_cnt - rare_cnt))\n",
    "print(\"단어 집합에서 희귀 단어의 비율:\", (rare_cnt / total_cnt)*100)\n",
    "print(\"전체 등장 빈도에서 희귀 단어 등장 빈도 비율:\", (rare_freq / total_freq)*100)"
   ]
  },
  {
   "cell_type": "code",
   "execution_count": 58,
   "id": "4f201974",
   "metadata": {},
   "outputs": [
    {
     "name": "stdout",
     "output_type": "stream",
     "text": [
      "input\n",
      "input  [[1, 37, 5738, 1855, 246, 10, 746, 3117, 3459], [1, 4, 709, 3975, 2459, 4134, 598, 18, 55], [1, 3582, 86, 614, 67, 1633, 1698, 553, 1377, 4, 475], [1, 678, 601, 4867, 4, 244, 4311], [1, 11, 102, 58, 73, 33, 996, 2460, 13, 396, 21]]\n",
      "target\n",
      "decoder  [[37, 5738, 1855, 246, 10, 746, 3117, 3459, 2], [4, 709, 3975, 2459, 4134, 598, 18, 55, 2], [3582, 86, 614, 67, 1633, 1698, 553, 1377, 4, 475, 2], [678, 601, 4867, 4, 244, 4311, 2], [11, 102, 58, 73, 33, 996, 2460, 13, 396, 21, 2]]\n"
     ]
    }
   ],
   "source": [
    "tar_vocab = 8000\n",
    "tar_tokenizer = Tokenizer(num_words=tar_vocab) \n",
    "tar_tokenizer.fit_on_texts(decoder_input_train)\n",
    "tar_tokenizer.fit_on_texts(decoder_target_train)\n",
    "\n",
    "# 텍스트 시퀀스를 정수 시퀀스로 변환\n",
    "decoder_input_train = tar_tokenizer.texts_to_sequences(decoder_input_train) \n",
    "decoder_target_train = tar_tokenizer.texts_to_sequences(decoder_target_train)\n",
    "decoder_input_test = tar_tokenizer.texts_to_sequences(decoder_input_test)\n",
    "decoder_target_test = tar_tokenizer.texts_to_sequences(decoder_target_test)\n",
    "\n",
    "# 잘 변환되었는지 확인\n",
    "print('input')\n",
    "print('input ',decoder_input_train[:5])\n",
    "print('target')\n",
    "print('decoder ',decoder_target_train[:5])"
   ]
  },
  {
   "cell_type": "code",
   "execution_count": 59,
   "id": "0aeb0009",
   "metadata": {
    "scrolled": false
   },
   "outputs": [
    {
     "name": "stdout",
     "output_type": "stream",
     "text": [
      "삭제할 훈련 데이터의 개수 : 1\n",
      "삭제할 테스트 데이터의 개수 : 0\n",
      "훈련 데이터의 개수 : 59281\n",
      "훈련 레이블의 개수 : 59281\n",
      "테스트 데이터의 개수 : 14820\n",
      "테스트 레이블의 개수 : 14820\n"
     ]
    }
   ],
   "source": [
    "drop_train = [index for index, sentence in enumerate(decoder_input_train) if len(sentence) == 1]\n",
    "drop_test = [index for index, sentence in enumerate(decoder_input_test) if len(sentence) == 1]\n",
    "\n",
    "print('삭제할 훈련 데이터의 개수 :', len(drop_train))\n",
    "print('삭제할 테스트 데이터의 개수 :', len(drop_test))\n",
    "\n",
    "encoder_input_train = [sentence for index, sentence in enumerate(encoder_input_train) if index not in drop_train]\n",
    "decoder_input_train = [sentence for index, sentence in enumerate(decoder_input_train) if index not in drop_train]\n",
    "decoder_target_train = [sentence for index, sentence in enumerate(decoder_target_train) if index not in drop_train]\n",
    "\n",
    "encoder_input_test = [sentence for index, sentence in enumerate(encoder_input_test) if index not in drop_test]\n",
    "decoder_input_test = [sentence for index, sentence in enumerate(decoder_input_test) if index not in drop_test]\n",
    "decoder_target_test = [sentence for index, sentence in enumerate(decoder_target_test) if index not in drop_test]\n",
    "\n",
    "print('훈련 데이터의 개수 :', len(encoder_input_train))\n",
    "print('훈련 레이블의 개수 :', len(decoder_input_train))\n",
    "print('테스트 데이터의 개수 :', len(encoder_input_test))\n",
    "print('테스트 레이블의 개수 :', len(decoder_input_test))"
   ]
  },
  {
   "cell_type": "code",
   "execution_count": 61,
   "id": "fef6f0b6",
   "metadata": {},
   "outputs": [],
   "source": [
    "# 패딩하기\n",
    "encoder_input_train = pad_sequences(encoder_input_train, maxlen=text_max_len, padding='post')\n",
    "encoder_input_test = pad_sequences(encoder_input_test, maxlen=text_max_len, padding='post')\n",
    "decoder_input_train = pad_sequences(decoder_input_train, maxlen=headlines_max_len, padding='post')\n",
    "decoder_target_train = pad_sequences(decoder_target_train, maxlen=headlines_max_len, padding='post')\n",
    "decoder_input_test = pad_sequences(decoder_input_test, maxlen=headlines_max_len, padding='post')\n",
    "decoder_target_test = pad_sequences(decoder_target_test, maxlen=headlines_max_len, padding='post')"
   ]
  },
  {
   "cell_type": "markdown",
   "id": "9b297966",
   "metadata": {},
   "source": [
    "> 3.3 어텐션 메커니즘 사용하기"
   ]
  },
  {
   "cell_type": "code",
   "execution_count": 63,
   "id": "cb9ee317",
   "metadata": {},
   "outputs": [
    {
     "name": "stdout",
     "output_type": "stream",
     "text": [
      "WARNING:tensorflow:Layer lstm will not use cuDNN kernels since it doesn't meet the criteria. It will use a generic GPU kernel as fallback when running on GPU.\n",
      "WARNING:tensorflow:Layer lstm_1 will not use cuDNN kernels since it doesn't meet the criteria. It will use a generic GPU kernel as fallback when running on GPU.\n",
      "WARNING:tensorflow:Layer lstm_2 will not use cuDNN kernels since it doesn't meet the criteria. It will use a generic GPU kernel as fallback when running on GPU.\n"
     ]
    }
   ],
   "source": [
    "from tensorflow.keras.layers import Input, LSTM, Embedding, Dense, Concatenate, TimeDistributed\n",
    "from tensorflow.keras.models import Model\n",
    "from tensorflow.keras.callbacks import EarlyStopping, ModelCheckpoint\n",
    "\n",
    "\n",
    "# 인코더 설계 시작\n",
    "embedding_dim = 128\n",
    "hidden_size = 256 # hidden state는 LSTM에서 얼만큼의 수용력(capacity)를 가질지를 정하는 파라미터\n",
    "\n",
    "# 인코더\n",
    "encoder_inputs = Input(shape=(text_max_len,))\n",
    "\n",
    "# 인코더의 임베딩 층\n",
    "enc_emb = Embedding(src_vocab, embedding_dim)(encoder_inputs)\n",
    "\n",
    "# 인코더의 LSTM 1\n",
    "encoder_lstm1 = LSTM(hidden_size, return_sequences=True, return_state=True ,dropout = 0.4, recurrent_dropout = 0.4)\n",
    "encoder_output1, state_h1, state_c1 = encoder_lstm1(enc_emb)\n",
    "\n",
    "# 인코더의 LSTM 2\n",
    "encoder_lstm2 = LSTM(hidden_size, return_sequences=True, return_state=True, dropout=0.4, recurrent_dropout=0.4)\n",
    "encoder_output2, state_h2, state_c2 = encoder_lstm2(encoder_output1)\n",
    "\n",
    "# 인코더의 LSTM 3\n",
    "encoder_lstm3 = LSTM(hidden_size, return_state=True, return_sequences=True, dropout=0.4, recurrent_dropout=0.4)\n",
    "encoder_outputs, state_h, state_c= encoder_lstm3(encoder_output2)"
   ]
  },
  {
   "cell_type": "code",
   "execution_count": 64,
   "id": "d8a522a7",
   "metadata": {},
   "outputs": [
    {
     "name": "stdout",
     "output_type": "stream",
     "text": [
      "WARNING:tensorflow:Layer lstm_3 will not use cuDNN kernels since it doesn't meet the criteria. It will use a generic GPU kernel as fallback when running on GPU.\n"
     ]
    }
   ],
   "source": [
    "# 디코더 설계\n",
    "decoder_inputs = Input(shape=(None,))\n",
    "\n",
    "# 디코더의 임베딩 층\n",
    "dec_emb_layer = Embedding(tar_vocab, embedding_dim)\n",
    "dec_emb = dec_emb_layer(decoder_inputs)\n",
    "\n",
    "# 디코더의 LSTM\n",
    "decoder_lstm = LSTM(hidden_size, return_sequences=True, return_state=True, dropout=0.4, recurrent_dropout=0.2)\n",
    "decoder_outputs, _, _ = decoder_lstm(dec_emb, initial_state=[state_h, state_c])"
   ]
  },
  {
   "cell_type": "code",
   "execution_count": 65,
   "id": "8a722328",
   "metadata": {},
   "outputs": [
    {
     "name": "stdout",
     "output_type": "stream",
     "text": [
      "Model: \"model\"\n",
      "__________________________________________________________________________________________________\n",
      "Layer (type)                    Output Shape         Param #     Connected to                     \n",
      "==================================================================================================\n",
      "input_1 (InputLayer)            [(None, 40)]         0                                            \n",
      "__________________________________________________________________________________________________\n",
      "embedding (Embedding)           (None, 40, 128)      2304000     input_1[0][0]                    \n",
      "__________________________________________________________________________________________________\n",
      "lstm (LSTM)                     [(None, 40, 256), (N 394240      embedding[0][0]                  \n",
      "__________________________________________________________________________________________________\n",
      "input_2 (InputLayer)            [(None, None)]       0                                            \n",
      "__________________________________________________________________________________________________\n",
      "lstm_1 (LSTM)                   [(None, 40, 256), (N 525312      lstm[0][0]                       \n",
      "__________________________________________________________________________________________________\n",
      "embedding_1 (Embedding)         (None, None, 128)    1024000     input_2[0][0]                    \n",
      "__________________________________________________________________________________________________\n",
      "lstm_2 (LSTM)                   [(None, 40, 256), (N 525312      lstm_1[0][0]                     \n",
      "__________________________________________________________________________________________________\n",
      "lstm_3 (LSTM)                   [(None, None, 256),  394240      embedding_1[0][0]                \n",
      "                                                                 lstm_2[0][1]                     \n",
      "                                                                 lstm_2[0][2]                     \n",
      "__________________________________________________________________________________________________\n",
      "dense (Dense)                   (None, None, 8000)   2056000     lstm_3[0][0]                     \n",
      "==================================================================================================\n",
      "Total params: 7,223,104\n",
      "Trainable params: 7,223,104\n",
      "Non-trainable params: 0\n",
      "__________________________________________________________________________________________________\n"
     ]
    }
   ],
   "source": [
    "# 디코더의 출력층\n",
    "decoder_softmax_layer = Dense(tar_vocab, activation='softmax')\n",
    "decoder_softmax_outputs = decoder_softmax_layer(decoder_outputs) \n",
    "\n",
    "# 모델 정의\n",
    "model = Model([encoder_inputs, decoder_inputs], decoder_softmax_outputs)\n",
    "model.summary()"
   ]
  },
  {
   "cell_type": "code",
   "execution_count": 66,
   "id": "e7401b94",
   "metadata": {},
   "outputs": [
    {
     "name": "stdout",
     "output_type": "stream",
     "text": [
      "Model: \"model_1\"\n",
      "__________________________________________________________________________________________________\n",
      "Layer (type)                    Output Shape         Param #     Connected to                     \n",
      "==================================================================================================\n",
      "input_1 (InputLayer)            [(None, 40)]         0                                            \n",
      "__________________________________________________________________________________________________\n",
      "embedding (Embedding)           (None, 40, 128)      2304000     input_1[0][0]                    \n",
      "__________________________________________________________________________________________________\n",
      "lstm (LSTM)                     [(None, 40, 256), (N 394240      embedding[0][0]                  \n",
      "__________________________________________________________________________________________________\n",
      "input_2 (InputLayer)            [(None, None)]       0                                            \n",
      "__________________________________________________________________________________________________\n",
      "lstm_1 (LSTM)                   [(None, 40, 256), (N 525312      lstm[0][0]                       \n",
      "__________________________________________________________________________________________________\n",
      "embedding_1 (Embedding)         (None, None, 128)    1024000     input_2[0][0]                    \n",
      "__________________________________________________________________________________________________\n",
      "lstm_2 (LSTM)                   [(None, 40, 256), (N 525312      lstm_1[0][0]                     \n",
      "__________________________________________________________________________________________________\n",
      "lstm_3 (LSTM)                   [(None, None, 256),  394240      embedding_1[0][0]                \n",
      "                                                                 lstm_2[0][1]                     \n",
      "                                                                 lstm_2[0][2]                     \n",
      "__________________________________________________________________________________________________\n",
      "attention_layer (AdditiveAttent (None, None, 256)    256         lstm_3[0][0]                     \n",
      "                                                                 lstm_2[0][0]                     \n",
      "__________________________________________________________________________________________________\n",
      "concat_layer (Concatenate)      (None, None, 512)    0           lstm_3[0][0]                     \n",
      "                                                                 attention_layer[0][0]            \n",
      "__________________________________________________________________________________________________\n",
      "dense_1 (Dense)                 (None, None, 8000)   4104000     concat_layer[0][0]               \n",
      "==================================================================================================\n",
      "Total params: 9,271,360\n",
      "Trainable params: 9,271,360\n",
      "Non-trainable params: 0\n",
      "__________________________________________________________________________________________________\n"
     ]
    }
   ],
   "source": [
    "from tensorflow.keras.layers import AdditiveAttention\n",
    "\n",
    "# 어텐션 층(어텐션 함수)\n",
    "attn_layer = AdditiveAttention(name='attention_layer')\n",
    "\n",
    "# 인코더와 디코더의 모든 time step의 hidden state를 어텐션 층에 전달하고 결과를 리턴\n",
    "attn_out = attn_layer([decoder_outputs, encoder_outputs])\n",
    "\n",
    "\n",
    "# 어텐션의 결과와 디코더의 hidden state들을 연결\n",
    "decoder_concat_input = Concatenate(axis=-1, name='concat_layer')([decoder_outputs, attn_out])\n",
    "\n",
    "# 디코더의 출력층\n",
    "decoder_softmax_layer = Dense(tar_vocab, activation='softmax')\n",
    "decoder_softmax_outputs = decoder_softmax_layer(decoder_concat_input)\n",
    "\n",
    "# 모델 정의\n",
    "model = Model([encoder_inputs, decoder_inputs], decoder_softmax_outputs)\n",
    "model.summary()"
   ]
  },
  {
   "cell_type": "code",
   "execution_count": 67,
   "id": "a52203c5",
   "metadata": {
    "scrolled": true
   },
   "outputs": [
    {
     "name": "stdout",
     "output_type": "stream",
     "text": [
      "Epoch 1/50\n",
      "232/232 [==============================] - 136s 550ms/step - loss: 6.1976 - val_loss: 5.7804\n",
      "Epoch 2/50\n",
      "232/232 [==============================] - 126s 541ms/step - loss: 5.6682 - val_loss: 5.4252\n",
      "Epoch 3/50\n",
      "232/232 [==============================] - 126s 541ms/step - loss: 5.3430 - val_loss: 5.1980\n",
      "Epoch 4/50\n",
      "232/232 [==============================] - 126s 543ms/step - loss: 5.0661 - val_loss: 4.9684\n",
      "Epoch 5/50\n",
      "232/232 [==============================] - 126s 543ms/step - loss: 4.8299 - val_loss: 4.7961\n",
      "Epoch 6/50\n",
      "232/232 [==============================] - 125s 538ms/step - loss: 4.6342 - val_loss: 4.6788\n",
      "Epoch 7/50\n",
      "232/232 [==============================] - 127s 547ms/step - loss: 4.4673 - val_loss: 4.5678\n",
      "Epoch 8/50\n",
      "232/232 [==============================] - 126s 543ms/step - loss: 4.3187 - val_loss: 4.4951\n",
      "Epoch 9/50\n",
      "232/232 [==============================] - 125s 537ms/step - loss: 4.1858 - val_loss: 4.4142\n",
      "Epoch 10/50\n",
      "232/232 [==============================] - 126s 543ms/step - loss: 4.0681 - val_loss: 4.3600\n",
      "Epoch 11/50\n",
      "232/232 [==============================] - 125s 539ms/step - loss: 3.9576 - val_loss: 4.3078\n",
      "Epoch 12/50\n",
      "232/232 [==============================] - 126s 542ms/step - loss: 3.8565 - val_loss: 4.2710\n",
      "Epoch 13/50\n",
      "232/232 [==============================] - 125s 537ms/step - loss: 3.7638 - val_loss: 4.2363\n",
      "Epoch 14/50\n",
      "232/232 [==============================] - 125s 541ms/step - loss: 3.6799 - val_loss: 4.2014\n",
      "Epoch 15/50\n",
      "232/232 [==============================] - 126s 542ms/step - loss: 3.6005 - val_loss: 4.1776\n",
      "Epoch 16/50\n",
      "232/232 [==============================] - 126s 542ms/step - loss: 3.5263 - val_loss: 4.1611\n",
      "Epoch 17/50\n",
      "232/232 [==============================] - 125s 541ms/step - loss: 3.4573 - val_loss: 4.1427\n",
      "Epoch 18/50\n",
      "232/232 [==============================] - 125s 538ms/step - loss: 3.3939 - val_loss: 4.1284\n",
      "Epoch 19/50\n",
      "232/232 [==============================] - 126s 545ms/step - loss: 3.3321 - val_loss: 4.1221\n",
      "Epoch 20/50\n",
      "232/232 [==============================] - 127s 547ms/step - loss: 3.2707 - val_loss: 4.1138\n",
      "Epoch 21/50\n",
      "232/232 [==============================] - 127s 548ms/step - loss: 3.2137 - val_loss: 4.1012\n",
      "Epoch 22/50\n",
      "232/232 [==============================] - 126s 543ms/step - loss: 3.1597 - val_loss: 4.1064\n",
      "Epoch 23/50\n",
      "232/232 [==============================] - 125s 539ms/step - loss: 3.1116 - val_loss: 4.0907\n",
      "Epoch 24/50\n",
      "232/232 [==============================] - 126s 543ms/step - loss: 3.0661 - val_loss: 4.0910\n",
      "Epoch 25/50\n",
      "232/232 [==============================] - 127s 547ms/step - loss: 3.0190 - val_loss: 4.0940\n",
      "Epoch 00025: early stopping\n"
     ]
    }
   ],
   "source": [
    "model.compile(optimizer='rmsprop', loss='sparse_categorical_crossentropy')\n",
    "es = EarlyStopping(monitor='val_loss', patience=2, verbose=1)\n",
    "history = model.fit(x=[encoder_input_train, decoder_input_train], y=decoder_target_train, \\\n",
    "          validation_data=([encoder_input_test, decoder_input_test], decoder_target_test), \\\n",
    "          batch_size=256, callbacks=[es], epochs=50)"
   ]
  },
  {
   "cell_type": "code",
   "execution_count": 68,
   "id": "903fdb6d",
   "metadata": {},
   "outputs": [
    {
     "data": {
      "image/png": "[encoded data removed]",
      "text/plain": [
       "<Figure size 432x288 with 1 Axes>"
      ]
     },
     "metadata": {
      "needs_background": "light"
     },
     "output_type": "display_data"
    }
   ],
   "source": [
    "plt.plot(history.history['loss'], label='train')\n",
    "plt.plot(history.history['val_loss'], label='test')\n",
    "plt.legend()\n",
    "plt.show()"
   ]
  },
  {
   "cell_type": "markdown",
   "id": "3d2b129a",
   "metadata": {},
   "source": [
    "## 인퍼런스 모델 구현하기"
   ]
  },
  {
   "cell_type": "code",
   "execution_count": 75,
   "id": "a5fe98ed",
   "metadata": {},
   "outputs": [],
   "source": [
    "src_index_to_word = src_tokenizer.index_word # 원문 단어 집합에서 정수 -> 단어를 얻음\n",
    "tar_word_to_index = tar_tokenizer.word_index # 요약 단어 집합에서 단어 -> 정수를 얻음\n",
    "tar_index_to_word = tar_tokenizer.index_word # 요약 단어 집합에서 정수 -> 단어를 얻음"
   ]
  },
  {
   "cell_type": "code",
   "execution_count": 76,
   "id": "db3b3337",
   "metadata": {},
   "outputs": [],
   "source": [
    "# 인코더 설계\n",
    "encoder_model = Model(inputs=encoder_inputs, outputs=[encoder_outputs, state_h, state_c])\n",
    "\n",
    "# 이전 시점의 상태들을 저장하는 텐서\n",
    "decoder_state_input_h = Input(shape=(hidden_size,))\n",
    "decoder_state_input_c = Input(shape=(hidden_size,))\n",
    "\n",
    "dec_emb2 = dec_emb_layer(decoder_inputs)\n",
    "\n",
    "# 문장의 다음 단어를 예측하기 위해서 초기 상태(initial_state)를 이전 시점의 상태로 사용. 이는 뒤의 함수 decode_sequence()에 구현\n",
    "# 훈련 과정에서와 달리 LSTM의 리턴하는 은닉 상태와 셀 상태인 state_h와 state_c를 버리지 않음.\n",
    "decoder_outputs2, state_h2, state_c2 = decoder_lstm(dec_emb2, initial_state=[decoder_state_input_h, decoder_state_input_c])"
   ]
  },
  {
   "cell_type": "code",
   "execution_count": 77,
   "id": "c2f2b0f4",
   "metadata": {},
   "outputs": [],
   "source": [
    "# 어텐션 함수\n",
    "decoder_hidden_state_input = Input(shape=(text_max_len, hidden_size))\n",
    "attn_out_inf = attn_layer([decoder_outputs2, decoder_hidden_state_input])\n",
    "decoder_inf_concat = Concatenate(axis=-1, name='concat')([decoder_outputs2, attn_out_inf])\n",
    "\n",
    "# 디코더의 출력층\n",
    "decoder_outputs2 = decoder_softmax_layer(decoder_inf_concat) \n",
    "\n",
    "# 최종 디코더 모델\n",
    "decoder_model = Model(\n",
    "    [decoder_inputs] + [decoder_hidden_state_input,decoder_state_input_h, decoder_state_input_c],\n",
    "    [decoder_outputs2] + [state_h2, state_c2])\n"
   ]
  },
  {
   "cell_type": "code",
   "execution_count": 78,
   "id": "1f143793",
   "metadata": {},
   "outputs": [],
   "source": [
    "def decode_sequence(input_seq):\n",
    "    # 입력으로부터 인코더의 상태를 얻음\n",
    "    e_out, e_h, e_c = encoder_model.predict(input_seq)\n",
    "\n",
    "     # <SOS>에 해당하는 토큰 생성\n",
    "    target_seq = np.zeros((1,1))\n",
    "    target_seq[0, 0] = tar_word_to_index['sostoken']\n",
    "\n",
    "    stop_condition = False\n",
    "    decoded_sentence = ''\n",
    "    while not stop_condition: # stop_condition이 True가 될 때까지 루프 반복\n",
    "\n",
    "        output_tokens, h, c = decoder_model.predict([target_seq] + [e_out, e_h, e_c])\n",
    "        sampled_token_index = np.argmax(output_tokens[0, -1, :])\n",
    "        sampled_token = tar_index_to_word[sampled_token_index]\n",
    "\n",
    "        if (sampled_token!='eostoken'):\n",
    "            decoded_sentence += ' '+sampled_token\n",
    "\n",
    "        #  <eos>에 도달하거나 최대 길이를 넘으면 중단.\n",
    "        if (sampled_token == 'eostoken'  or len(decoded_sentence.split()) >= (headlines_max_len-1)):\n",
    "            stop_condition = True\n",
    "\n",
    "        # 길이가 1인 타겟 시퀀스를 업데이트\n",
    "        target_seq = np.zeros((1,1))\n",
    "        target_seq[0, 0] = sampled_token_index\n",
    "\n",
    "        # 상태를 업데이트 합니다.\n",
    "        e_h, e_c = h, c\n",
    "\n",
    "    return decoded_sentence"
   ]
  },
  {
   "cell_type": "markdown",
   "id": "f25203e7",
   "metadata": {},
   "source": [
    "> 3.4 실제 결과와 요약문 비교하기"
   ]
  },
  {
   "cell_type": "code",
   "execution_count": 79,
   "id": "0c01bc9a",
   "metadata": {},
   "outputs": [],
   "source": [
    "def seq2text(input_seq):\n",
    "    temp=''\n",
    "    for i in input_seq:\n",
    "        if (i!=0):\n",
    "            temp = temp + src_index_to_word[i]+' '\n",
    "    return temp\n",
    "\n",
    "# 요약문의 정수 시퀀스를 텍스트 시퀀스로 변환\n",
    "def seq2summary(input_seq):\n",
    "    temp=''\n",
    "    for i in input_seq:\n",
    "        if ((i!=0 and i!=tar_word_to_index['sostoken']) and i!=tar_word_to_index['eostoken']):\n",
    "            temp = temp + tar_index_to_word[i] + ' '\n",
    "    return temp"
   ]
  },
  {
   "cell_type": "code",
   "execution_count": 80,
   "id": "e9de6037",
   "metadata": {
    "scrolled": true
   },
   "outputs": [
    {
     "name": "stdout",
     "output_type": "stream",
     "text": [
      "원문 : stating bjp led nda absolute majority lok sabha bjp president amit shah challenged opposition introduce confidence motion government accused opposition allowing house function comes lok sabha speaker sumitra mahajan refused admit confidence motion several times disruptions \n",
      "실제 요약 : challenge opposition to bring no trust motion amit shah \n",
      "예측 요약 :  bjp planning to support nda congress leader\n",
      "\n",
      "\n",
      "원문 : television actress revealed slapped man bengaluru tried touch thighs added earlier courage stop say bad words somebody tries known playing sultan tv series name \n",
      "실제 요약 : slapped man who touched my tv actress \n",
      "예측 요약 :  was not scared of man who was her\n",
      "\n",
      "\n",
      "원문 : argentine football legend diego maradona joined football club chairman visited home stadium club military style open jeep paraded around stadium vehicle greeting fans waving club flag year old signed three year contract club \n",
      "실제 요약 : maradona greets fans at new club in military style vehicle \n",
      "예측 요약 :  maradona to be maradona at maradona after hospital\n",
      "\n",
      "\n",
      "원문 : counting votes delhi university students union polls suspended day members akhil bharatiya vidyarthi parishad national students union india involved brawl faulty evms said election officer added fresh date counting announced meanwhile voter turnout recorded \n",
      "실제 요약 : vote counting in polls suspended over faulty evms \n",
      "예측 요약 :  students who is fake seats in rajasthan\n",
      "\n",
      "\n",
      "원문 : former union minister captain jai narain prasad passed away age monday owing prolonged illness reportedly undergoing treatment max hospital delhi saket took last breath four time lok sabha member muzaffarpur constituency bihar served member rajya sabha \n",
      "실제 요약 : ex union minister jai prasad passes away at \n",
      "예측 요약 :  former ex cm passes away at age age\n",
      "\n",
      "\n",
      "원문 : mark starrer star wars last released friday one finest year wrote hindustan times last everything star wars film said times india firstpost wrote film constantly rated \n",
      "실제 요약 : mark starrer star wars the last hits theatres \n",
      "예측 요약 :  teaser of starrer released\n",
      "\n",
      "\n",
      "원문 : china tuesday defended pakistan us president donald trump accusations provided safe terrorists gave us nothing lies urging world acknowledge pakistan contributions chinese foreign ministry said pakistan made enormous efforts sacrifice fight terrorism china termed pakistan weather ally \n",
      "실제 요약 : china defends pakistan after trump accusations \n",
      "예측 요약 :  us is not safe pakistan in afghanistan\n",
      "\n",
      "\n",
      "원문 : self styled critic kamaal khan twitter slammed baahubali called film cartoon computer game highly disappointed see even read one tweets gave film one star rating accused film director ss rajamouli public generating fake hype nnn \n",
      "실제 요약 : krk slams baahubali calls film cartoon computer game \n",
      "예측 요약 :  twitter reacts to krk on krk remark\n",
      "\n",
      "\n",
      "원문 : electricity prices germany recently plunged zero meaning consumers paid consume electricity power loaded due frequent occurrence country electricity produced renewable sources like sun wind depends weather negative pricing consumers subsequent electricity billing \n",
      "실제 요약 : power prices go negative in germany due to \n",
      "예측 요약 :  scientists print new of\n",
      "\n",
      "\n",
      "원문 : elaborate horns dinosaurs might evolved attract sexual partners mechanism recognise earlier believed uk based study found researchers studied species dinosaurs including using computer models suggested sexual selection promote rapid adaptation extinction \n",
      "실제 요약 : dinosaurs and to attract study \n",
      "예측 요약 :  harvard scientists discover new cancer of universe\n",
      "\n",
      "\n",
      "원문 : china started widening road located kilometres away doklam site indian chinese troops locked standoff two months reports said around soldiers china people liberation army reportedly guarding construction workers meanwhile iaf chief marshal bs dhanoa said expects chinese withdraw \n",
      "실제 요약 : china building road km from doklam standoff site report \n",
      "예측 요약 :  china deploys chinese troops in doklam along border\n",
      "\n",
      "\n",
      "원문 : sportswear manufacturer adidas slammed featuring model kendall jenner new advertisement sad athlete tweeted user get athletes endorsements sorry supporting company associated wrote another user meanwhile another comment read sport kendall jenner world \n",
      "실제 요약 : slammed for featuring model kendall jenner in ad \n",
      "예측 요약 :  instagram slammed for kendall jenner\n",
      "\n",
      "\n",
      "원문 : sundar pichai google india born ceo talking early life india said waited long time get refrigerator pichai added saw mother life changed technological advances pichai also said took five years family get first telephone \n",
      "실제 요약 : we long time to get too google ceo \n",
      "예측 요약 :  am not important to cook google ceo\n",
      "\n",
      "\n",
      "원문 : many vehicles stolen every day bengaluru police able detect cases city police data revealed according police vehicles stolen residential areas night commercial areas day city also gangs steal vehicles \n",
      "실제 요약 : vehicles stolen daily in bengaluru police data \n",
      "예측 요약 :  bengaluru police to pay lakh for lakh\n",
      "\n",
      "\n",
      "원문 : quick heal security labs spotted two banking android malware india social banking apps steal user banking credentials malware able displaying fake window asks debit credit card number user provides number malware allow access google play apps \n",
      "실제 요약 : malware copying banking apps to steal data found in india \n",
      "예측 요약 :  whatsapp bug lets users access to report\n",
      "\n",
      "\n",
      "원문 : handwritten letter beatles singer john going sale note accused emi record label blocking distribution album unfinished music two appeared nude cover album ultimately released paper bag packaging distributed another label \n",
      "실제 요약 : john handwritten letter up for auction for lakh \n",
      "예측 요약 :  kanye west director accused of crore\n",
      "\n",
      "\n",
      "원문 : seven thousand pairs shoes representing number lives lost since elementary school shooting connecticut lined lawn outside us building washington several pairs donated families lost children gun violence move aimed pressurising us congress pass additional gun control legislation \n",
      "실제 요약 : of shoes displayed in us to protest gun violence \n",
      "예측 요약 :  ex army officer shot dead in mexico\n",
      "\n",
      "\n",
      "원문 : soldiers fighting world war ceased played football enemy troops christmas day starting christmas eve german allied troops exchanged presents cigarettes singing even fallen soldiers bodies christmas truce came five months outbreak europe \n",
      "실제 요약 : soldiers stopped world war played football on christmas \n",
      "예측 요약 :  army to perform at stadium for\n",
      "\n",
      "\n",
      "원문 : congress leader jairam ramesh sunday said dynasty word used describe political succession speaking th birth anniversary indira gandhi ramesh said gave mrs gandhi huge mandate threw brought back \n",
      "실제 요약 : word for political ramesh \n",
      "예측 요약 :  bjp leader shares pic of his own party\n",
      "\n",
      "\n",
      "원문 : finance minister arun jaitley sunday compared emergency imposed former pm indira gandhi adolf hitler nazi germany said leaders used republican constitution transform democracy dictatorship arrested opposition leaders gain majority parliament press censorship laws imposed leadership also similar jaitley added \n",
      "실제 요약 : jaitley compares indira emergency to hitler nazi germany \n",
      "예측 요약 :  jaitley jaitley jaitley calls jaitley\n",
      "\n",
      "\n",
      "원문 : speaking delhi archbishop anil letter calling prayers country spiritual renewal ahead elections home minister rajnath singh said minorities safe one allowed discriminate condemning letter minority affairs minister mukhtar abbas naqvi said ask think progressive mindset \n",
      "실제 요약 : minorities are safe in india rajnath on archbishop letter \n",
      "예측 요약 :  kashmir haj doval urges pm to attend minority\n",
      "\n",
      "\n",
      "원문 : rbi hiked repo rate rate banks borrow rbi second bi monthly policy review first hike since january rate raised hike comes amid rising oil prices high retail inflation accelerated april \n",
      "실제 요약 : rbi hikes rate for the first time in years \n",
      "예측 요약 :  rbi to set up to gst on gst\n",
      "\n",
      "\n",
      "원문 : journalist turned politician ashish recently quit aam aadmi party sunday said party chief arvind kejriwal reason quit aap individual decision grudge anyone added one half years full doubts whether journey said \n",
      "실제 요약 : arvind kejriwal is not the reason quit aap ashish \n",
      "예측 요약 :  ex cm kejriwal denied money to contest aap\n",
      "\n",
      "\n",
      "원문 : according lok sabha rules government must always majority support lok sabha remain power confidence motion moved house member feels government power majority minimum members accept motion ruling party prove majority house \n",
      "실제 요약 : what is no confidence motion \n",
      "예측 요약 :  no confidence motion against nda govt\n",
      "\n",
      "\n",
      "원문 : union minister smriti irani accused cpm led kerala government detaining raising voices socio political condition around people made accused state government people detained irani said arrests come amid violent protests entry two women aged sabarimala temple \n",
      "실제 요약 : kerala govt those raising voices against it irani \n",
      "예측 요약 :  irani slams news of his word on kapil mishra\n",
      "\n",
      "\n",
      "원문 : cbi filed case former aircel promoter companies win wind sunshine allegedly defrauding idbi bank crore agency conducting searches locations including residences former senior idbi officials allegedly took loan crore february increased crore \n",
      "실제 요약 : cbi books former aircel promoter firms in cr fraud \n",
      "예측 요약 :  cbi books ex cbi accused of crore fraud\n",
      "\n",
      "\n",
      "원문 : former world number one tennis player maria sharapova first title since returning month doping ban open sunday sharapova defeated win career th title first since italian open year old returned tour april serving ban \n",
      "실제 요약 : maria sharapova wins first title since doping ban \n",
      "예측 요약 :  federer wins th straight wimbledon title at wimbledon\n",
      "\n",
      "\n",
      "원문 : flipkart announced acquisition ebay india operations raised million ebay ceo said flipkart strong close last year going winners maybe one two flipkart given natural party added \n",
      "실제 요약 : why did ebay sell its india operations to flipkart \n",
      "예측 요약 :  flipkart flipkart deal to buy flipkart stake in india\n",
      "\n",
      "\n",
      "원문 : us president donald trump friday slammed world trade organisation saying international trade body unfair us added china gets tremendous perks especially us comes china launched wto challenge us proposal impose tariffs chinese imports alleged theft intellectual property \n",
      "실제 요약 : wto favours china unfair to us trump \n",
      "예측 요약 :  us threatens to trump on trump policies\n",
      "\n",
      "\n",
      "원문 : us based physicists used understand shocking collision results differently sized particles collisions spinning proton proton resulted neutron right direction whereas collision spinning proton gold resulted left neutron team used bowling ball reproduce results gold \n",
      "실제 요약 : scientists play pool to understand particle \n",
      "예측 요약 :  researchers create robotic hand that can predict\n",
      "\n",
      "\n",
      "원문 : year old australian swimmer broke world record age category freestyle wednesday george turns april completed freestyle seconds surpassing previous record set late canadian swimmer took swimming seriously turned \n",
      "실제 요약 : year old in sec to break world record \n",
      "예측 요약 :  man breaks record for record world record\n",
      "\n",
      "\n",
      "원문 : supreme court waived mandatory six month cooling period grant couple divorce exercising power constitution complete justice apex court noted well educated couple taken conscious decision part friends got married december separated month due disputes \n",
      "실제 요약 : sc waives month waiting period to grant couple divorce \n",
      "예측 요약 :  sc allows centre to allow women to travel girl\n",
      "\n",
      "\n",
      "원문 : prithvi shaw led india record fourth world cup title saturday matches captained india shaw equalled virat kohli record winning matches win record captain youth odis kohli led india world cup title \n",
      "실제 요약 : shaw equals kohli win record as captain in youth odis \n",
      "예측 요약 :  world cup winning fastest to reach world cup\n",
      "\n",
      "\n",
      "원문 : fuel traders across country protesting government decision revise fuel prices daily based global prices petroleum products traders said wait government notification update prices midnight every day added petrol pumps automated lead delay selling fuel night \n",
      "실제 요약 : why are fuel traders opposing daily change in fuel prices \n",
      "예측 요약 :  govt approves petrol prices by fuel prices by\n",
      "\n",
      "\n",
      "원문 : government wednesday extended deadline linking aadhaar government welfare schemes june comes supreme court refused extend deadline linking aadhaar numbers welfare schemes government tuesday extended deadline linking aadhaar permanent account number june \n",
      "실제 요약 : aadhaar linking deadline for all welfare schemes extended to june \n",
      "예측 요약 :  aadhaar linking deadline to be extended to sc\n",
      "\n",
      "\n",
      "원문 : parts australia witness partial solar eclipse passes antarctic ocean pm local time friday july however friday th total solar eclipse happen june occurs new moon full moon phase moon closest position earth \n",
      "실제 요약 : friday the th to witness solar eclipse \n",
      "예측 요약 :  isro to launch earth eclipse for moon landing\n",
      "\n",
      "\n",
      "원문 : commander us forces afghanistan general john said russia supplying arms taliban militant group smuggling across afghanistan border accused russia propagating false narrative rise isis afghanistan using claim actions taliban \n",
      "실제 요약 : russia supplying arms to the taliban us \n",
      "예측 요약 :  us president assad is taliban afghanistan\n",
      "\n",
      "\n",
      "원문 : donald trump former lawyer michael cohen testified us president directed arrange payments silence two women white house said trump nothing wrong charges meanwhile trump said cohen violate campaign finance laws money payments came presidential campaign \n",
      "실제 요약 : trump did nothing wrong wh over ex lawyer guilty plea \n",
      "예측 요약 :  trump lawyer paid lakh to pornstar lawyer\n",
      "\n",
      "\n",
      "원문 : whatsapp written reserve bank india seeking formal approval expand payment services users india whatsapp partner banks also submitted request formal approval according letter today almost million people testing whatsapp payments india whatsapp spokesperson said \n",
      "실제 요약 : whatsapp seeks rbi nod to expand payment service in india \n",
      "예측 요약 :  jio to offer airtel payments bank payments bank\n",
      "\n",
      "\n",
      "원문 : one two alleged match ashes match fixing expose british tabloid played junior level cricket delhi delhi played home state himachal pradesh age group year old claimed played team current indian captain virat kohli \n",
      "실제 요약 : who is the delhi cricketer involved in alleged ashes fixing \n",
      "예측 요약 :  delhi captain coach to run for months in\n",
      "\n",
      "\n",
      "원문 : mp cm kamal nath ordered government school teacher suspended objectionable online post congress president rahul gandhi stating suspension contrary way thinking way thinking well nath advised teacher read sacrifice gandhi family prejudice \n",
      "실제 요약 : mp cm teacher suspended for objectionable post on rahul \n",
      "예측 요약 :  bjp mp slams rahul for calling his student rahul\n",
      "\n",
      "\n",
      "원문 : australian mechanic amateur astronomer andrew grey helped discover four planets orbiting star part crowd sourcing project small hunting exoplanets volunteers classified million points interest discovery four planet system confirmed within hours project using nasa kepler space telescope data \n",
      "실제 요약 : australian helps discover four planet solar system \n",
      "예측 요약 :  nasa finds planet that can be like earth study\n",
      "\n",
      "\n",
      "원문 : several hundred people gathered nasa kennedy space center friday commemorate air force major robert lawrence jr first african american astronaut lawrence part classified military space program meant spy soviet union died ever flying space fighter jet crashed december \n",
      "실제 요약 : st african american astronaut honoured on th death \n",
      "예측 요약 :  nasa to hurricane astronauts into space station\n",
      "\n",
      "\n",
      "원문 : afghanistan year old spinner rashid khan become number one bowler odi cricket last week khan become youngest bowler occupy top spot odi bowler rankings sharing indian pacer jasprit bumrah khan claimed top spot taking five wickets two matches zimbabwe sharjah \n",
      "실제 요약 : yr old afghan spinner world no bowler in odis is \n",
      "예측 요약 :  ms dhoni equals sachin tendulkar as wicket haul\n",
      "\n",
      "\n",
      "원문 : catholic priest kerala ernakulam district allegedly stabbed death centre church staffer following argument priest earlier taken disciplinary action accused charge church maintenance work police launched manhunt nab accused \n",
      "실제 요약 : catholic priest stabbed to death by church staffer in kerala \n",
      "예측 요약 :  kerala cops suspended after having sex attack\n",
      "\n",
      "\n",
      "원문 : oil company shell pulled life sized cardboard female employee malaysian petrol stations people posted photos groping figure viral images showed men kissing holding hand even touching chest shell stated found actions men disrespectful \n",
      "실제 요약 : shell removes female employee after men it \n",
      "예측 요약 :  chinese firm offers lakh to eat obscene room\n",
      "\n",
      "\n",
      "원문 : sports minister vijay goel monday felicitated india special olympics contingent medals recently concluded event austria athlete contingent gold silver bronze medals event finish fifth overall medals tally total participation cost indian contingent crore funded government \n",
      "실제 요약 : sports minister india special olympics squad \n",
      "예측 요약 :  india top sports minister to be at asiad\n",
      "\n",
      "\n",
      "원문 : telangana government prepared draft policy electric vehicles proposes benefits manufacturers establish necessary support systems new mode transport policy components manufacturers consumers infrastructure telangana secretary ranjan said expectations industry players included policy \n",
      "실제 요약 : telangana govt draft policy on electric vehicles \n",
      "예측 요약 :  telangana govt to use drones to stop\n",
      "\n",
      "\n",
      "원문 : bihar deputy cm sushil modi tuesday alleged leader opposition tejashwi yadav taken gifts liquor manufacturer loans later written claimed done allow manufacturer set liquor factory rjd termed accusation modi agenda tarnish lalu yadav image \n",
      "실제 요약 : tejashwi took loan from liquor sushil modi \n",
      "예측 요약 :  nitish kumar to join tax assets in bihar\n",
      "\n",
      "\n",
      "원문 : activist rao saturday arrested house hyderabad case related bhima koregaon violence alleged maoist links comes three week extension house arrest granted hyderabad hc came end year old reportedly arrested least cases spent six years prison \n",
      "실제 요약 : activist rao taken in custody as house arrest ends \n",
      "예측 요약 :  arrested for lynching in maharashtra\n",
      "\n",
      "\n"
     ]
    }
   ],
   "source": [
    "for i in range(50, 100):\n",
    "    print(\"원문 :\", seq2text(encoder_input_test[i]))\n",
    "    print(\"실제 요약 :\", seq2summary(decoder_input_test[i]))\n",
    "    print(\"예측 요약 :\", decode_sequence(encoder_input_test[i].reshape(1, text_max_len)))\n",
    "    print(\"\\n\")"
   ]
  },
  {
   "cell_type": "markdown",
   "id": "af9df668",
   "metadata": {},
   "source": [
    "> 3.5 Summa을 이용해서 추출적 요약해보기"
   ]
  },
  {
   "cell_type": "code",
   "execution_count": 2,
   "id": "c47bfe4a",
   "metadata": {},
   "outputs": [],
   "source": [
    "import requests\n",
    "from summa.summarizer import summarize"
   ]
  },
  {
   "cell_type": "code",
   "execution_count": 8,
   "id": "b274d972",
   "metadata": {
    "scrolled": true
   },
   "outputs": [],
   "source": [
    "text = pd.read_csv('news_summary_more.csv', encoding='iso-8859-1')"
   ]
  },
  {
   "cell_type": "code",
   "execution_count": 18,
   "id": "84901f11",
   "metadata": {},
   "outputs": [
    {
     "data": {
      "text/html": [
       "<div>\n",
       "<style scoped>\n",
       "    .dataframe tbody tr th:only-of-type {\n",
       "        vertical-align: middle;\n",
       "    }\n",
       "\n",
       "    .dataframe tbody tr th {\n",
       "        vertical-align: top;\n",
       "    }\n",
       "\n",
       "    .dataframe thead th {\n",
       "        text-align: right;\n",
       "    }\n",
       "</style>\n",
       "<table border=\"1\" class=\"dataframe\">\n",
       "  <thead>\n",
       "    <tr style=\"text-align: right;\">\n",
       "      <th></th>\n",
       "      <th>headlines</th>\n",
       "      <th>text</th>\n",
       "    </tr>\n",
       "  </thead>\n",
       "  <tbody>\n",
       "    <tr>\n",
       "      <th>0</th>\n",
       "      <td>upGrad learner switches to career in ML &amp; Al w...</td>\n",
       "      <td>Saurav Kant, an alumnus of upGrad and IIIT-B's...</td>\n",
       "    </tr>\n",
       "    <tr>\n",
       "      <th>1</th>\n",
       "      <td>Delhi techie wins free food from Swiggy for on...</td>\n",
       "      <td>Kunal Shah's credit card bill payment platform...</td>\n",
       "    </tr>\n",
       "    <tr>\n",
       "      <th>2</th>\n",
       "      <td>New Zealand end Rohit Sharma-led India's 12-ma...</td>\n",
       "      <td>New Zealand defeated India by 8 wickets in the...</td>\n",
       "    </tr>\n",
       "    <tr>\n",
       "      <th>3</th>\n",
       "      <td>Aegon life iTerm insurance plan helps customer...</td>\n",
       "      <td>With Aegon Life iTerm Insurance plan, customer...</td>\n",
       "    </tr>\n",
       "    <tr>\n",
       "      <th>4</th>\n",
       "      <td>Have known Hirani for yrs, what if MeToo claim...</td>\n",
       "      <td>Speaking about the sexual harassment allegatio...</td>\n",
       "    </tr>\n",
       "    <tr>\n",
       "      <th>5</th>\n",
       "      <td>Rahat Fateh Ali Khan denies getting notice for...</td>\n",
       "      <td>Pakistani singer Rahat Fateh Ali Khan has deni...</td>\n",
       "    </tr>\n",
       "    <tr>\n",
       "      <th>6</th>\n",
       "      <td>India get all out for 92, their lowest ODI tot...</td>\n",
       "      <td>India recorded their lowest ODI total in New Z...</td>\n",
       "    </tr>\n",
       "    <tr>\n",
       "      <th>7</th>\n",
       "      <td>Govt directs Alok Verma to join work 1 day bef...</td>\n",
       "      <td>Weeks after ex-CBI Director Alok Verma told th...</td>\n",
       "    </tr>\n",
       "    <tr>\n",
       "      <th>8</th>\n",
       "      <td>Called PM Modi 'sir' 10 times to satisfy his e...</td>\n",
       "      <td>Andhra Pradesh CM N Chandrababu Naidu has said...</td>\n",
       "    </tr>\n",
       "    <tr>\n",
       "      <th>9</th>\n",
       "      <td>Cong wins Ramgarh bypoll in Rajasthan, takes t...</td>\n",
       "      <td>Congress candidate Shafia Zubair won the Ramga...</td>\n",
       "    </tr>\n",
       "  </tbody>\n",
       "</table>\n",
       "</div>"
      ],
      "text/plain": [
       "                                           headlines  \\\n",
       "0  upGrad learner switches to career in ML & Al w...   \n",
       "1  Delhi techie wins free food from Swiggy for on...   \n",
       "2  New Zealand end Rohit Sharma-led India's 12-ma...   \n",
       "3  Aegon life iTerm insurance plan helps customer...   \n",
       "4  Have known Hirani for yrs, what if MeToo claim...   \n",
       "5  Rahat Fateh Ali Khan denies getting notice for...   \n",
       "6  India get all out for 92, their lowest ODI tot...   \n",
       "7  Govt directs Alok Verma to join work 1 day bef...   \n",
       "8  Called PM Modi 'sir' 10 times to satisfy his e...   \n",
       "9  Cong wins Ramgarh bypoll in Rajasthan, takes t...   \n",
       "\n",
       "                                                text  \n",
       "0  Saurav Kant, an alumnus of upGrad and IIIT-B's...  \n",
       "1  Kunal Shah's credit card bill payment platform...  \n",
       "2  New Zealand defeated India by 8 wickets in the...  \n",
       "3  With Aegon Life iTerm Insurance plan, customer...  \n",
       "4  Speaking about the sexual harassment allegatio...  \n",
       "5  Pakistani singer Rahat Fateh Ali Khan has deni...  \n",
       "6  India recorded their lowest ODI total in New Z...  \n",
       "7  Weeks after ex-CBI Director Alok Verma told th...  \n",
       "8  Andhra Pradesh CM N Chandrababu Naidu has said...  \n",
       "9  Congress candidate Shafia Zubair won the Ramga...  "
      ]
     },
     "execution_count": 18,
     "metadata": {},
     "output_type": "execute_result"
    }
   ],
   "source": [
    "text[:10]"
   ]
  },
  {
   "cell_type": "code",
   "execution_count": 33,
   "id": "3b0f3ca6",
   "metadata": {
    "scrolled": false
   },
   "outputs": [
    {
     "name": "stdout",
     "output_type": "stream",
     "text": [
      "Text:\n",
      "원문: upGrad learner switches to career in ML & Al with 90% salary hike\n",
      "요약 : upGrad's Online Power Learning has powered 3 lakh+ careers.\n",
      "\n",
      "원문: Delhi techie wins free food from Swiggy for one year on CRED\n",
      "요약 : Users get one CRED coin per rupee of bill paid, which can be used to avail rewards from brands like Ixigo, BookMyShow, UberEats, Cult.Fit and more.\n",
      "\n",
      "원문: New Zealand end Rohit Sharma-led India's 12-match winning streak\n",
      "요약 : The match witnessed India getting all out for 92, their seventh lowest total in ODI cricket history.\n",
      "\n",
      "원문: Aegon life iTerm insurance plan helps customers save tax\n",
      "요약 : Also, customers have options to insure against Critical Illnesses, Disability and Accidental Death Benefit Rider with a life cover up to the age of 80 years.\n",
      "\n",
      "원문: Have known Hirani for yrs, what if MeToo claims are not true: Sonam\n",
      "요약 : Speaking about the sexual harassment allegations against Rajkumar Hirani, Sonam Kapoor said, \"I've known Hirani for many years...What if it's not true, the [#MeToo] movement will get derailed.\" \"In the #MeToo movement, I always believe a woman.\n",
      "\n",
      "원문: Rahat Fateh Ali Khan denies getting notice for smuggling currency\n",
      "요약 : Pakistani singer Rahat Fateh Ali Khan has denied receiving any notice from the Enforcement Directorate over allegedly smuggling foreign currency out of India.\n",
      "\n",
      "원문: India get all out for 92, their lowest ODI total in New Zealand\n",
      "요약 : India's previous lowest ODI total in New Zealand was 108.\n",
      "\n",
      "원문: Govt directs Alok Verma to join work 1 day before his retirement\n",
      "요약 : Weeks after ex-CBI Director Alok Verma told the Department of Personnel and Training to consider him retired, the Home Ministry asked him to join work on the last day of his fixed tenure as Director on Thursday.\n",
      "\n",
      "원문: Called PM Modi 'sir' 10 times to satisfy his ego: Andhra CM\n",
      "요약 : Andhra Pradesh CM N Chandrababu Naidu has said, \"When I met then US President Bill Clinton, I addressed him as Mr Clinton, not as 'sir'.\n",
      "\n",
      "원문: Cong wins Ramgarh bypoll in Rajasthan, takes total to 100 seats\n",
      "요약 : Congress candidate Shafia Zubair won the Ramgarh Assembly seat in Rajasthan, by defeating BJP's Sukhwant Singh with a margin of 12,228 votes in the bypoll.\n",
      "\n"
     ]
    }
   ],
   "source": [
    "print('Text:')\n",
    "for i in range(10):\n",
    "    print(f\"원문: {text['headlines'][i]}\")\n",
    "    print(\"요약 :\",summarize(text['text'][i], ratio=0.5))\n",
    "    print()"
   ]
  },
  {
   "cell_type": "markdown",
   "id": "e1686aa2",
   "metadata": {},
   "source": [
    "> **4. 회고**\n",
    "-"
   ]
  },
  {
   "cell_type": "markdown",
   "id": "1f07490b",
   "metadata": {},
   "source": [
    "> 4.1 결과 평가"
   ]
  },
  {
   "cell_type": "markdown",
   "id": "ae5ec7b2",
   "metadata": {},
   "source": [
    "<추상적 요약>  \n",
    "원문 : soldiers fighting world war ceased played football enemy troops christmas day starting christmas eve german allied troops exchanged presents cigarettes singing even fallen soldiers bodies christmas truce came five months outbreak europe   \n",
    "실제 요약 : soldiers stopped world war played football on christmas   \n",
    "예측 요약 :  army to perform at stadium for  \n",
    "\n",
    "제대로 훈련된게 아닌건지 실제 요약과 예상 요약이 굉장히 다름을 볼 수있었다.  \n",
    "\n",
    "\n",
    "<추출적 요약>\n",
    "추출적 요약도 마찬가지로 제대로 요약할 수는 없었습니다.\n",
    "\n",
    "원문: Delhi techie wins free food from Swiggy for one year on CRED   \n",
    "요약 : Users get one CRED coin per rupee of bill paid, which can be used to avail rewards from brands like Ixigo, BookMyShow, UberEats, Cult.Fit and more.  "
   ]
  },
  {
   "cell_type": "markdown",
   "id": "3c2ace12",
   "metadata": {},
   "source": [
    "> 4.2 어려웠던 점"
   ]
  },
  {
   "cell_type": "markdown",
   "id": "d0bced67",
   "metadata": {},
   "source": [
    "훈련에 걸리는 시간이 굉장히 길어서 다양한 각도로 시험해보고 싶었는데 시간이 부족했다."
   ]
  },
  {
   "cell_type": "markdown",
   "id": "d79aea99",
   "metadata": {},
   "source": [
    "> 4.3 참조"
   ]
  },
  {
   "cell_type": "markdown",
   "id": "38e7aea9",
   "metadata": {},
   "source": [
    "추출적 요약에서 헤매는 와중에 LMS 1조에 **채은님**의 도움을 받아서 해결할 수 있었습니다!"
   ]
  }
 ],
 "metadata": {
  "kernelspec": {
   "display_name": "Python 3 (ipykernel)",
   "language": "python",
   "name": "python3"
  },
  "language_info": {
   "codemirror_mode": {
    "name": "ipython",
    "version": 3
   },
   "file_extension": ".py",
   "mimetype": "text/x-python",
   "name": "python",
   "nbconvert_exporter": "python",
   "pygments_lexer": "ipython3",
   "version": "3.9.7"
  }
 },
 "nbformat": 4,
 "nbformat_minor": 5
}
