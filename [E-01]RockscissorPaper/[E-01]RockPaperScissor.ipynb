{
 "cells": [
  {
   "cell_type": "markdown",
   "id": "5e099d0f",
   "metadata": {},
   "source": [
    "# [E01]. Rock Scissor Paper\n",
    "\n",
    "> **목차**\n",
    "+ 루브릭 평가기준\n",
    "+ 개요\n",
    "+ 데이터 전처리 작업( 리사이징, 정규화)\n",
    "+ 훈련\n",
    "+ 시험\n",
    "+ 회고\n",
    "\n",
    "---\n",
    "\n",
    "> **루브릭 평가기준**\n",
    "\n",
    "+ 이미지 분류기 모델이 성공적으로 만들어졌는지?\n",
    "+ 오버피팅을 극복하기 위한 적절한 시도가 있었는지?\n",
    "+ 분류모델의 test accuracy가 기준 이상 높게 나왔는지? ( 정확도 60%이상)\n"
   ]
  },
  {
   "cell_type": "markdown",
   "id": "698db310",
   "metadata": {},
   "source": [
    ">**개요**\n",
    "\n",
    "---\n",
    "시험에 들어가기 앞서 예상 및 시험 정보\n",
    "\n",
    "---\n",
    "\n",
    "훈련에 사용되는 데이터는 총 3900장으로 가위, 바위, 보 각각 1300장씩 할당했다.\n",
    "\n",
    "추후 시험용 데이터는 새로운 데이터 300장으로 시험할 예정이다.\n",
    "\n",
    "예상되는 문제점으로는\n",
    "+ 새로운 데이터를 가지고 시험할 예정인데 그 데이터의 상태에 따라 실험의 정확도 차이가 클것으로 예상된다.\n",
    "+ 검증용 데이터 없이 시험을 진행할 예정이라 분류기가 훈련에 너무 맞춰서 적응할 가능성이 있다.\n",
    "\n",
    "\n"
   ]
  },
  {
   "cell_type": "markdown",
   "id": "92ea32f2",
   "metadata": {},
   "source": [
    ">**데이터 전처리 작업 ( 리사이징 , 정규화 )**\n",
    "\n",
    "***why 리사이징 ?***\n",
    "\n",
    "***기존 이미지는 224x224의 사이즈인데 필요한 사진 크기는 28x28이기 때문***\n",
    "\n"
   ]
  },
  {
   "cell_type": "code",
   "execution_count": 12,
   "id": "b69a79cd",
   "metadata": {},
   "outputs": [],
   "source": [
    "from PIL import Image\n",
    "import glob\n",
    "import tensorflow as tf\n",
    "from tensorflow import keras\n",
    "\n",
    "import numpy as np\n",
    "import matplotlib.pyplot as plt\n",
    "import os\n",
    "\n",
    "\n"
   ]
  },
  {
   "cell_type": "code",
   "execution_count": 13,
   "id": "74bbf5d9",
   "metadata": {},
   "outputs": [
    {
     "name": "stdout",
     "output_type": "stream",
     "text": [
      "1300  images to be resized.\n",
      "1300  images resized.\n",
      "가위 이미지 resize 완료!\n",
      "1300  images to be resized.\n",
      "1300  images resized.\n",
      "바위 이미지 resize 완료!\n",
      "1300  images to be resized.\n",
      "1300  images resized.\n",
      "보 이미지 resize 완료!\n"
     ]
    }
   ],
   "source": [
    "def resize_images(img_path): \n",
    "\timages=glob.glob(img_path + \"/*.jpg\")  \n",
    "    \n",
    "\tprint(len(images), \" images to be resized.\")\n",
    "\n",
    "    # 파일마다 모두 28x28 사이즈로 바꾸어 저장합니다.\n",
    "\ttarget_size=(28,28)\n",
    "\tfor img in images:\n",
    "\t\told_img=Image.open(img)\n",
    "\t\tnew_img=old_img.resize(target_size,Image.ANTIALIAS)\n",
    "\t\tnew_img.save(img, \"JPEG\")\n",
    "    \n",
    "\tprint(len(images), \" images resized.\")\n",
    "\t\n",
    "# 가위 이미지가 저장된 디렉토리 아래의 모든 jpg 파일을 읽어들여서\n",
    "image_dir_path = os.getenv(\"HOME\") + \"/aiffel/rock_scissor_paper/scissor\"\n",
    "resize_images(image_dir_path)\n",
    "\n",
    "print(\"가위 이미지 resize 완료!\")\n",
    "\n",
    "# 바위 이미지가 저장된 디렉토리 아래의 모든 jpg 파일을 읽어들여서\n",
    "image_dir_path2 = os.getenv(\"HOME\") + \"/aiffel/rock_scissor_paper/rock\"\n",
    "resize_images(image_dir_path2)\n",
    "\n",
    "print(\"바위 이미지 resize 완료!\")\n",
    "\n",
    "# 보 이미지가 저장된 디렉토리 아래의 모든 jpg 파일을 읽어들여서\n",
    "image_dir_path3 = os.getenv(\"HOME\") + \"/aiffel/rock_scissor_paper/paper\"\n",
    "resize_images(image_dir_path3)\n",
    "\n",
    "print(\"보 이미지 resize 완료!\")\n",
    "\n"
   ]
  },
  {
   "cell_type": "code",
   "execution_count": 14,
   "id": "0b8ae94c",
   "metadata": {},
   "outputs": [
    {
     "name": "stdout",
     "output_type": "stream",
     "text": [
      "학습데이터(x_train)의 이미지 개수는 3900 입니다.\n",
      "x_train shape: (3900, 28, 28, 3)\n",
      "y_train shape: (3900,)\n"
     ]
    }
   ],
   "source": [
    "def load_data(img_path, number_of_data=3900):  # 가위바위보 이미지 개수 총합은 3900개이다. 각각 1300개\n",
    "    # 가위 : 0, 바위 : 1, 보 : 2\n",
    "    img_size=28\n",
    "    color=3\n",
    "    #이미지 데이터와 라벨(가위 : 0, 바위 : 1, 보 : 2) 데이터를 담을 행렬(matrix) 영역을 생성합니다.\n",
    "    imgs=np.zeros(number_of_data*img_size*img_size*color,dtype=np.int32).reshape(number_of_data,img_size,img_size,color)\n",
    "    labels=np.zeros(number_of_data,dtype=np.int32)\n",
    "\n",
    "    idx=0\n",
    "    for file in glob.iglob(img_path+'/scissor/*.jpg'):\n",
    "        img = np.array(Image.open(file),dtype=np.int32)\n",
    "        imgs[idx,:,:,:]=img    # 데이터 영역에 이미지 행렬을 복사\n",
    "        labels[idx]=0   # 가위 : 0\n",
    "        idx=idx+1\n",
    "\n",
    "    for file in glob.iglob(img_path+'/rock/*.jpg'):\n",
    "        img = np.array(Image.open(file),dtype=np.int32)\n",
    "        imgs[idx,:,:,:]=img    # 데이터 영역에 이미지 행렬을 복사\n",
    "        labels[idx]=1   # 바위 : 1\n",
    "        idx=idx+1  \n",
    "    \n",
    "    for file in glob.iglob(img_path+'/paper/*.jpg'):\n",
    "        img = np.array(Image.open(file),dtype=np.int32)\n",
    "        imgs[idx,:,:,:]=img    # 데이터 영역에 이미지 행렬을 복사\n",
    "        labels[idx]=2   # 보 : 2\n",
    "        idx=idx+1\n",
    "        \n",
    "    print(\"학습데이터(x_train)의 이미지 개수는\", idx,\"입니다.\")\n",
    "    return imgs, labels\n",
    "\n",
    "image_dir_path = os.getenv(\"HOME\") + \"/aiffel/rock_scissor_paper\"\n",
    "(x_train, y_train)=load_data(image_dir_path)\n",
    "x_train_norm = x_train/255.0   # 입력은 0~1 사이의 값으로 정규화\n",
    "\n",
    "print(\"x_train shape: {}\".format(x_train.shape))\n",
    "print(\"y_train shape: {}\".format(y_train.shape))"
   ]
  },
  {
   "cell_type": "code",
   "execution_count": 15,
   "id": "ad2c2269",
   "metadata": {},
   "outputs": [
    {
     "name": "stdout",
     "output_type": "stream",
     "text": [
      "라벨:  0\n"
     ]
    },
    {
     "data": {
      "image/png": "[encoded data removed]",
      "text/plain": [
       "<Figure size 432x288 with 1 Axes>"
      ]
     },
     "metadata": {
      "needs_background": "light"
     },
     "output_type": "display_data"
    }
   ],
   "source": [
    "# 이미지 불러오기\n",
    "plt.imshow(x_train[0])\n",
    "print('라벨: ', y_train[0])"
   ]
  },
  {
   "cell_type": "markdown",
   "id": "1815bdd5",
   "metadata": {},
   "source": [
    "> 딥러닝 네트워크 설계하기"
   ]
  },
  {
   "cell_type": "code",
   "execution_count": 58,
   "id": "dd544817",
   "metadata": {
    "scrolled": false
   },
   "outputs": [
    {
     "name": "stdout",
     "output_type": "stream",
     "text": [
      "Model: \"sequential_11\"\n",
      "_________________________________________________________________\n",
      "Layer (type)                 Output Shape              Param #   \n",
      "=================================================================\n",
      "conv2d_22 (Conv2D)           (None, 26, 26, 16)        448       \n",
      "_________________________________________________________________\n",
      "max_pooling2d_22 (MaxPooling (None, 13, 13, 16)        0         \n",
      "_________________________________________________________________\n",
      "conv2d_23 (Conv2D)           (None, 11, 11, 64)        9280      \n",
      "_________________________________________________________________\n",
      "max_pooling2d_23 (MaxPooling (None, 5, 5, 64)          0         \n",
      "_________________________________________________________________\n",
      "flatten_11 (Flatten)         (None, 1600)              0         \n",
      "_________________________________________________________________\n",
      "dense_22 (Dense)             (None, 32)                51232     \n",
      "_________________________________________________________________\n",
      "dense_23 (Dense)             (None, 3)                 99        \n",
      "=================================================================\n",
      "Total params: 61,059\n",
      "Trainable params: 61,059\n",
      "Non-trainable params: 0\n",
      "_________________________________________________________________\n",
      "Before Reshape - x_train_norm shape: (3900, 28, 28, 3)\n",
      "After Reshape - x_train_reshaped shape: (3900, 28, 28, 3)\n"
     ]
    }
   ],
   "source": [
    "\n",
    "\n",
    "n_channel_1=16   # 우선적 이미지의 특징 n개\n",
    "n_channel_2=64   # 이후 n개씩의 특징  \n",
    "n_dense=32       # 얼마나 복잡하게 할껀지 // 뉴런의 숫자\n",
    "n_train_epoch=5 # 반복 횟수 \n",
    "\n",
    "# MNIST 실험때 60000개를 가지고 실험한 반면 가위바위보는 3900개 표본으로 하기 때문에 복잡도와 반복횟수를 더 크게 했다.\n",
    "\n",
    "model=keras.models.Sequential()\n",
    "model.add(keras.layers.Conv2D(n_channel_1, (3,3), activation='relu', input_shape=(28,28,3)))\n",
    "model.add(keras.layers.MaxPool2D(2,2))\n",
    "model.add(keras.layers.Conv2D(n_channel_2, (3,3), activation='relu'))\n",
    "model.add(keras.layers.MaxPooling2D((2,2)))\n",
    "model.add(keras.layers.Flatten())\n",
    "model.add(keras.layers.Dense(n_dense, activation='relu'))\n",
    "model.add(keras.layers.Dense(3, activation='softmax')) # 가위바위보 세개를 구분하기 때문에 3을 넣었다.\n",
    "\n",
    "model.summary() # 중간 확인\n",
    "\n",
    "print(\"Before Reshape - x_train_norm shape: {}\".format(x_train_norm.shape))\n",
    "x_train_reshaped=x_train_norm.reshape( 3900, 28, 28, 3)  # 데이터갯수에 -1을 쓰면 reshape시 자동계산됩니다.\n",
    "\n",
    "print(\"After Reshape - x_train_reshaped shape: {}\".format(x_train_reshaped.shape))"
   ]
  },
  {
   "cell_type": "markdown",
   "id": "142ee5da",
   "metadata": {},
   "source": [
    ">**훈련**"
   ]
  },
  {
   "cell_type": "code",
   "execution_count": 59,
   "id": "9aa1683f",
   "metadata": {
    "scrolled": true
   },
   "outputs": [
    {
     "name": "stdout",
     "output_type": "stream",
     "text": [
      "Epoch 1/5\n",
      "122/122 [==============================] - 1s 3ms/step - loss: 1.0320 - accuracy: 0.4679\n",
      "Epoch 2/5\n",
      "122/122 [==============================] - 0s 3ms/step - loss: 0.7521 - accuracy: 0.6985\n",
      "Epoch 3/5\n",
      "122/122 [==============================] - 0s 3ms/step - loss: 0.5403 - accuracy: 0.8051\n",
      "Epoch 4/5\n",
      "122/122 [==============================] - 0s 3ms/step - loss: 0.4029 - accuracy: 0.8621\n",
      "Epoch 5/5\n",
      "122/122 [==============================] - 0s 3ms/step - loss: 0.3220 - accuracy: 0.8913\n"
     ]
    },
    {
     "data": {
      "text/plain": [
       "<keras.callbacks.History at 0x7f2f71a25370>"
      ]
     },
     "execution_count": 59,
     "metadata": {},
     "output_type": "execute_result"
    }
   ],
   "source": [
    "model.compile(optimizer='adam',\n",
    "             loss='sparse_categorical_crossentropy',\n",
    "             metrics=['accuracy'])\n",
    "\n",
    "model.fit(x_train_reshaped, y_train, epochs=5)"
   ]
  },
  {
   "cell_type": "code",
   "execution_count": 60,
   "id": "9cce028c",
   "metadata": {},
   "outputs": [
    {
     "name": "stdout",
     "output_type": "stream",
     "text": [
      "100  images to be resized.\n",
      "100  images resized.\n",
      "가위 이미지 resize 완료!\n",
      "100  images to be resized.\n",
      "100  images resized.\n",
      "바위 이미지 resize 완료!\n",
      "100  images to be resized.\n",
      "100  images resized.\n",
      "보 이미지 resize 완료!\n"
     ]
    }
   ],
   "source": [
    "# 리사이즈\n",
    "\n",
    "def resize_images(img_path): \n",
    "\timages=glob.glob(img_path + \"/*.jpg\")  \n",
    "    \n",
    "\tprint(len(images), \" images to be resized.\")\n",
    "\n",
    "    # 파일마다 모두 28x28 사이즈로 바꾸어 저장합니다.\n",
    "\ttarget_size=(28,28)\n",
    "\tfor img in images:\n",
    "\t\told_img=Image.open(img)\n",
    "\t\tnew_img=old_img.resize(target_size,Image.ANTIALIAS)\n",
    "\t\tnew_img.save(img, \"JPEG\")\n",
    "    \n",
    "\tprint(len(images), \" images resized.\")\n",
    "\t\n",
    "# 가위 이미지가 저장된 디렉토리 아래의 모든 jpg 파일을 읽어들여서\n",
    "image_dir_path4 = os.getenv(\"HOME\") + \"/aiffel/rock_scissor_paper/test/scissor\"\n",
    "resize_images(image_dir_path4)\n",
    "\n",
    "print(\"가위 이미지 resize 완료!\")\n",
    "\n",
    "# 바위 이미지가 저장된 디렉토리 아래의 모든 jpg 파일을 읽어들여서\n",
    "image_dir_path5 = os.getenv(\"HOME\") + \"/aiffel/rock_scissor_paper/test/rock\"\n",
    "resize_images(image_dir_path5)\n",
    "\n",
    "print(\"바위 이미지 resize 완료!\")\n",
    "\n",
    "# 보 이미지가 저장된 디렉토리 아래의 모든 jpg 파일을 읽어들여서\n",
    "image_dir_path6 = os.getenv(\"HOME\") + \"/aiffel/rock_scissor_paper/test/paper\"\n",
    "resize_images(image_dir_path6)\n",
    "\n",
    "print(\"보 이미지 resize 완료!\")"
   ]
  },
  {
   "cell_type": "code",
   "execution_count": 61,
   "id": "022d1c69",
   "metadata": {},
   "outputs": [
    {
     "name": "stdout",
     "output_type": "stream",
     "text": [
      "학습데이터(x_test)의 이미지 개수는 300 입니다.\n",
      "x_test shape: (300, 28, 28, 3)\n",
      "y_test shape: (300,)\n",
      "Before Reshape - x_test_norm shape: (300, 28, 28, 3)\n",
      "After Reshape - x_t_reshaped shape: (300, 28, 28, 3)\n"
     ]
    }
   ],
   "source": [
    "# 가위바위보 테스트 데이터 만들기\n",
    "\n",
    "def load_data2(img_path, number_of_data=300):  #  테스트 이미지 300장\n",
    "    # 가위 : 0, 바위 : 1, 보 : 2\n",
    "    img_size=28\n",
    "    color=3\n",
    "    #이미지 데이터와 라벨(가위 : 0, 바위 : 1, 보 : 2) 데이터를 담을 행렬(matrix) 영역을 생성합니다.\n",
    "    imgs=np.zeros(number_of_data*img_size*img_size*color,dtype=np.int32).reshape(number_of_data,img_size,img_size,color)\n",
    "    labels=np.zeros(number_of_data,dtype=np.int32)\n",
    "\n",
    "    idx=0\n",
    "    for file in glob.iglob(img_path+'/scissor/*.jpg'):\n",
    "        img = np.array(Image.open(file),dtype=np.int32)\n",
    "        imgs[idx,:,:,:]=img    # 데이터 영역에 이미지 행렬을 복사\n",
    "        labels[idx]=0   # 가위 : 0\n",
    "        idx=idx+1\n",
    "\n",
    "    for file in glob.iglob(img_path+'/rock/*.jpg'):\n",
    "        img = np.array(Image.open(file),dtype=np.int32)\n",
    "        imgs[idx,:,:,:]=img    # 데이터 영역에 이미지 행렬을 복사\n",
    "        labels[idx]=1   # 바위 : 1\n",
    "        idx=idx+1  \n",
    "    \n",
    "    for file in glob.iglob(img_path+'/paper/*.jpg'):\n",
    "        img = np.array(Image.open(file),dtype=np.int32)\n",
    "        imgs[idx,:,:,:]=img    # 데이터 영역에 이미지 행렬을 복사\n",
    "        labels[idx]=2   # 보 : 2\n",
    "        idx=idx+1\n",
    "        \n",
    "    print(\"학습데이터(x_test)의 이미지 개수는\", idx,\"입니다.\")\n",
    "    return imgs, labels\n",
    "\n",
    "image_dir_path = os.getenv(\"HOME\") + \"/aiffel/rock_scissor_paper/test\"\n",
    "(x_test, y_test)=load_data2(image_dir_path)\n",
    "x_test_norm = x_test/255.0   # 입력은 0~1 사이의 값으로 정규화\n",
    "\n",
    "print(\"x_test shape: {}\".format(x_test.shape))\n",
    "print(\"y_test shape: {}\".format(y_test.shape))\n",
    "\n",
    "print(\"Before Reshape - x_test_norm shape: {}\".format(x_test_norm.shape))\n",
    "x_test_reshaped=x_test_norm.reshape( 300, 28, 28, 3)  # 데이터갯수에 -1을 쓰면 reshape시 자동계산됩니다.\n",
    "\n",
    "print(\"After Reshape - x_t_reshaped shape: {}\".format(x_test_reshaped.shape))"
   ]
  },
  {
   "cell_type": "markdown",
   "id": "b54995f3",
   "metadata": {},
   "source": [
    "> **시험 - 모델 확인 ( Evalueate ) **"
   ]
  },
  {
   "cell_type": "code",
   "execution_count": 62,
   "id": "d69219dd",
   "metadata": {},
   "outputs": [
    {
     "name": "stdout",
     "output_type": "stream",
     "text": [
      "10/10 - 0s - loss: 0.7239 - accuracy: 0.7333\n",
      "test_loss: 0.7239176630973816 \n",
      "test_accuracy: 0.7333333492279053\n"
     ]
    }
   ],
   "source": [
    "test_loss, test_accuracy = model.evaluate(x_test_reshaped,y_test, verbose=2)\n",
    "print(\"test_loss: {} \".format(test_loss))\n",
    "print(\"test_accuracy: {}\".format(test_accuracy))"
   ]
  },
  {
   "cell_type": "markdown",
   "id": "4a40c17b",
   "metadata": {},
   "source": [
    "> **회고**"
   ]
  },
  {
   "attachments": {
    "image-2.png": {
     "image/png": "[encoded data removed]"
    },
    "image.png": {
     "image/png": "[encoded data removed]"
    }
   },
   "cell_type": "markdown",
   "id": "114d9ada",
   "metadata": {},
   "source": [
    "# 시행착오\n",
    "1차 시도(정확도 38%)\n",
    "---\n",
    "**실험조건**  \n",
    "3900장의 사진   \n",
    "n_channe1l_1=16   # 우선적 이미지의 특징 n개  \n",
    "n_channel_2=32   # 이후 n개씩의 특징   \n",
    "n_dense=128       # 얼마나 복잡하게 할껀지 // 뉴런의 숫자  \n",
    "n_train_epoch=100 # 반복 횟수  \n",
    "\n",
    "**결과**  \n",
    "test_loss: 6.21818733215332  \n",
    "test_accuracy: 0.3799999952316284  \n",
    "\n",
    "**개선 방법 생각**  \n",
    "![image.png](attachment:image.png)  \n",
    "\n",
    "100번이나 반복을 할 이유가 없음을 알 수 있었습니다.\n",
    "그래서 다음에는 10회 정도로 조절을 해서 나온 결과값을 다시 분석해봐야 겠다는 결론이 나왔습니다.\n",
    "\n",
    "2차 시도(정확도 46%)\n",
    "---  \n",
    "**실험조건**  \n",
    "3900장의 사진 \n",
    "n_channe1l_1=16   # 우선적 이미지의 특징 n개   \n",
    "n_channel_2=32   # 이후 n개씩의 특징    \n",
    "n_dense=128       # 얼마나 복잡하게 할껀지 // 뉴런의 숫자   \n",
    "n_train_epoch=10 # 반복 횟수   \n",
    "\n",
    "**결과**  \n",
    "test_loss: 1.8674860000610352  \n",
    "test_accuracy: 0.4633333384990692  \n",
    "\n",
    "**개선 방법 생각**   \n",
    "1차시도보다 약 9% 정도 정확도가 증가했으므로 반복 횟수를 좀 더 줄이는건 좋은 판단이었다는 생각이 들었으며, \n",
    "![image-2.png](attachment:image-2.png)\n",
    "위의 자료를 보면 너무 오버 피팅이 되는것 같다는 생각이 들어 반복 횟수를 5회로 줄여서 분석 해봐야 겠다는 생각이 들었습니다.\n",
    "\n",
    "3차 시도(정확도 48%)\n",
    "---  \n",
    "**실험조건**  \n",
    "3900장의 사진 \n",
    "n_channe1l_1=16   # 우선적 이미지의 특징 n개   \n",
    "n_channel_2=32   # 이후 n개씩의 특징    \n",
    "n_dense=128       # 얼마나 복잡하게 할껀지 // 뉴런의 숫자   \n",
    "n_train_epoch=5 # 반복 횟수   \n",
    "\n",
    "**결과**  \n",
    "test_loss: 1.115067958831787 \n",
    "test_accuracy: 0.4866666793823242 \n",
    "\n",
    "**개선 방법 생각**   \n",
    "반복으로 인한 오버피팅이 문제라는 생각을 했는데, 정확도는 2% 정도 밖에 증가하지 않았다.  \n",
    "이번에는 뉴런의 숫자를 줄여서 분석을 새롭게 해봐야겠다는 생각이 들었습니다.\n",
    "\n",
    "4차 시도(정확도 54%)\n",
    "---  \n",
    "**실험조건**  \n",
    "3900장의 사진 \n",
    "n_channe1l_1=16   # 우선적 이미지의 특징 n개   \n",
    "n_channel_2=32   # 이후 n개씩의 특징    \n",
    "n_dense=32       # 얼마나 복잡하게 할껀지 // 뉴런의 숫자   \n",
    "n_train_epoch=5 # 반복 횟수   \n",
    "\n",
    "**결과**  \n",
    "test_loss: 0.948621928691864 \n",
    "test_accuracy: 0.5433333516120911\n",
    "\n",
    "**개선 방법 생각**   \n",
    "드디어 54%로 유의미한 값이 나왔는데 이번 시도를 통해서 분류기의 정확도가 90프로 이상인게  \n",
    "오히려 오버피팅이 되어 안좋은 결과값을 만들어 낸다는 생각이 들었습니다.  \n",
    "다음 시도에서는 뉴런의 수를 좀 더 줄여서 오버 피팅을 줄이는 방향으로 시도 해보겠습니다.\n",
    "\n",
    "5차 시도(정확도 46%)\n",
    "---  \n",
    "**실험조건**  \n",
    "3900장의 사진 \n",
    "n_channe1l_1=16   # 우선적 이미지의 특징 n개   \n",
    "n_channel_2=32   # 이후 n개씩의 특징    \n",
    "n_dense=16       # 얼마나 복잡하게 할껀지 // 뉴런의 숫자   \n",
    "n_train_epoch=5 # 반복 횟수   \n",
    "\n",
    "**결과**  \n",
    "test_loss: 1.0836000442504883 \n",
    "test_accuracy: 0.46000000834465027\n",
    "\n",
    "**개선 방법 생각**   \n",
    "뉴런의 수를 줄였더니 오히려 정확도가 떨어졌습니다. 때문에 뉴런 수는 이제 4차시도 그대로 두고 채널을 좀 더 크게 해서 다시 시도해보도록 하겠습니다.\n",
    "\n",
    "\n",
    "6차 시도 (정확도 73%)\n",
    "---  \n",
    "**실험조건**  \n",
    "3900장의 사진 \n",
    "n_channe1l_1=16   # 우선적 이미지의 특징 n개   \n",
    "n_channel_2=64   # 이후 n개씩의 특징    \n",
    "n_dense=32       # 얼마나 복잡하게 할껀지 // 뉴런의 숫자   \n",
    "n_train_epoch=5 # 반복 횟수   \n",
    "\n",
    "**결과**  \n",
    "test_loss: 0.7239176630973816 \n",
    "test_accuracy: 0.7333333492279053\n"
   ]
  },
  {
   "cell_type": "markdown",
   "id": "c508be3d",
   "metadata": {},
   "source": [
    "# 결론\n",
    "---\n",
    "## 초기 예측과 결과 차이점 분석\n",
    "- 처음에 개요에서 우려했던 신규 데이터의 상태는 문제가 없었습니다.\n",
    "- 반면에 검증용 데이터가 없어서 데이터가 제 생각보다 더 오버피팅됐습니다.\n",
    "---\n",
    "## 어려웠던 점\n",
    "- 오버피팅과 충분한 훈련을 잘 조절해야 되는 점\n",
    "- 처음 접해봤기 때문이지만, 컬러 이미지일 경우 MNIST와 다르게 층을 세개 더 추가해야되는 점\n",
    "---\n",
    "## 이번 과제를 통해 얻은 점\n",
    "- 이미지를 받으면서 사람들이 정말 다양하게 찍어서 솔직히 내심 불안하다 싶은 사진들도 많았습니다. 그래서 최대한 학습을 늘렸는데 오히려 그게 잘못 될 수 있음을 배웠습니다.  \n",
    "- 위 항목과 마찬가지로 뉴런의 수도 많으면 많을 수록 더 똑똑한 분류기가 될 것만 같아서 128이라는 큰 숫자를 넣고 했는데 결과적으로는 그 값이 오히려 정확도를 떨어뜨리게 됨을 알게 되었습니다."
   ]
  }
 ],
 "metadata": {
  "kernelspec": {
   "display_name": "Python 3 (ipykernel)",
   "language": "python",
   "name": "python3"
  },
  "language_info": {
   "codemirror_mode": {
    "name": "ipython",
    "version": 3
   },
   "file_extension": ".py",
   "mimetype": "text/x-python",
   "name": "python",
   "nbconvert_exporter": "python",
   "pygments_lexer": "ipython3",
   "version": "3.9.7"
  }
 },
 "nbformat": 4,
 "nbformat_minor": 5
}
